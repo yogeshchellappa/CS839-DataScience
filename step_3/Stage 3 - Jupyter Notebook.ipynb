{
 "cells": [
  {
   "cell_type": "markdown",
   "metadata": {},
   "source": [
    "# Introduction\n",
    "This IPython notebook explains a basic workflow two tables using py_entitymatching. The goal is to come up with a workflow to match books from Goodreads and Amazon. Specifically, we want to maximize F1. The datasets contain information about the books.\n",
    "\n",
    "First, we need to import py_entitymatching package and other libraries as follows:"
   ]
  },
  {
   "cell_type": "code",
   "execution_count": 1,
   "metadata": {},
   "outputs": [],
   "source": [
    "import py_entitymatching as em\n",
    "import pandas as pd\n",
    "import os\n",
    "import sys\n",
    "from timeit import default_timer as timer"
   ]
  },
  {
   "cell_type": "code",
   "execution_count": 2,
   "metadata": {},
   "outputs": [
    {
     "name": "stdout",
     "output_type": "stream",
     "text": [
      "python version: 3.5.2 (default, Sep 14 2017, 22:51:06) \n",
      "[GCC 5.4.0 20160609]\n",
      "pandas version: 0.20.3\n",
      "magellan version: 0.3.0\n"
     ]
    }
   ],
   "source": [
    "# Display the versions\n",
    "print('python version: ' + sys.version )\n",
    "print('pandas version: ' + pd.__version__ )\n",
    "print('magellan version: ' + em.__version__ )"
   ]
  },
  {
   "cell_type": "markdown",
   "metadata": {},
   "source": [
    "Matching two tables typically consists of the following three steps:\n",
    "\n",
    "1. Reading the input tables\n",
    "\n",
    "2. Blocking the input tables to get a candidate set\n",
    "\n",
    "3. Matching the tuple pairs in the candidate set"
   ]
  },
  {
   "cell_type": "markdown",
   "metadata": {},
   "source": [
    "## Read input tables"
   ]
  },
  {
   "cell_type": "code",
   "execution_count": 3,
   "metadata": {},
   "outputs": [
    {
     "name": "stderr",
     "output_type": "stream",
     "text": [
      "Metadata file is not present in the given path; proceeding to read the csv file.\n",
      "Metadata file is not present in the given path; proceeding to read the csv file.\n"
     ]
    }
   ],
   "source": [
    "source1 = 'source1_cleaned.csv'\n",
    "source2 = 'source2_cleaned.csv'\n",
    "\n",
    "# Read the data\n",
    "data_source1 = em.read_csv_metadata(source1)\n",
    "data_source2 = em.read_csv_metadata(source2)"
   ]
  },
  {
   "cell_type": "code",
   "execution_count": 4,
   "metadata": {},
   "outputs": [
    {
     "data": {
      "text/plain": [
       "True"
      ]
     },
     "execution_count": 4,
     "metadata": {},
     "output_type": "execute_result"
    }
   ],
   "source": [
    "# Set the metadata\n",
    "em.set_key(data_source1, 'ID')\n",
    "em.set_key(data_source2, 'ID')"
   ]
  },
  {
   "cell_type": "code",
   "execution_count": 5,
   "metadata": {},
   "outputs": [
    {
     "name": "stdout",
     "output_type": "stream",
     "text": [
      "Number of tuples in A: 3387\n",
      "Number of tuples in B: 3001\n",
      "Number of tuples in A X B (i.e the cartesian product): 10164387\n"
     ]
    }
   ],
   "source": [
    "print('Number of tuples in A: ' + str(len(data_source1)))\n",
    "print('Number of tuples in B: ' + str(len(data_source2)))\n",
    "print('Number of tuples in A X B (i.e the cartesian product): ' + str(len(data_source1)*len(data_source2)))"
   ]
  },
  {
   "cell_type": "code",
   "execution_count": 6,
   "metadata": {},
   "outputs": [
    {
     "data": {
      "text/html": [
       "<div>\n",
       "<style>\n",
       "    .dataframe thead tr:only-child th {\n",
       "        text-align: right;\n",
       "    }\n",
       "\n",
       "    .dataframe thead th {\n",
       "        text-align: left;\n",
       "    }\n",
       "\n",
       "    .dataframe tbody tr th {\n",
       "        vertical-align: top;\n",
       "    }\n",
       "</style>\n",
       "<table border=\"1\" class=\"dataframe\">\n",
       "  <thead>\n",
       "    <tr style=\"text-align: right;\">\n",
       "      <th></th>\n",
       "      <th>ID</th>\n",
       "      <th>Name</th>\n",
       "      <th>Author</th>\n",
       "      <th>Publisher</th>\n",
       "      <th>Publishing_Date</th>\n",
       "      <th>Format</th>\n",
       "      <th>Pages</th>\n",
       "      <th>Rating</th>\n",
       "    </tr>\n",
       "  </thead>\n",
       "  <tbody>\n",
       "    <tr>\n",
       "      <th>0</th>\n",
       "      <td>0</td>\n",
       "      <td>Age of Myth: Book One of The Legends of the First Empire</td>\n",
       "      <td>Michael J. Sullivan</td>\n",
       "      <td>Del Rey</td>\n",
       "      <td>2017-1-31</td>\n",
       "      <td>Paperback</td>\n",
       "      <td>464.0</td>\n",
       "      <td>4.5</td>\n",
       "    </tr>\n",
       "    <tr>\n",
       "      <th>1</th>\n",
       "      <td>1</td>\n",
       "      <td>Rise of the Dragons (Kings and Sorcerers--Book 1)</td>\n",
       "      <td>Morgan Rice</td>\n",
       "      <td>Morgan Rice</td>\n",
       "      <td>2017-8-4</td>\n",
       "      <td>Hardcover</td>\n",
       "      <td>217.0</td>\n",
       "      <td>4.1</td>\n",
       "    </tr>\n",
       "  </tbody>\n",
       "</table>\n",
       "</div>"
      ],
      "text/plain": [
       "   ID                                                      Name  \\\n",
       "0   0  Age of Myth: Book One of The Legends of the First Empire   \n",
       "1   1         Rise of the Dragons (Kings and Sorcerers--Book 1)   \n",
       "\n",
       "                Author    Publisher Publishing_Date     Format  Pages  Rating  \n",
       "0  Michael J. Sullivan      Del Rey       2017-1-31  Paperback  464.0     4.5  \n",
       "1          Morgan Rice  Morgan Rice        2017-8-4  Hardcover  217.0     4.1  "
      ]
     },
     "execution_count": 6,
     "metadata": {},
     "output_type": "execute_result"
    }
   ],
   "source": [
    "data_source1.head(2)"
   ]
  },
  {
   "cell_type": "code",
   "execution_count": 7,
   "metadata": {},
   "outputs": [
    {
     "data": {
      "text/html": [
       "<div>\n",
       "<style>\n",
       "    .dataframe thead tr:only-child th {\n",
       "        text-align: right;\n",
       "    }\n",
       "\n",
       "    .dataframe thead th {\n",
       "        text-align: left;\n",
       "    }\n",
       "\n",
       "    .dataframe tbody tr th {\n",
       "        vertical-align: top;\n",
       "    }\n",
       "</style>\n",
       "<table border=\"1\" class=\"dataframe\">\n",
       "  <thead>\n",
       "    <tr style=\"text-align: right;\">\n",
       "      <th></th>\n",
       "      <th>ID</th>\n",
       "      <th>Name</th>\n",
       "      <th>Author</th>\n",
       "      <th>Publisher</th>\n",
       "      <th>Publishing_Date</th>\n",
       "      <th>Format</th>\n",
       "      <th>Pages</th>\n",
       "      <th>Rating</th>\n",
       "    </tr>\n",
       "  </thead>\n",
       "  <tbody>\n",
       "    <tr>\n",
       "      <th>0</th>\n",
       "      <td>0</td>\n",
       "      <td>Brides of Fantasy</td>\n",
       "      <td>Vanilla Orchid Books</td>\n",
       "      <td>NaN</td>\n",
       "      <td>NaN</td>\n",
       "      <td>Kindle Edition</td>\n",
       "      <td>NaN</td>\n",
       "      <td>0.00</td>\n",
       "    </tr>\n",
       "    <tr>\n",
       "      <th>1</th>\n",
       "      <td>1</td>\n",
       "      <td>The Italian Secretary: A Further Adventure Of Sherlock Holmes</td>\n",
       "      <td>Caleb Carr</td>\n",
       "      <td>Sphere</td>\n",
       "      <td>2015-11-27</td>\n",
       "      <td>Paperback</td>\n",
       "      <td>288.0</td>\n",
       "      <td>3.19</td>\n",
       "    </tr>\n",
       "  </tbody>\n",
       "</table>\n",
       "</div>"
      ],
      "text/plain": [
       "   ID                                                           Name  \\\n",
       "0   0                                              Brides of Fantasy   \n",
       "1   1  The Italian Secretary: A Further Adventure Of Sherlock Holmes   \n",
       "\n",
       "                 Author Publisher Publishing_Date          Format  Pages  \\\n",
       "0  Vanilla Orchid Books       NaN             NaN  Kindle Edition    NaN   \n",
       "1            Caleb Carr    Sphere      2015-11-27       Paperback  288.0   \n",
       "\n",
       "   Rating  \n",
       "0    0.00  \n",
       "1    3.19  "
      ]
     },
     "execution_count": 7,
     "metadata": {},
     "output_type": "execute_result"
    }
   ],
   "source": [
    "data_source2.head(2)"
   ]
  },
  {
   "cell_type": "code",
   "execution_count": 8,
   "metadata": {},
   "outputs": [
    {
     "data": {
      "text/plain": [
       "('ID', 'ID')"
      ]
     },
     "execution_count": 8,
     "metadata": {},
     "output_type": "execute_result"
    }
   ],
   "source": [
    "# Display the keys of the input tables\n",
    "em.get_key(data_source1), em.get_key(data_source2)"
   ]
  },
  {
   "cell_type": "markdown",
   "metadata": {},
   "source": [
    "Here we will proceed without downsampling the datasets and use the entire dataset. "
   ]
  },
  {
   "cell_type": "markdown",
   "metadata": {},
   "source": [
    "## Block tables to get candidate set\n",
    "Before we do the matching, we would like to remove the obviously non-matching tuple pairs from the input tables. This would reduce the number of tuple pairs considered for matching.\n",
    "\n",
    "Here we use overlap blocker on the name of the book to and we set the number of overlapping words to be 3, to consider the pair a match."
   ]
  },
  {
   "cell_type": "code",
   "execution_count": 9,
   "metadata": {},
   "outputs": [
    {
     "name": "stdout",
     "output_type": "stream",
     "text": [
      "1.4566700000000026\n"
     ]
    }
   ],
   "source": [
    "start = timer()\n",
    "\n",
    "# Overlap blocker\n",
    "overlapBlocker = em.OverlapBlocker()\n",
    "\n",
    "C1 = overlapBlocker.block_tables(data_source1, data_source2, 'Name', 'Name', word_level=True, overlap_size=3, \n",
    "                    l_output_attrs=['Name', 'Author', 'Publisher'], \n",
    "                    r_output_attrs=['Name', 'Author', 'Publisher'],\n",
    "                    show_progress=False)\n",
    "\n",
    "end = timer()\n",
    "print(end - start)"
   ]
  },
  {
   "cell_type": "code",
   "execution_count": 10,
   "metadata": {},
   "outputs": [
    {
     "data": {
      "text/plain": [
       "118876"
      ]
     },
     "execution_count": 10,
     "metadata": {},
     "output_type": "execute_result"
    }
   ],
   "source": [
    "len(C1)"
   ]
  },
  {
   "cell_type": "code",
   "execution_count": 11,
   "metadata": {},
   "outputs": [
    {
     "data": {
      "text/html": [
       "<div>\n",
       "<style>\n",
       "    .dataframe thead tr:only-child th {\n",
       "        text-align: right;\n",
       "    }\n",
       "\n",
       "    .dataframe thead th {\n",
       "        text-align: left;\n",
       "    }\n",
       "\n",
       "    .dataframe tbody tr th {\n",
       "        vertical-align: top;\n",
       "    }\n",
       "</style>\n",
       "<table border=\"1\" class=\"dataframe\">\n",
       "  <thead>\n",
       "    <tr style=\"text-align: right;\">\n",
       "      <th></th>\n",
       "      <th>_id</th>\n",
       "      <th>ltable_ID</th>\n",
       "      <th>rtable_ID</th>\n",
       "      <th>ltable_Name</th>\n",
       "      <th>ltable_Author</th>\n",
       "      <th>ltable_Publisher</th>\n",
       "      <th>rtable_Name</th>\n",
       "      <th>rtable_Author</th>\n",
       "      <th>rtable_Publisher</th>\n",
       "    </tr>\n",
       "  </thead>\n",
       "  <tbody>\n",
       "    <tr>\n",
       "      <th>0</th>\n",
       "      <td>0</td>\n",
       "      <td>3</td>\n",
       "      <td>1</td>\n",
       "      <td>A Quest of Heroes: Book #1 in the Sorcerer's Ring</td>\n",
       "      <td>Morgan Rice</td>\n",
       "      <td>Morgan Rice</td>\n",
       "      <td>The Italian Secretary: A Further Adventure Of Sherlock Holmes</td>\n",
       "      <td>Caleb Carr</td>\n",
       "      <td>Sphere</td>\n",
       "    </tr>\n",
       "    <tr>\n",
       "      <th>1</th>\n",
       "      <td>1</td>\n",
       "      <td>27</td>\n",
       "      <td>1</td>\n",
       "      <td>A Child's Work: The Importance of Fantasy Play</td>\n",
       "      <td>Vivian Gussin Paley</td>\n",
       "      <td>University of Chicago Press</td>\n",
       "      <td>The Italian Secretary: A Further Adventure Of Sherlock Holmes</td>\n",
       "      <td>Caleb Carr</td>\n",
       "      <td>Sphere</td>\n",
       "    </tr>\n",
       "    <tr>\n",
       "      <th>2</th>\n",
       "      <td>2</td>\n",
       "      <td>37</td>\n",
       "      <td>1</td>\n",
       "      <td>The Ballad of Titha Mae: A Fantasy in Twelve Parts</td>\n",
       "      <td>Jon B. Dalvy</td>\n",
       "      <td>Independently published</td>\n",
       "      <td>The Italian Secretary: A Further Adventure Of Sherlock Holmes</td>\n",
       "      <td>Caleb Carr</td>\n",
       "      <td>Sphere</td>\n",
       "    </tr>\n",
       "    <tr>\n",
       "      <th>3</th>\n",
       "      <td>3</td>\n",
       "      <td>52</td>\n",
       "      <td>1</td>\n",
       "      <td>Make A Witch (A Wicked Witches of the Midwest Fantasy) (Volume 3)</td>\n",
       "      <td>Amanda M. Lee</td>\n",
       "      <td>CreateSpace Independent Publishing Platform</td>\n",
       "      <td>The Italian Secretary: A Further Adventure Of Sherlock Holmes</td>\n",
       "      <td>Caleb Carr</td>\n",
       "      <td>Sphere</td>\n",
       "    </tr>\n",
       "    <tr>\n",
       "      <th>4</th>\n",
       "      <td>4</td>\n",
       "      <td>70</td>\n",
       "      <td>1</td>\n",
       "      <td>Fantasy Coloring Adventure: A Magical World of Fantasy Creatures, Enchanted Animals, and Whimsic...</td>\n",
       "      <td>Jade Summer</td>\n",
       "      <td>CreateSpace Independent Publishing Platform</td>\n",
       "      <td>The Italian Secretary: A Further Adventure Of Sherlock Holmes</td>\n",
       "      <td>Caleb Carr</td>\n",
       "      <td>Sphere</td>\n",
       "    </tr>\n",
       "  </tbody>\n",
       "</table>\n",
       "</div>"
      ],
      "text/plain": [
       "   _id  ltable_ID  rtable_ID  \\\n",
       "0    0          3          1   \n",
       "1    1         27          1   \n",
       "2    2         37          1   \n",
       "3    3         52          1   \n",
       "4    4         70          1   \n",
       "\n",
       "                                                                                           ltable_Name  \\\n",
       "0                                                    A Quest of Heroes: Book #1 in the Sorcerer's Ring   \n",
       "1                                                       A Child's Work: The Importance of Fantasy Play   \n",
       "2                                                   The Ballad of Titha Mae: A Fantasy in Twelve Parts   \n",
       "3                                    Make A Witch (A Wicked Witches of the Midwest Fantasy) (Volume 3)   \n",
       "4  Fantasy Coloring Adventure: A Magical World of Fantasy Creatures, Enchanted Animals, and Whimsic...   \n",
       "\n",
       "         ltable_Author                             ltable_Publisher  \\\n",
       "0          Morgan Rice                                  Morgan Rice   \n",
       "1  Vivian Gussin Paley                  University of Chicago Press   \n",
       "2         Jon B. Dalvy                      Independently published   \n",
       "3        Amanda M. Lee  CreateSpace Independent Publishing Platform   \n",
       "4          Jade Summer  CreateSpace Independent Publishing Platform   \n",
       "\n",
       "                                                     rtable_Name  \\\n",
       "0  The Italian Secretary: A Further Adventure Of Sherlock Holmes   \n",
       "1  The Italian Secretary: A Further Adventure Of Sherlock Holmes   \n",
       "2  The Italian Secretary: A Further Adventure Of Sherlock Holmes   \n",
       "3  The Italian Secretary: A Further Adventure Of Sherlock Holmes   \n",
       "4  The Italian Secretary: A Further Adventure Of Sherlock Holmes   \n",
       "\n",
       "  rtable_Author rtable_Publisher  \n",
       "0    Caleb Carr           Sphere  \n",
       "1    Caleb Carr           Sphere  \n",
       "2    Caleb Carr           Sphere  \n",
       "3    Caleb Carr           Sphere  \n",
       "4    Caleb Carr           Sphere  "
      ]
     },
     "execution_count": 11,
     "metadata": {},
     "output_type": "execute_result"
    }
   ],
   "source": [
    "C1.head()"
   ]
  },
  {
   "cell_type": "markdown",
   "metadata": {},
   "source": [
    "## Debug blocker output\n",
    "The number of tuple pairs considered for matching is reduced to 118876 (from 10164387), but we would want to make sure that the blocker did not drop any potential matches."
   ]
  },
  {
   "cell_type": "code",
   "execution_count": 12,
   "metadata": {},
   "outputs": [],
   "source": [
    "# Debug blocker output\n",
    "dbg = em.debug_blocker(C1, data_source1, data_source2, output_size=200)"
   ]
  },
  {
   "cell_type": "code",
   "execution_count": 13,
   "metadata": {},
   "outputs": [
    {
     "data": {
      "text/html": [
       "<div>\n",
       "<style>\n",
       "    .dataframe thead tr:only-child th {\n",
       "        text-align: right;\n",
       "    }\n",
       "\n",
       "    .dataframe thead th {\n",
       "        text-align: left;\n",
       "    }\n",
       "\n",
       "    .dataframe tbody tr th {\n",
       "        vertical-align: top;\n",
       "    }\n",
       "</style>\n",
       "<table border=\"1\" class=\"dataframe\">\n",
       "  <thead>\n",
       "    <tr style=\"text-align: right;\">\n",
       "      <th></th>\n",
       "      <th>_id</th>\n",
       "      <th>ltable_ID</th>\n",
       "      <th>rtable_ID</th>\n",
       "      <th>ltable_Name</th>\n",
       "      <th>ltable_Author</th>\n",
       "      <th>ltable_Publisher</th>\n",
       "      <th>ltable_Publishing_Date</th>\n",
       "      <th>ltable_Format</th>\n",
       "      <th>rtable_Name</th>\n",
       "      <th>rtable_Author</th>\n",
       "      <th>rtable_Publisher</th>\n",
       "      <th>rtable_Publishing_Date</th>\n",
       "      <th>rtable_Format</th>\n",
       "    </tr>\n",
       "  </thead>\n",
       "  <tbody>\n",
       "    <tr>\n",
       "      <th>0</th>\n",
       "      <td>0</td>\n",
       "      <td>636</td>\n",
       "      <td>1083</td>\n",
       "      <td>The Year's Best Dark Fantasy &amp; Horror 2015 Edition</td>\n",
       "      <td>Paula Guran</td>\n",
       "      <td>Prime Books</td>\n",
       "      <td>2015-6-23</td>\n",
       "      <td>Paperback</td>\n",
       "      <td>Rock On: The Greatest Hits of Science Fiction &amp; Fantasy</td>\n",
       "      <td>Paula Guran</td>\n",
       "      <td>Prime Books</td>\n",
       "      <td>2012-09-25</td>\n",
       "      <td>Paperback</td>\n",
       "    </tr>\n",
       "    <tr>\n",
       "      <th>1</th>\n",
       "      <td>1</td>\n",
       "      <td>2798</td>\n",
       "      <td>728</td>\n",
       "      <td>Tarzan of the Apes</td>\n",
       "      <td>Edgar Rice Burroughs</td>\n",
       "      <td>Digireads.com</td>\n",
       "      <td>2016-1-4</td>\n",
       "      <td>Kindle</td>\n",
       "      <td>The Resurrection of Jimber Jaw (Fantasy &amp; Horror Classics)</td>\n",
       "      <td>Edgar Rice Burroughs</td>\n",
       "      <td>NaN</td>\n",
       "      <td>NaN</td>\n",
       "      <td>Kindle Edition</td>\n",
       "    </tr>\n",
       "    <tr>\n",
       "      <th>2</th>\n",
       "      <td>2</td>\n",
       "      <td>2798</td>\n",
       "      <td>1549</td>\n",
       "      <td>Tarzan of the Apes</td>\n",
       "      <td>Edgar Rice Burroughs</td>\n",
       "      <td>Digireads.com</td>\n",
       "      <td>2016-1-4</td>\n",
       "      <td>Kindle</td>\n",
       "      <td>At the Earth's Core/Pellucidar</td>\n",
       "      <td>Edgar Rice Burroughs</td>\n",
       "      <td>NaN</td>\n",
       "      <td>NaN</td>\n",
       "      <td>Kindle Edition</td>\n",
       "    </tr>\n",
       "    <tr>\n",
       "      <th>3</th>\n",
       "      <td>3</td>\n",
       "      <td>447</td>\n",
       "      <td>1083</td>\n",
       "      <td>The Year’s Best Dark Fantasy &amp; Horror 2016 Edition</td>\n",
       "      <td>Paula Guran</td>\n",
       "      <td>Prime Books</td>\n",
       "      <td>2016-7-19</td>\n",
       "      <td>Paperback</td>\n",
       "      <td>Rock On: The Greatest Hits of Science Fiction &amp; Fantasy</td>\n",
       "      <td>Paula Guran</td>\n",
       "      <td>Prime Books</td>\n",
       "      <td>2012-09-25</td>\n",
       "      <td>Paperback</td>\n",
       "    </tr>\n",
       "    <tr>\n",
       "      <th>4</th>\n",
       "      <td>4</td>\n",
       "      <td>1059</td>\n",
       "      <td>1197</td>\n",
       "      <td>Sweet Life 2: Erotic Fantasies for Couples</td>\n",
       "      <td>Violet Blue</td>\n",
       "      <td>Cleis Press</td>\n",
       "      <td>NaN</td>\n",
       "      <td>Paperback</td>\n",
       "      <td>Lips Like Sugar: Women's Erotic Fantasies</td>\n",
       "      <td>Violet Blue</td>\n",
       "      <td>Cleis Press</td>\n",
       "      <td>2006-02-24</td>\n",
       "      <td>Paperback</td>\n",
       "    </tr>\n",
       "  </tbody>\n",
       "</table>\n",
       "</div>"
      ],
      "text/plain": [
       "   _id  ltable_ID  rtable_ID  \\\n",
       "0    0        636       1083   \n",
       "1    1       2798        728   \n",
       "2    2       2798       1549   \n",
       "3    3        447       1083   \n",
       "4    4       1059       1197   \n",
       "\n",
       "                                          ltable_Name         ltable_Author  \\\n",
       "0  The Year's Best Dark Fantasy & Horror 2015 Edition           Paula Guran   \n",
       "1                                  Tarzan of the Apes  Edgar Rice Burroughs   \n",
       "2                                  Tarzan of the Apes  Edgar Rice Burroughs   \n",
       "3  The Year’s Best Dark Fantasy & Horror 2016 Edition           Paula Guran   \n",
       "4          Sweet Life 2: Erotic Fantasies for Couples           Violet Blue   \n",
       "\n",
       "  ltable_Publisher ltable_Publishing_Date ltable_Format  \\\n",
       "0      Prime Books              2015-6-23     Paperback   \n",
       "1    Digireads.com               2016-1-4        Kindle   \n",
       "2    Digireads.com               2016-1-4        Kindle   \n",
       "3      Prime Books              2016-7-19     Paperback   \n",
       "4      Cleis Press                    NaN     Paperback   \n",
       "\n",
       "                                                  rtable_Name  \\\n",
       "0     Rock On: The Greatest Hits of Science Fiction & Fantasy   \n",
       "1  The Resurrection of Jimber Jaw (Fantasy & Horror Classics)   \n",
       "2                              At the Earth's Core/Pellucidar   \n",
       "3     Rock On: The Greatest Hits of Science Fiction & Fantasy   \n",
       "4                   Lips Like Sugar: Women's Erotic Fantasies   \n",
       "\n",
       "          rtable_Author rtable_Publisher rtable_Publishing_Date  \\\n",
       "0           Paula Guran      Prime Books             2012-09-25   \n",
       "1  Edgar Rice Burroughs              NaN                    NaN   \n",
       "2  Edgar Rice Burroughs              NaN                    NaN   \n",
       "3           Paula Guran      Prime Books             2012-09-25   \n",
       "4           Violet Blue      Cleis Press             2006-02-24   \n",
       "\n",
       "    rtable_Format  \n",
       "0       Paperback  \n",
       "1  Kindle Edition  \n",
       "2  Kindle Edition  \n",
       "3       Paperback  \n",
       "4       Paperback  "
      ]
     },
     "execution_count": 13,
     "metadata": {},
     "output_type": "execute_result"
    }
   ],
   "source": [
    "dbg.head()"
   ]
  },
  {
   "cell_type": "markdown",
   "metadata": {},
   "source": [
    "As we see here, an overlap factor of 3 on the name of the book leads to a lot of false matches. This is because book names contains a lot of stop words like \"The\" and \"Of. Hence let's try attribute equivalenec matching on the author of the book. \n",
    "\n",
    "We will pass the candidate set obtained in the first step for attribute equivalence matching."
   ]
  },
  {
   "cell_type": "code",
   "execution_count": 14,
   "metadata": {},
   "outputs": [
    {
     "name": "stdout",
     "output_type": "stream",
     "text": [
      "0.2507619999999946\n"
     ]
    }
   ],
   "source": [
    "start = timer()\n",
    "\n",
    "# Attribute equivalence blocker\n",
    "ab = em.AttrEquivalenceBlocker()\n",
    "C2 = ab.block_candset(C1, l_block_attr='Author', r_block_attr='Author', show_progress=False)\n",
    "\n",
    "end = timer()\n",
    "print(end - start)"
   ]
  },
  {
   "cell_type": "code",
   "execution_count": 15,
   "metadata": {},
   "outputs": [
    {
     "data": {
      "text/plain": [
       "333"
      ]
     },
     "execution_count": 15,
     "metadata": {},
     "output_type": "execute_result"
    }
   ],
   "source": [
    "len(C2)"
   ]
  },
  {
   "cell_type": "code",
   "execution_count": 16,
   "metadata": {},
   "outputs": [
    {
     "data": {
      "text/html": [
       "<div>\n",
       "<style>\n",
       "    .dataframe thead tr:only-child th {\n",
       "        text-align: right;\n",
       "    }\n",
       "\n",
       "    .dataframe thead th {\n",
       "        text-align: left;\n",
       "    }\n",
       "\n",
       "    .dataframe tbody tr th {\n",
       "        vertical-align: top;\n",
       "    }\n",
       "</style>\n",
       "<table border=\"1\" class=\"dataframe\">\n",
       "  <thead>\n",
       "    <tr style=\"text-align: right;\">\n",
       "      <th></th>\n",
       "      <th>_id</th>\n",
       "      <th>ltable_ID</th>\n",
       "      <th>rtable_ID</th>\n",
       "      <th>ltable_Name</th>\n",
       "      <th>ltable_Author</th>\n",
       "      <th>ltable_Publisher</th>\n",
       "      <th>rtable_Name</th>\n",
       "      <th>rtable_Author</th>\n",
       "      <th>rtable_Publisher</th>\n",
       "    </tr>\n",
       "  </thead>\n",
       "  <tbody>\n",
       "    <tr>\n",
       "      <th>1106</th>\n",
       "      <td>1106</td>\n",
       "      <td>1281</td>\n",
       "      <td>22</td>\n",
       "      <td>The Magazine of Fantasy and Science Fiction, July 1969 (Volume 37, No. 1)</td>\n",
       "      <td>Fritz Leiber</td>\n",
       "      <td>Mercury Press</td>\n",
       "      <td>Gather, Darkness! (Nucleus Fantasy &amp; Science Fiction)</td>\n",
       "      <td>Fritz Leiber</td>\n",
       "      <td>Collier Books</td>\n",
       "    </tr>\n",
       "    <tr>\n",
       "      <th>1279</th>\n",
       "      <td>1279</td>\n",
       "      <td>31</td>\n",
       "      <td>26</td>\n",
       "      <td>Final Fantasy V (Boss Fight Books)</td>\n",
       "      <td>Chris Kohler</td>\n",
       "      <td>Boss Fight Books</td>\n",
       "      <td>Final Fantasy V</td>\n",
       "      <td>Chris Kohler</td>\n",
       "      <td>Boss Fight Books</td>\n",
       "    </tr>\n",
       "    <tr>\n",
       "      <th>3232</th>\n",
       "      <td>3232</td>\n",
       "      <td>620</td>\n",
       "      <td>94</td>\n",
       "      <td>Draw More Furries: How to Create Anthropomorphic Fantasy Creatures</td>\n",
       "      <td>Jared Hodges</td>\n",
       "      <td>IMPACT Books</td>\n",
       "      <td>Draw More Furries: How to Create Anthropomorphic Fantasy Animals</td>\n",
       "      <td>Jared Hodges</td>\n",
       "      <td>Impact</td>\n",
       "    </tr>\n",
       "    <tr>\n",
       "      <th>3387</th>\n",
       "      <td>3387</td>\n",
       "      <td>529</td>\n",
       "      <td>97</td>\n",
       "      <td>Dismantling the Fantasy: An Invitation to the Fullness of Life</td>\n",
       "      <td>Darryl Bailey</td>\n",
       "      <td>Non-Duality</td>\n",
       "      <td>Dismantling the Fantasy: An Invitation to the Fullness of Life</td>\n",
       "      <td>Darryl Bailey</td>\n",
       "      <td>Non-Duality</td>\n",
       "    </tr>\n",
       "    <tr>\n",
       "      <th>3701</th>\n",
       "      <td>3701</td>\n",
       "      <td>1165</td>\n",
       "      <td>104</td>\n",
       "      <td>Fantasy Art Expedition</td>\n",
       "      <td>Finlay Cowan</td>\n",
       "      <td>IMPACT Books</td>\n",
       "      <td>Fantasy Art Expedition</td>\n",
       "      <td>Finlay Cowan</td>\n",
       "      <td>Impact</td>\n",
       "    </tr>\n",
       "  </tbody>\n",
       "</table>\n",
       "</div>"
      ],
      "text/plain": [
       "       _id  ltable_ID  rtable_ID  \\\n",
       "1106  1106       1281         22   \n",
       "1279  1279         31         26   \n",
       "3232  3232        620         94   \n",
       "3387  3387        529         97   \n",
       "3701  3701       1165        104   \n",
       "\n",
       "                                                                    ltable_Name  \\\n",
       "1106  The Magazine of Fantasy and Science Fiction, July 1969 (Volume 37, No. 1)   \n",
       "1279                                         Final Fantasy V (Boss Fight Books)   \n",
       "3232         Draw More Furries: How to Create Anthropomorphic Fantasy Creatures   \n",
       "3387             Dismantling the Fantasy: An Invitation to the Fullness of Life   \n",
       "3701                                                     Fantasy Art Expedition   \n",
       "\n",
       "      ltable_Author  ltable_Publisher  \\\n",
       "1106   Fritz Leiber     Mercury Press   \n",
       "1279   Chris Kohler  Boss Fight Books   \n",
       "3232   Jared Hodges      IMPACT Books   \n",
       "3387  Darryl Bailey       Non-Duality   \n",
       "3701   Finlay Cowan      IMPACT Books   \n",
       "\n",
       "                                                           rtable_Name  \\\n",
       "1106             Gather, Darkness! (Nucleus Fantasy & Science Fiction)   \n",
       "1279                                                   Final Fantasy V   \n",
       "3232  Draw More Furries: How to Create Anthropomorphic Fantasy Animals   \n",
       "3387    Dismantling the Fantasy: An Invitation to the Fullness of Life   \n",
       "3701                                            Fantasy Art Expedition   \n",
       "\n",
       "      rtable_Author  rtable_Publisher  \n",
       "1106   Fritz Leiber     Collier Books  \n",
       "1279   Chris Kohler  Boss Fight Books  \n",
       "3232   Jared Hodges            Impact  \n",
       "3387  Darryl Bailey       Non-Duality  \n",
       "3701   Finlay Cowan            Impact  "
      ]
     },
     "execution_count": 16,
     "metadata": {},
     "output_type": "execute_result"
    }
   ],
   "source": [
    "# Display first two rows from C2\n",
    "C2.head(5)"
   ]
  },
  {
   "cell_type": "markdown",
   "metadata": {},
   "source": [
    "We can see here that we already have some matches. Since the number of matches has dropped to just 333 from 10164387, we decided to stop debugging the blocking step and proceed with training a matcher."
   ]
  },
  {
   "cell_type": "code",
   "execution_count": 20,
   "metadata": {},
   "outputs": [],
   "source": [
    "# Saving the tuples which survived the blocking step\n",
    "C2.to_csv(\"TuplesAfterBlocking.csv\", encoding='utf-8', index=False)"
   ]
  },
  {
   "cell_type": "markdown",
   "metadata": {},
   "source": [
    "## Labeling the candidate set\n",
    "We labeled the tuples from the previous step as a match or not. 1 indicates a match and 0 indicates a non match. We did not use the <i>label_table</i> function.\n",
    "\n",
    "Labeling 333 tuples took roughly 20 minutes."
   ]
  },
  {
   "cell_type": "code",
   "execution_count": 24,
   "metadata": {},
   "outputs": [
    {
     "name": "stderr",
     "output_type": "stream",
     "text": [
      "WARNING:py_entitymatching.io.parsers:Metadata file is not present in the given path; proceeding to read the csv file.\n"
     ]
    }
   ],
   "source": [
    "# Load the labeled set\n",
    "S = em.read_csv_metadata('GoldenData.csv', key='_id', ltable=data_source1, rtable=data_source2, \n",
    "                         fk_ltable='ltable_ID', fk_rtable='rtable_ID')"
   ]
  },
  {
   "cell_type": "code",
   "execution_count": 25,
   "metadata": {},
   "outputs": [
    {
     "data": {
      "text/plain": [
       "333"
      ]
     },
     "execution_count": 25,
     "metadata": {},
     "output_type": "execute_result"
    }
   ],
   "source": [
    "len(S)"
   ]
  },
  {
   "cell_type": "markdown",
   "metadata": {},
   "source": [
    "## Splitting the labeled data into development and evaluation set\n",
    "In this step, we split the labeled data into two sets: development (I) and evaluation (J). Specifically, the development set is used to come up with the best learning-based matcher and the evaluation set used to evaluate the selected matcher on unseen data."
   ]
  },
  {
   "cell_type": "code",
   "execution_count": 26,
   "metadata": {},
   "outputs": [],
   "source": [
    "# Split S into development set (I) and evaluation set (J)\n",
    "IJ = em.split_train_test(S, train_proportion=0.7, random_state=0)\n",
    "I = IJ['train']\n",
    "J = IJ['test']"
   ]
  },
  {
   "cell_type": "code",
   "execution_count": 27,
   "metadata": {},
   "outputs": [
    {
     "data": {
      "text/plain": [
       "(233, 100)"
      ]
     },
     "execution_count": 27,
     "metadata": {},
     "output_type": "execute_result"
    }
   ],
   "source": [
    "len(I), len(J)"
   ]
  },
  {
   "cell_type": "markdown",
   "metadata": {},
   "source": [
    "### Save Set I and Set J"
   ]
  },
  {
   "cell_type": "code",
   "execution_count": 33,
   "metadata": {},
   "outputs": [],
   "source": [
    "I.to_csv(\"SetI.csv\", encoding='utf-8', index=False)\n",
    "J.to_csv(\"SetJ.csv\", encoding='utf-8', index=False)"
   ]
  },
  {
   "cell_type": "markdown",
   "metadata": {},
   "source": [
    "## Selecting the best learning-based matcher\n",
    "Selecting the best learning-based matcher typically involves the following steps:\n",
    "\n",
    "1. Creating a set of learning-based matchers\n",
    "2. Creating features\n",
    "3. Converting the development set into feature vectors\n",
    "4. Selecting the best learning-based matcher using k-fold cross validation"
   ]
  },
  {
   "cell_type": "markdown",
   "metadata": {},
   "source": [
    "### Creating a set of learning-based matchers"
   ]
  },
  {
   "cell_type": "code",
   "execution_count": 57,
   "metadata": {},
   "outputs": [],
   "source": [
    "# Create a set of ML-matchers\n",
    "dt = em.DTMatcher(name='DecisionTree', random_state=0)\n",
    "svm = em.SVMMatcher(name='SVM', random_state=0)\n",
    "rf = em.RFMatcher(name='RF', random_state=0)\n",
    "lg = em.LogRegMatcher(name='LogReg', random_state=0)\n",
    "ln = em.LinRegMatcher(name='LinReg')\n",
    "nb = em.NBMatcher(name='NaiveBayes')"
   ]
  },
  {
   "cell_type": "markdown",
   "metadata": {},
   "source": [
    "### Creating features\n",
    "Here we use the automatically generated features"
   ]
  },
  {
   "cell_type": "code",
   "execution_count": 82,
   "metadata": {},
   "outputs": [],
   "source": [
    "# Generate features\n",
    "feature_table = em.get_features_for_matching(data_source1, data_source2, validate_inferred_attr_types=False)"
   ]
  },
  {
   "cell_type": "code",
   "execution_count": 83,
   "metadata": {},
   "outputs": [
    {
     "data": {
      "text/plain": [
       "0                                           ID_ID_exm\n",
       "1                                           ID_ID_anm\n",
       "2                                      ID_ID_lev_dist\n",
       "3                                       ID_ID_lev_sim\n",
       "4                           Name_Name_jac_qgm_3_qgm_3\n",
       "5                       Name_Name_cos_dlm_dc0_dlm_dc0\n",
       "6                                       Name_Name_mel\n",
       "7                                  Name_Name_lev_dist\n",
       "8                                   Name_Name_lev_sim\n",
       "9                       Author_Author_jac_qgm_3_qgm_3\n",
       "10                  Author_Author_cos_dlm_dc0_dlm_dc0\n",
       "11                  Author_Author_jac_dlm_dc0_dlm_dc0\n",
       "12                                  Author_Author_mel\n",
       "13                             Author_Author_lev_dist\n",
       "14                              Author_Author_lev_sim\n",
       "15                                  Author_Author_nmw\n",
       "16                                   Author_Author_sw\n",
       "17                Publisher_Publisher_jac_qgm_3_qgm_3\n",
       "18            Publisher_Publisher_cos_dlm_dc0_dlm_dc0\n",
       "19            Publisher_Publisher_jac_dlm_dc0_dlm_dc0\n",
       "20                            Publisher_Publisher_mel\n",
       "21                       Publisher_Publisher_lev_dist\n",
       "22                        Publisher_Publisher_lev_sim\n",
       "23                            Publisher_Publisher_nmw\n",
       "24                             Publisher_Publisher_sw\n",
       "25           Publishing_Date_Publishing_Date_lev_dist\n",
       "26            Publishing_Date_Publishing_Date_lev_sim\n",
       "27                Publishing_Date_Publishing_Date_jar\n",
       "28                Publishing_Date_Publishing_Date_jwn\n",
       "29                Publishing_Date_Publishing_Date_exm\n",
       "30    Publishing_Date_Publishing_Date_jac_qgm_3_qgm_3\n",
       "31                                    Pages_Pages_exm\n",
       "32                                    Pages_Pages_anm\n",
       "33                               Pages_Pages_lev_dist\n",
       "34                                Pages_Pages_lev_sim\n",
       "35                                  Rating_Rating_exm\n",
       "36                                  Rating_Rating_anm\n",
       "37                             Rating_Rating_lev_dist\n",
       "38                              Rating_Rating_lev_sim\n",
       "Name: feature_name, dtype: object"
      ]
     },
     "execution_count": 83,
     "metadata": {},
     "output_type": "execute_result"
    }
   ],
   "source": [
    "# List the names of the features generated\n",
    "feature_table['feature_name']"
   ]
  },
  {
   "cell_type": "markdown",
   "metadata": {},
   "source": [
    "We remove the **Rating** column, as the books are rated differently on Amazon and Goodreads. Hence we will drop those features here as well."
   ]
  },
  {
   "cell_type": "code",
   "execution_count": 84,
   "metadata": {},
   "outputs": [],
   "source": [
    "# Drop publishing date, rating related features\n",
    "feature_table = feature_table.drop([0, 1, 2, 3, 35, 36, 37 ,38])"
   ]
  },
  {
   "cell_type": "markdown",
   "metadata": {},
   "source": [
    "### Converting the development set to feature vectors"
   ]
  },
  {
   "cell_type": "code",
   "execution_count": 85,
   "metadata": {},
   "outputs": [],
   "source": [
    "# Convert the I into a set of feature vectors using F\n",
    "H = em.extract_feature_vecs(I, \n",
    "                            feature_table=feature_table, \n",
    "                            attrs_after='match',\n",
    "                            show_progress=False)"
   ]
  },
  {
   "cell_type": "code",
   "execution_count": 86,
   "metadata": {},
   "outputs": [
    {
     "data": {
      "text/html": [
       "<div>\n",
       "<style>\n",
       "    .dataframe thead tr:only-child th {\n",
       "        text-align: right;\n",
       "    }\n",
       "\n",
       "    .dataframe thead th {\n",
       "        text-align: left;\n",
       "    }\n",
       "\n",
       "    .dataframe tbody tr th {\n",
       "        vertical-align: top;\n",
       "    }\n",
       "</style>\n",
       "<table border=\"1\" class=\"dataframe\">\n",
       "  <thead>\n",
       "    <tr style=\"text-align: right;\">\n",
       "      <th></th>\n",
       "      <th>_id</th>\n",
       "      <th>ltable_ID</th>\n",
       "      <th>rtable_ID</th>\n",
       "      <th>Name_Name_jac_qgm_3_qgm_3</th>\n",
       "      <th>Name_Name_cos_dlm_dc0_dlm_dc0</th>\n",
       "      <th>Name_Name_mel</th>\n",
       "      <th>Name_Name_lev_dist</th>\n",
       "      <th>Name_Name_lev_sim</th>\n",
       "      <th>Author_Author_jac_qgm_3_qgm_3</th>\n",
       "      <th>Author_Author_cos_dlm_dc0_dlm_dc0</th>\n",
       "      <th>...</th>\n",
       "      <th>Publishing_Date_Publishing_Date_lev_sim</th>\n",
       "      <th>Publishing_Date_Publishing_Date_jar</th>\n",
       "      <th>Publishing_Date_Publishing_Date_jwn</th>\n",
       "      <th>Publishing_Date_Publishing_Date_exm</th>\n",
       "      <th>Publishing_Date_Publishing_Date_jac_qgm_3_qgm_3</th>\n",
       "      <th>Pages_Pages_exm</th>\n",
       "      <th>Pages_Pages_anm</th>\n",
       "      <th>Pages_Pages_lev_dist</th>\n",
       "      <th>Pages_Pages_lev_sim</th>\n",
       "      <th>match</th>\n",
       "    </tr>\n",
       "  </thead>\n",
       "  <tbody>\n",
       "    <tr>\n",
       "      <th>159</th>\n",
       "      <td>72630</td>\n",
       "      <td>663</td>\n",
       "      <td>1866</td>\n",
       "      <td>0.660000</td>\n",
       "      <td>0.771517</td>\n",
       "      <td>0.936852</td>\n",
       "      <td>11.0</td>\n",
       "      <td>0.750000</td>\n",
       "      <td>1.0</td>\n",
       "      <td>1.0</td>\n",
       "      <td>...</td>\n",
       "      <td>0.6</td>\n",
       "      <td>0.810714</td>\n",
       "      <td>0.867500</td>\n",
       "      <td>0.0</td>\n",
       "      <td>0.222222</td>\n",
       "      <td>0.0</td>\n",
       "      <td>0.942149</td>\n",
       "      <td>2.0</td>\n",
       "      <td>0.6</td>\n",
       "      <td>0</td>\n",
       "    </tr>\n",
       "    <tr>\n",
       "      <th>150</th>\n",
       "      <td>67280</td>\n",
       "      <td>547</td>\n",
       "      <td>1743</td>\n",
       "      <td>1.000000</td>\n",
       "      <td>1.000000</td>\n",
       "      <td>1.000000</td>\n",
       "      <td>0.0</td>\n",
       "      <td>1.000000</td>\n",
       "      <td>1.0</td>\n",
       "      <td>1.0</td>\n",
       "      <td>...</td>\n",
       "      <td>0.5</td>\n",
       "      <td>0.672222</td>\n",
       "      <td>0.737778</td>\n",
       "      <td>0.0</td>\n",
       "      <td>0.222222</td>\n",
       "      <td>NaN</td>\n",
       "      <td>NaN</td>\n",
       "      <td>NaN</td>\n",
       "      <td>NaN</td>\n",
       "      <td>1</td>\n",
       "    </tr>\n",
       "    <tr>\n",
       "      <th>106</th>\n",
       "      <td>47902</td>\n",
       "      <td>2553</td>\n",
       "      <td>1218</td>\n",
       "      <td>0.044944</td>\n",
       "      <td>0.066227</td>\n",
       "      <td>0.618121</td>\n",
       "      <td>97.0</td>\n",
       "      <td>0.248062</td>\n",
       "      <td>1.0</td>\n",
       "      <td>1.0</td>\n",
       "      <td>...</td>\n",
       "      <td>0.5</td>\n",
       "      <td>0.685185</td>\n",
       "      <td>0.779630</td>\n",
       "      <td>0.0</td>\n",
       "      <td>0.157895</td>\n",
       "      <td>0.0</td>\n",
       "      <td>0.572890</td>\n",
       "      <td>3.0</td>\n",
       "      <td>0.4</td>\n",
       "      <td>0</td>\n",
       "    </tr>\n",
       "    <tr>\n",
       "      <th>214</th>\n",
       "      <td>95446</td>\n",
       "      <td>663</td>\n",
       "      <td>2418</td>\n",
       "      <td>0.692308</td>\n",
       "      <td>0.771517</td>\n",
       "      <td>0.913183</td>\n",
       "      <td>12.0</td>\n",
       "      <td>0.755102</td>\n",
       "      <td>1.0</td>\n",
       "      <td>1.0</td>\n",
       "      <td>...</td>\n",
       "      <td>0.5</td>\n",
       "      <td>0.763095</td>\n",
       "      <td>0.810476</td>\n",
       "      <td>0.0</td>\n",
       "      <td>0.157895</td>\n",
       "      <td>0.0</td>\n",
       "      <td>0.796053</td>\n",
       "      <td>3.0</td>\n",
       "      <td>0.4</td>\n",
       "      <td>0</td>\n",
       "    </tr>\n",
       "    <tr>\n",
       "      <th>90</th>\n",
       "      <td>36024</td>\n",
       "      <td>727</td>\n",
       "      <td>921</td>\n",
       "      <td>0.688889</td>\n",
       "      <td>0.577350</td>\n",
       "      <td>0.908225</td>\n",
       "      <td>24.0</td>\n",
       "      <td>0.571429</td>\n",
       "      <td>1.0</td>\n",
       "      <td>1.0</td>\n",
       "      <td>...</td>\n",
       "      <td>0.6</td>\n",
       "      <td>0.677778</td>\n",
       "      <td>0.774444</td>\n",
       "      <td>0.0</td>\n",
       "      <td>0.142857</td>\n",
       "      <td>0.0</td>\n",
       "      <td>0.800000</td>\n",
       "      <td>3.0</td>\n",
       "      <td>0.4</td>\n",
       "      <td>0</td>\n",
       "    </tr>\n",
       "  </tbody>\n",
       "</table>\n",
       "<p>5 rows × 35 columns</p>\n",
       "</div>"
      ],
      "text/plain": [
       "       _id  ltable_ID  rtable_ID  Name_Name_jac_qgm_3_qgm_3  \\\n",
       "159  72630        663       1866                   0.660000   \n",
       "150  67280        547       1743                   1.000000   \n",
       "106  47902       2553       1218                   0.044944   \n",
       "214  95446        663       2418                   0.692308   \n",
       "90   36024        727        921                   0.688889   \n",
       "\n",
       "     Name_Name_cos_dlm_dc0_dlm_dc0  Name_Name_mel  Name_Name_lev_dist  \\\n",
       "159                       0.771517       0.936852                11.0   \n",
       "150                       1.000000       1.000000                 0.0   \n",
       "106                       0.066227       0.618121                97.0   \n",
       "214                       0.771517       0.913183                12.0   \n",
       "90                        0.577350       0.908225                24.0   \n",
       "\n",
       "     Name_Name_lev_sim  Author_Author_jac_qgm_3_qgm_3  \\\n",
       "159           0.750000                            1.0   \n",
       "150           1.000000                            1.0   \n",
       "106           0.248062                            1.0   \n",
       "214           0.755102                            1.0   \n",
       "90            0.571429                            1.0   \n",
       "\n",
       "     Author_Author_cos_dlm_dc0_dlm_dc0  ...    \\\n",
       "159                                1.0  ...     \n",
       "150                                1.0  ...     \n",
       "106                                1.0  ...     \n",
       "214                                1.0  ...     \n",
       "90                                 1.0  ...     \n",
       "\n",
       "     Publishing_Date_Publishing_Date_lev_sim  \\\n",
       "159                                      0.6   \n",
       "150                                      0.5   \n",
       "106                                      0.5   \n",
       "214                                      0.5   \n",
       "90                                       0.6   \n",
       "\n",
       "     Publishing_Date_Publishing_Date_jar  Publishing_Date_Publishing_Date_jwn  \\\n",
       "159                             0.810714                             0.867500   \n",
       "150                             0.672222                             0.737778   \n",
       "106                             0.685185                             0.779630   \n",
       "214                             0.763095                             0.810476   \n",
       "90                              0.677778                             0.774444   \n",
       "\n",
       "     Publishing_Date_Publishing_Date_exm  \\\n",
       "159                                  0.0   \n",
       "150                                  0.0   \n",
       "106                                  0.0   \n",
       "214                                  0.0   \n",
       "90                                   0.0   \n",
       "\n",
       "     Publishing_Date_Publishing_Date_jac_qgm_3_qgm_3  Pages_Pages_exm  \\\n",
       "159                                         0.222222              0.0   \n",
       "150                                         0.222222              NaN   \n",
       "106                                         0.157895              0.0   \n",
       "214                                         0.157895              0.0   \n",
       "90                                          0.142857              0.0   \n",
       "\n",
       "     Pages_Pages_anm  Pages_Pages_lev_dist  Pages_Pages_lev_sim  match  \n",
       "159         0.942149                   2.0                  0.6      0  \n",
       "150              NaN                   NaN                  NaN      1  \n",
       "106         0.572890                   3.0                  0.4      0  \n",
       "214         0.796053                   3.0                  0.4      0  \n",
       "90          0.800000                   3.0                  0.4      0  \n",
       "\n",
       "[5 rows x 35 columns]"
      ]
     },
     "execution_count": 86,
     "metadata": {},
     "output_type": "execute_result"
    }
   ],
   "source": [
    "# Display first few rows\n",
    "H.head(5)"
   ]
  },
  {
   "cell_type": "markdown",
   "metadata": {},
   "source": [
    "#### Check for missing values"
   ]
  },
  {
   "cell_type": "code",
   "execution_count": 87,
   "metadata": {},
   "outputs": [
    {
     "data": {
      "text/plain": [
       "_id                                                 0\n",
       "ltable_ID                                           0\n",
       "rtable_ID                                           0\n",
       "Name_Name_jac_qgm_3_qgm_3                           0\n",
       "Name_Name_cos_dlm_dc0_dlm_dc0                       0\n",
       "Name_Name_mel                                       0\n",
       "Name_Name_lev_dist                                  0\n",
       "Name_Name_lev_sim                                   0\n",
       "Author_Author_jac_qgm_3_qgm_3                       0\n",
       "Author_Author_cos_dlm_dc0_dlm_dc0                   0\n",
       "Author_Author_jac_dlm_dc0_dlm_dc0                   0\n",
       "Author_Author_mel                                   0\n",
       "Author_Author_lev_dist                              0\n",
       "Author_Author_lev_sim                               0\n",
       "Author_Author_nmw                                   0\n",
       "Author_Author_sw                                    0\n",
       "Publisher_Publisher_jac_qgm_3_qgm_3                16\n",
       "Publisher_Publisher_cos_dlm_dc0_dlm_dc0            16\n",
       "Publisher_Publisher_jac_dlm_dc0_dlm_dc0            16\n",
       "Publisher_Publisher_mel                            16\n",
       "Publisher_Publisher_lev_dist                       16\n",
       "Publisher_Publisher_lev_sim                        16\n",
       "Publisher_Publisher_nmw                            16\n",
       "Publisher_Publisher_sw                             16\n",
       "Publishing_Date_Publishing_Date_lev_dist           28\n",
       "Publishing_Date_Publishing_Date_lev_sim            28\n",
       "Publishing_Date_Publishing_Date_jar                28\n",
       "Publishing_Date_Publishing_Date_jwn                28\n",
       "Publishing_Date_Publishing_Date_exm                28\n",
       "Publishing_Date_Publishing_Date_jac_qgm_3_qgm_3    28\n",
       "Pages_Pages_exm                                    22\n",
       "Pages_Pages_anm                                    22\n",
       "Pages_Pages_lev_dist                               22\n",
       "Pages_Pages_lev_sim                                22\n",
       "match                                               0\n",
       "dtype: int64"
      ]
     },
     "execution_count": 87,
     "metadata": {},
     "output_type": "execute_result"
    }
   ],
   "source": [
    "H.isnull().sum()"
   ]
  },
  {
   "cell_type": "markdown",
   "metadata": {},
   "source": [
    "#### Impute missing values with mean"
   ]
  },
  {
   "cell_type": "code",
   "execution_count": 88,
   "metadata": {},
   "outputs": [],
   "source": [
    "H = em.impute_table(H, \n",
    "                exclude_attrs=['_id', 'ltable_ID', 'rtable_ID', 'match'],\n",
    "                strategy='most_frequent')"
   ]
  },
  {
   "cell_type": "markdown",
   "metadata": {},
   "source": [
    "### Selecting the best matcher using cross-validation\n",
    "Now, we select the best matcher using k-fold cross-validation. We use five fold cross validation and use 'precision' and 'recall' metric to select the best matcher."
   ]
  },
  {
   "cell_type": "code",
   "execution_count": 89,
   "metadata": {},
   "outputs": [
    {
     "data": {
      "text/html": [
       "<div>\n",
       "<style>\n",
       "    .dataframe thead tr:only-child th {\n",
       "        text-align: right;\n",
       "    }\n",
       "\n",
       "    .dataframe thead th {\n",
       "        text-align: left;\n",
       "    }\n",
       "\n",
       "    .dataframe tbody tr th {\n",
       "        vertical-align: top;\n",
       "    }\n",
       "</style>\n",
       "<table border=\"1\" class=\"dataframe\">\n",
       "  <thead>\n",
       "    <tr style=\"text-align: right;\">\n",
       "      <th></th>\n",
       "      <th>Matcher</th>\n",
       "      <th>Average precision</th>\n",
       "      <th>Average recall</th>\n",
       "      <th>Average f1</th>\n",
       "    </tr>\n",
       "  </thead>\n",
       "  <tbody>\n",
       "    <tr>\n",
       "      <th>0</th>\n",
       "      <td>DecisionTree</td>\n",
       "      <td>0.765079</td>\n",
       "      <td>0.697222</td>\n",
       "      <td>0.708449</td>\n",
       "    </tr>\n",
       "    <tr>\n",
       "      <th>1</th>\n",
       "      <td>RF</td>\n",
       "      <td>0.900000</td>\n",
       "      <td>0.718056</td>\n",
       "      <td>0.786923</td>\n",
       "    </tr>\n",
       "    <tr>\n",
       "      <th>2</th>\n",
       "      <td>SVM</td>\n",
       "      <td>0.766667</td>\n",
       "      <td>0.263889</td>\n",
       "      <td>0.385238</td>\n",
       "    </tr>\n",
       "    <tr>\n",
       "      <th>3</th>\n",
       "      <td>LinReg</td>\n",
       "      <td>0.943333</td>\n",
       "      <td>0.672222</td>\n",
       "      <td>0.766883</td>\n",
       "    </tr>\n",
       "    <tr>\n",
       "      <th>4</th>\n",
       "      <td>LogReg</td>\n",
       "      <td>0.848333</td>\n",
       "      <td>0.673611</td>\n",
       "      <td>0.739520</td>\n",
       "    </tr>\n",
       "    <tr>\n",
       "      <th>5</th>\n",
       "      <td>NaiveBayes</td>\n",
       "      <td>0.789762</td>\n",
       "      <td>0.730556</td>\n",
       "      <td>0.751382</td>\n",
       "    </tr>\n",
       "  </tbody>\n",
       "</table>\n",
       "</div>"
      ],
      "text/plain": [
       "        Matcher  Average precision  Average recall  Average f1\n",
       "0  DecisionTree           0.765079        0.697222    0.708449\n",
       "1            RF           0.900000        0.718056    0.786923\n",
       "2           SVM           0.766667        0.263889    0.385238\n",
       "3        LinReg           0.943333        0.672222    0.766883\n",
       "4        LogReg           0.848333        0.673611    0.739520\n",
       "5    NaiveBayes           0.789762        0.730556    0.751382"
      ]
     },
     "execution_count": 89,
     "metadata": {},
     "output_type": "execute_result"
    }
   ],
   "source": [
    "# Select the best ML matcher using CV\n",
    "result = em.select_matcher([dt, rf, svm, ln, lg, nb], table=H, \n",
    "        exclude_attrs=['_id', 'ltable_ID', 'rtable_ID', 'match'],\n",
    "        k=10,\n",
    "        target_attr='match', metric_to_select_matcher='f1', random_state=42)\n",
    "result['cv_stats']"
   ]
  },
  {
   "cell_type": "code",
   "execution_count": null,
   "metadata": {},
   "outputs": [],
   "source": []
  },
  {
   "cell_type": "code",
   "execution_count": null,
   "metadata": {},
   "outputs": [],
   "source": []
  }
 ],
 "metadata": {
  "kernelspec": {
   "display_name": "Python 3",
   "language": "python",
   "name": "python3"
  },
  "language_info": {
   "codemirror_mode": {
    "name": "ipython",
    "version": 3
   },
   "file_extension": ".py",
   "mimetype": "text/x-python",
   "name": "python",
   "nbconvert_exporter": "python",
   "pygments_lexer": "ipython3",
   "version": "3.5.2"
  }
 },
 "nbformat": 4,
 "nbformat_minor": 2
}
