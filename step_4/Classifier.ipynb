{
  "cells": [
    {
      "cell_type": "code",
      "source": [
        "import pandas as pd\n",
        "import numpy as np\n",
        "from sklearn.model_selection import train_test_split\n",
        "from sklearn.preprocessing import LabelEncoder\n",
        "\n",
        "from keras.preprocessing import sequence\n",
        "from keras import models\n",
        "from keras import layers\n",
        "from keras import activations\n",
        "from keras import optimizers\n",
        "from keras import losses\n",
        "from keras import metrics\n",
        "from keras.preprocessing.text import Tokenizer\n",
        "from keras.preprocessing.sequence import pad_sequences\n",
        "from keras.utils import to_categorical\n",
        "import keras.preprocessing.text\n",
        "from keras.models import load_model\n",
        "from keras.utils import np_utils\n",
        "\n",
        "import matplotlib.pyplot as plt\n",
        "%matplotlib inline"
      ],
      "outputs": [
        {
          "output_type": "stream",
          "name": "stderr",
          "text": [
            "C:\\Python35\\lib\\site-packages\\h5py\\__init__.py:36: FutureWarning: Conversion of the second argument of issubdtype from `float` to `np.floating` is deprecated. In future, it will be treated as `np.float64 == np.dtype(float).type`.\n",
            "  from ._conv import register_converters as _register_converters\n",
            "Using TensorFlow backend.\n"
          ]
        }
      ],
      "execution_count": 1,
      "metadata": {}
    },
    {
      "cell_type": "code",
      "source": [
        "df = pd.read_csv('E.csv', encoding='utf8', dtype=object)"
      ],
      "outputs": [],
      "execution_count": 2,
      "metadata": {}
    },
    {
      "cell_type": "code",
      "source": [
        "df.head(1)['Name'].values"
      ],
      "outputs": [
        {
          "output_type": "execute_result",
          "execution_count": 7,
          "data": {
            "text/plain": [
              "array(['Age of Myth: Book One of The Legends of the First Empire'],\n",
              "      dtype=object)"
            ]
          },
          "metadata": {}
        }
      ],
      "execution_count": 7,
      "metadata": {}
    },
    {
      "cell_type": "code",
      "source": [
        "len(df)"
      ],
      "outputs": [
        {
          "output_type": "execute_result",
          "execution_count": 96,
          "data": {
            "text/plain": [
              "6309"
            ]
          },
          "metadata": {}
        }
      ],
      "execution_count": 96,
      "metadata": {}
    },
    {
      "cell_type": "code",
      "source": [
        "dfAdult = df[df['Name'].str.contains(\"sex|erotic|gay|lesbian|porn|adult|hot|intimate|romance|romantic|seduce|nsfw|love\", case=False)==True]"
      ],
      "outputs": [],
      "execution_count": 97,
      "metadata": {}
    },
    {
      "cell_type": "code",
      "source": [
        "len(dfAdult)"
      ],
      "outputs": [
        {
          "output_type": "execute_result",
          "execution_count": 98,
          "data": {
            "text/plain": [
              "279"
            ]
          },
          "metadata": {}
        }
      ],
      "execution_count": 98,
      "metadata": {}
    },
    {
      "cell_type": "code",
      "source": [
        "dfAdult = dfAdult.assign(label=1)"
      ],
      "outputs": [],
      "execution_count": 99,
      "metadata": {}
    },
    {
      "cell_type": "code",
      "source": [
        "dfAdult.head(3)"
      ],
      "outputs": [
        {
          "output_type": "execute_result",
          "execution_count": 100,
          "data": {
            "text/html": [
              "<div>\n",
              "<style scoped>\n",
              "    .dataframe tbody tr th:only-of-type {\n",
              "        vertical-align: middle;\n",
              "    }\n",
              "\n",
              "    .dataframe tbody tr th {\n",
              "        vertical-align: top;\n",
              "    }\n",
              "\n",
              "    .dataframe thead th {\n",
              "        text-align: right;\n",
              "    }\n",
              "</style>\n",
              "<table border=\"1\" class=\"dataframe\">\n",
              "  <thead>\n",
              "    <tr style=\"text-align: right;\">\n",
              "      <th></th>\n",
              "      <th>Name</th>\n",
              "      <th>Author</th>\n",
              "      <th>Publisher</th>\n",
              "      <th>Publishing_Date</th>\n",
              "      <th>Format</th>\n",
              "      <th>Pages</th>\n",
              "      <th>Rating</th>\n",
              "      <th>label</th>\n",
              "    </tr>\n",
              "  </thead>\n",
              "  <tbody>\n",
              "    <tr>\n",
              "      <th>9</th>\n",
              "      <td>Fantasy Flower Garden: Adult Coloring Book of ...</td>\n",
              "      <td>C L Aldridge</td>\n",
              "      <td>CreateSpace Independent Publishing Platform</td>\n",
              "      <td>2018-3-3</td>\n",
              "      <td>Paperback</td>\n",
              "      <td>102.0</td>\n",
              "      <td>5.0</td>\n",
              "      <td>1</td>\n",
              "    </tr>\n",
              "    <tr>\n",
              "      <th>31</th>\n",
              "      <td>The Marechal Chronicles: Volumes I, II and III...</td>\n",
              "      <td>Aim\\u00e9lie Aames</td>\n",
              "      <td>CreateSpace Independent Publishing Platform</td>\n",
              "      <td>2014-5-20</td>\n",
              "      <td>Paperback</td>\n",
              "      <td>278.0</td>\n",
              "      <td>3.3</td>\n",
              "      <td>1</td>\n",
              "    </tr>\n",
              "    <tr>\n",
              "      <th>36</th>\n",
              "      <td>Arousal: The Secret Logic of Sexual Fantasies</td>\n",
              "      <td>Michael J. Bader</td>\n",
              "      <td>St. Martin's Griffin</td>\n",
              "      <td>2003-1-18</td>\n",
              "      <td>Kindle</td>\n",
              "      <td>304.0</td>\n",
              "      <td>4.1</td>\n",
              "      <td>1</td>\n",
              "    </tr>\n",
              "  </tbody>\n",
              "</table>\n",
              "</div>"
            ],
            "text/plain": [
              "                                                 Name              Author  \\\n",
              "9   Fantasy Flower Garden: Adult Coloring Book of ...        C L Aldridge   \n",
              "31  The Marechal Chronicles: Volumes I, II and III...  Aim\\u00e9lie Aames   \n",
              "36      Arousal: The Secret Logic of Sexual Fantasies    Michael J. Bader   \n",
              "\n",
              "                                      Publisher Publishing_Date     Format  \\\n",
              "9   CreateSpace Independent Publishing Platform        2018-3-3  Paperback   \n",
              "31  CreateSpace Independent Publishing Platform       2014-5-20  Paperback   \n",
              "36                         St. Martin's Griffin       2003-1-18     Kindle   \n",
              "\n",
              "    Pages Rating  label  \n",
              "9   102.0    5.0      1  \n",
              "31  278.0    3.3      1  \n",
              "36  304.0    4.1      1  "
            ]
          },
          "metadata": {}
        }
      ],
      "execution_count": 100,
      "metadata": {}
    },
    {
      "cell_type": "code",
      "source": [
        "df.drop(dfAdult.index, axis=0,inplace=True)"
      ],
      "outputs": [],
      "execution_count": 101,
      "metadata": {}
    },
    {
      "cell_type": "code",
      "source": [
        "len(df)"
      ],
      "outputs": [
        {
          "output_type": "execute_result",
          "execution_count": 102,
          "data": {
            "text/plain": [
              "6030"
            ]
          },
          "metadata": {}
        }
      ],
      "execution_count": 102,
      "metadata": {}
    },
    {
      "cell_type": "code",
      "source": [
        "df = df.assign(label=0)"
      ],
      "outputs": [],
      "execution_count": 103,
      "metadata": {}
    },
    {
      "cell_type": "code",
      "source": [
        "dfLabel = pd.concat([df, dfAdult])"
      ],
      "outputs": [],
      "execution_count": 116,
      "metadata": {}
    },
    {
      "cell_type": "code",
      "source": [
        "len(dfLabel)"
      ],
      "outputs": [
        {
          "output_type": "execute_result",
          "execution_count": 117,
          "data": {
            "text/plain": [
              "6309"
            ]
          },
          "metadata": {}
        }
      ],
      "execution_count": 117,
      "metadata": {}
    },
    {
      "cell_type": "code",
      "source": [
        "titles = dfLabel['Name'].tolist()"
      ],
      "outputs": [],
      "execution_count": 118,
      "metadata": {}
    },
    {
      "cell_type": "code",
      "source": [
        "labels = np.asarray(dfLabel['label'].tolist())"
      ],
      "outputs": [],
      "execution_count": 123,
      "metadata": {}
    },
    {
      "cell_type": "code",
      "source": [
        "maxSequenceLength = 250\n",
        "maxWords = 5000"
      ],
      "outputs": [],
      "execution_count": 124,
      "metadata": {}
    },
    {
      "cell_type": "code",
      "source": [
        "tokenizer = Tokenizer(num_words=maxWords)\n",
        "tokenizer.fit_on_texts(titles)\n",
        "sequences = tokenizer.texts_to_sequences(titles)\n",
        "word_index = tokenizer.word_index"
      ],
      "outputs": [],
      "execution_count": 125,
      "metadata": {}
    },
    {
      "cell_type": "code",
      "source": [
        "len(word_index)"
      ],
      "outputs": [
        {
          "output_type": "execute_result",
          "execution_count": 126,
          "data": {
            "text/plain": [
              "8024"
            ]
          },
          "metadata": {}
        }
      ],
      "execution_count": 126,
      "metadata": {}
    },
    {
      "cell_type": "code",
      "source": [
        "data = pad_sequences(sequences, maxlen=maxSequenceLength)"
      ],
      "outputs": [],
      "execution_count": 127,
      "metadata": {}
    },
    {
      "cell_type": "code",
      "source": [
        "data.shape"
      ],
      "outputs": [
        {
          "output_type": "execute_result",
          "execution_count": 128,
          "data": {
            "text/plain": [
              "(6309, 250)"
            ]
          },
          "metadata": {}
        }
      ],
      "execution_count": 128,
      "metadata": {}
    },
    {
      "cell_type": "code",
      "source": [
        "labels.shape"
      ],
      "outputs": [
        {
          "output_type": "execute_result",
          "execution_count": 129,
          "data": {
            "text/plain": [
              "(6309,)"
            ]
          },
          "metadata": {}
        }
      ],
      "execution_count": 129,
      "metadata": {}
    },
    {
      "cell_type": "code",
      "source": [
        "indices = np.arange(data.shape[0])\n",
        "np.random.shuffle(indices)"
      ],
      "outputs": [],
      "execution_count": 130,
      "metadata": {}
    },
    {
      "cell_type": "code",
      "source": [
        "data = data[indices]\n",
        "labels = labels[indices]"
      ],
      "outputs": [],
      "execution_count": 131,
      "metadata": {}
    },
    {
      "cell_type": "code",
      "source": [
        "X_train, X_test, y_train, y_test = train_test_split(data, labels, test_size=0.2, stratify=labels)"
      ],
      "outputs": [],
      "execution_count": 132,
      "metadata": {}
    },
    {
      "cell_type": "code",
      "source": [
        "len(X_train), len(y_train)"
      ],
      "outputs": [
        {
          "output_type": "execute_result",
          "execution_count": 133,
          "data": {
            "text/plain": [
              "(5047, 5047)"
            ]
          },
          "metadata": {}
        }
      ],
      "execution_count": 133,
      "metadata": {}
    },
    {
      "cell_type": "code",
      "source": [
        "len(X_test), len(y_test)"
      ],
      "outputs": [
        {
          "output_type": "execute_result",
          "execution_count": 134,
          "data": {
            "text/plain": [
              "(1262, 1262)"
            ]
          },
          "metadata": {}
        }
      ],
      "execution_count": 134,
      "metadata": {}
    },
    {
      "cell_type": "code",
      "source": [
        "embeddingDim = 100"
      ],
      "outputs": [],
      "execution_count": 140,
      "metadata": {}
    },
    {
      "cell_type": "code",
      "source": [
        "model = models.Sequential()\n",
        "model.add(layers.Embedding(maxWords, embeddingDim, input_length=maxSequenceLength))\n",
        "model.add(layers.Flatten())\n",
        "model.add(layers.Dense(16, activation=activations.relu))\n",
        "model.add(layers.Dense(32, activation=activations.relu))\n",
        "model.add(layers.Dense(1, activation=activations.sigmoid))\n",
        "\nmodel.compile(optimizer=optimizers.Adam(), loss=losses.binary_crossentropy, metrics=['accuracy'])"
      ],
      "outputs": [],
      "execution_count": 141,
      "metadata": {}
    },
    {
      "cell_type": "code",
      "source": [
        "model.summary()"
      ],
      "outputs": [
        {
          "output_type": "stream",
          "name": "stdout",
          "text": [
            "_________________________________________________________________\n",
            "Layer (type)                 Output Shape              Param #   \n",
            "=================================================================\n",
            "embedding_2 (Embedding)      (None, 250, 100)          500000    \n",
            "_________________________________________________________________\n",
            "flatten_2 (Flatten)          (None, 25000)             0         \n",
            "_________________________________________________________________\n",
            "dense_4 (Dense)              (None, 16)                400016    \n",
            "_________________________________________________________________\n",
            "dense_5 (Dense)              (None, 32)                544       \n",
            "_________________________________________________________________\n",
            "dense_6 (Dense)              (None, 1)                 33        \n",
            "=================================================================\n",
            "Total params: 900,593\n",
            "Trainable params: 900,593\n",
            "Non-trainable params: 0\n",
            "_________________________________________________________________\n"
          ]
        }
      ],
      "execution_count": 142,
      "metadata": {}
    },
    {
      "cell_type": "code",
      "source": [
        "history = model.fit(X_train, y_train,\n",
        "                    epochs=4,\n",
        "                    batch_size=32, \n",
        "                    validation_split=0.2)"
      ],
      "outputs": [
        {
          "output_type": "stream",
          "name": "stdout",
          "text": [
            "Train on 4037 samples, validate on 1010 samples\n",
            "Epoch 1/4\n",
            "4037/4037 [==============================] - 3s 632us/step - loss: 0.1957 - acc: 0.9477 - val_loss: 0.1585 - val_acc: 0.9584\n",
            "Epoch 2/4\n",
            "4037/4037 [==============================] - 2s 482us/step - loss: 0.1170 - acc: 0.9633 - val_loss: 0.1289 - val_acc: 0.9653\n",
            "Epoch 3/4\n",
            "4037/4037 [==============================] - 2s 460us/step - loss: 0.0503 - acc: 0.9849 - val_loss: 0.1091 - val_acc: 0.9703\n",
            "Epoch 4/4\n",
            "4037/4037 [==============================] - 2s 456us/step - loss: 0.0246 - acc: 0.9926 - val_loss: 0.1196 - val_acc: 0.9693\n"
          ]
        }
      ],
      "execution_count": 143,
      "metadata": {}
    },
    {
      "cell_type": "code",
      "source": [
        "acc = history.history['acc']\n",
        "val_acc = history.history['val_acc']\n",
        "\n",
        "loss = history.history['loss']\n",
        "val_loss = history.history['val_loss']\n",
        "\n",
        "epochs = range(1, len(acc) + 1)\n",
        "plt.plot(epochs, acc, 'bo', label='Training acc')\n",
        "plt.plot(epochs, val_acc, 'b', label='Validation acc')\n",
        "plt.title('Training and validation accuracy')\n",
        "plt.xlabel(\"Epochs\")\n",
        "plt.ylabel(\"Accuracy\")\n",
        "plt.legend()\n",
        "\n",
        "plt.figure()\n",
        "\n",
        "plt.plot(epochs, loss, 'bo', label='Training loss')\n",
        "plt.plot(epochs, val_loss, 'b', label='Validation loss')\n",
        "plt.title('Training and validation loss')\n",
        "plt.xlabel(\"Epochs\")\n",
        "plt.ylabel(\"Loss\")\n",
        "plt.legend()\n",
        "plt.show();"
      ],
      "outputs": [
        {
          "output_type": "display_data",
          "data": {
            "image/png": "[encoded data removed]",
            "text/plain": [
              "<matplotlib.figure.Figure at 0x18e0f0041d0>"
            ]
          },
          "metadata": {}
        },
        {
          "output_type": "display_data",
          "data": {
            "image/png": "[encoded data removed]",
            "text/plain": [
              "<matplotlib.figure.Figure at 0x18e0f02ccf8>"
            ]
          },
          "metadata": {}
        }
      ],
      "execution_count": 144,
      "metadata": {}
    },
    {
      "cell_type": "code",
      "source": [
        "results = model.evaluate(X_test, y_test)\n",
        "loss = results[0]\n",
        "accuracy = results[1]"
      ],
      "outputs": [
        {
          "output_type": "stream",
          "name": "stdout",
          "text": [
            "1262/1262 [==============================] - 0s 181us/step\n"
          ]
        }
      ],
      "execution_count": 145,
      "metadata": {}
    },
    {
      "cell_type": "code",
      "source": [
        "loss"
      ],
      "outputs": [
        {
          "output_type": "execute_result",
          "execution_count": 146,
          "data": {
            "text/plain": [
              "0.05760272724182004"
            ]
          },
          "metadata": {}
        }
      ],
      "execution_count": 146,
      "metadata": {}
    },
    {
      "cell_type": "code",
      "source": [
        "accuracy"
      ],
      "outputs": [
        {
          "output_type": "execute_result",
          "execution_count": 147,
          "data": {
            "text/plain": [
              "0.9857369255150554"
            ]
          },
          "metadata": {}
        }
      ],
      "execution_count": 147,
      "metadata": {}
    },
    {
      "cell_type": "code",
      "source": [
        "def classifyTuples(model, tokenizer, value):\n",
        "    value = [value]\n",
        "    sequences = tokenizer.texts_to_sequences(value)\n",
        "    testData = pad_sequences(sequences, maxlen=250)\n",
        "    predictions = model.predict(testData)\n",
        "    return int(predictions[0] >= 0.5)"
      ],
      "outputs": [],
      "execution_count": 148,
      "metadata": {}
    },
    {
      "cell_type": "code",
      "source": [
        "ourLabels = []\n",
        "for row in titles:\n",
        "    label = classifyTuples(model, tokenizer, row)\n",
        "    ourLabels.append({row:label})"
      ],
      "outputs": [],
      "execution_count": 149,
      "metadata": {}
    },
    {
      "cell_type": "code",
      "source": [
        "len(ourLabels)"
      ],
      "outputs": [
        {
          "output_type": "execute_result",
          "execution_count": 150,
          "data": {
            "text/plain": [
              "6309"
            ]
          },
          "metadata": {}
        }
      ],
      "execution_count": 150,
      "metadata": {}
    },
    {
      "cell_type": "code",
      "source": [
        "ourLabels"
      ],
      "outputs": [
        {
          "output_type": "execute_result",
          "execution_count": 151,
          "data": {
            "text/plain": [
              "[{'Age of Myth: Book One of The Legends of the First Empire': 0},\n",
              " {'Rise of the Dragons (Kings and Sorcerers--Book 1)': 0},\n",
              " {'The Book of Deacon (Volume 1)': 0},\n",
              " {\"A Quest of Heroes: Book #1 in the Sorcerer's Ring\": 0},\n",
              " {'Fantasia: An Algerian Cavalcade': 0},\n",
              " {'The Fantasy Baseball Black Book 2018 (Fantasy Black Book)': 0},\n",
              " {'Fantasy Baseball for Smart People: How to Use Math and Psychology to Win at DFS': 0},\n",
              " {'Final Fantasy XV Guide: Walkthrough, Side Quests, Bounty Hunts, Food Recipes, Cheats, Secrets and More': 0},\n",
              " {'Power, Faith, and Fantasy: America in the Middle East: 1776 to the Present': 0},\n",
              " {'The Wolf of the North: Wolf of the North Book 1 (Volume 1)': 0},\n",
              " {'Fantasy of Freedom (The Tainted Accords) (Volume 4)': 0},\n",
              " {'Fantasia in D minor, K. 397: Sheet (Alfred Masterwork Edition)': 0},\n",
              " {'Basic Fantasy Role-Playing Game 3rd Edition': 0},\n",
              " {'Thinblade: Sovereign of the Seven Isles: Book One': 0},\n",
              " {'Empire of Storms (Throne of Glass)': 0},\n",
              " {'Grimgar of Fantasy and Ash (Light Novel) Vol. 6': 0},\n",
              " {'Fantasy League': 0},\n",
              " {'Final Fantasy X Official Strategy Guide (Brady Games Signature Series)': 0},\n",
              " {'How to Draw and Paint Fantasy Architecture: From Ancient Citadels and Gothic Castles to Subterranean Palaces and Floating Fortresses': 0},\n",
              " {'How to Draw Fantasy Art and RPG Maps: Step by Step Cartography for Gamers and Fans': 0},\n",
              " {'Fantasy of Flight (The Tainted Accords) (Volume 2)': 0},\n",
              " {\"A Child's Work: The Importance of Fantasy Play\": 0},\n",
              " {'Fantasy Baseball for Smart People: How to Profit Big During MLB Season': 0},\n",
              " {'Writing Fantasy & Science Fiction: How to Create Out-of-This-World Novels and Short Stories': 0},\n",
              " {'Fighting Fantasy: Forest of Doom': 0},\n",
              " {'The Golden Ass (Penguin Classics)': 0},\n",
              " {'Arcane (The Arinthian Line) (Volume 1)': 0},\n",
              " {'Fantasy of Frost (The Tainted Accords) (Volume 1)': 0},\n",
              " {'The Ballad of Titha Mae: A Fantasy in Twelve Parts': 0},\n",
              " {'The Rage of Dragons': 0},\n",
              " {'Gothic - Dark Fantasy Coloring Book (Fantasy Art Coloring by Selina) (Volume 6)': 0},\n",
              " {\"Fantasy Life: The Outrageous, Uplifting, and Heartbreaking World of Fantasy Sports from the Guy Who's Lived It\": 0},\n",
              " {'The Best American Science Fiction and Fantasy 2015 (The Best American Series ®)': 0},\n",
              " {'Color Your Fantasy II Coloring Book': 0},\n",
              " {'Color My Art: Surreal Fantasy: Grayscale & Underpainting Coloring Book': 0},\n",
              " {'Colouring Fantasy 2 - Colouring Book by Scot Howden (Volume 2)': 0},\n",
              " {'Fantasia Mathematica': 0},\n",
              " {'Make A Witch (A Wicked Witches of the Midwest Fantasy) (Volume 3)': 0},\n",
              " {'The Shock of Night (The Darkwater Saga)': 0},\n",
              " {'Medieval Madness: a fantasy adventure book for kids and teens aged 9-15 (Volume 1)': 0},\n",
              " {'Storyworld First: Creating a Unique Fantasy World for Your Novel': 0},\n",
              " {'The Best American Science Fiction and Fantasy 2016 (The Best American Series ®)': 0},\n",
              " {'The Basic Fantasy Field Guide': 0},\n",
              " {'The Girl from Everywhere': 0},\n",
              " {'Billy Joel - Fantasies & Delusions: Music for Solo Piano, Op. 1-10': 0},\n",
              " {'Final Fantasy Anthology Official Strategy Guide (Brady Games)': 0},\n",
              " {\"Benny Ricciardi's Definitive Guide to Fantasy Baseball\": 0},\n",
              " {'Winter Wolf (A New Dawn Novel)': 0},\n",
              " {'The lost art of how to draw fantasy females': 0},\n",
              " {'Fairies & Fantasy: Learn to paint the enchanted world of fairies, angels, and mermaids (Watercolor Made Easy)': 0},\n",
              " {'500 Science Fiction and Fantasy Writing Prompts': 0},\n",
              " {\"Witch's Reign (Desert Cursed Series Book 1) (The Desert Cursed Series) (Volume 1)\": 0},\n",
              " {'Fantasy Coloring Adventure: A Magical World of Fantasy Creatures, Enchanted Animals, and Whimsical Scenes': 0},\n",
              " {'The Change (Unbounded) (Volume 1)': 0},\n",
              " {'Enchanted - Magical Forests Coloring Collection (Fantasy Art Coloring by Selina) (Volume 3)': 0},\n",
              " {'The New Voices of Fantasy': 0},\n",
              " {'The Destroyer (Volume 1)': 0},\n",
              " {'Owls and Other Fantasies: Poems and Essays': 0},\n",
              " {'Fantasy Map Making: A step-by-step guide for worldbuilders (Writer Resources) (Volume 2)': 0},\n",
              " {'Fantasy Islands: Chinese Dreams and Ecological Fears in an Age of Climate Crisis': 0},\n",
              " {'Marking Time: The Immortal Descendants: Book 1': 0},\n",
              " {\"The Year's Best Fantasy and Horror: Twelfth Annual Collection (No. 12)\": 0},\n",
              " {\"The Queen's Poisoner (The Kingfountain Series)\": 0},\n",
              " {'The Hundredth Queen (The Hundredth Queen Series)': 0},\n",
              " {'DOTTY and the Calendar House Key: (A magical fantasy adventure for 8-12 year olds) (The DOTTY Series) (Volume 1)': 0},\n",
              " {\"The Fantasy Illustrator's Technique Book (Quarto Book)\": 0},\n",
              " {'Writing Fantasy: The Top 100 Best Strategies For Writing Fantasy Stories': 0},\n",
              " {'Fantasy of Fire (The Tainted Accords) (Volume 3)': 0},\n",
              " {'Enchantress (The Evermen Saga)': 0},\n",
              " {'Russian Fairy Tales (The Pantheon Fairy Tale and Folklore Library)': 0},\n",
              " {'The Flame and the Arrow (The Annika Brisby Series) (Volume 1)': 0},\n",
              " {'The Paladin Prophecy: Book 1': 0},\n",
              " {\"Undercover Magic (Dragon's Gift: The Valkyrie) (Volume 1)\": 0},\n",
              " {'Flesh for Fantasy: Producing and Consuming Exotic Dance': 0},\n",
              " {'Harbinger of Doom (Volumes 1 - 3): Three Book Bundle': 0},\n",
              " {'Vietnam and Other American Fantasies (Culture, Politics, and the Cold War)': 0},\n",
              " {\"Fantasy Football for Smart People: What the Experts Don't Want You to Know\": 0},\n",
              " {'Today Is Too Late (The Shedim Rebellion) (Volume 1)': 0},\n",
              " {'Final Fantasy Origins: Official Strategy Guide': 0},\n",
              " {'Fantasy Football Basics: The Ultimate \"How-to\" Guide for Beginners': 0},\n",
              " {\"Borrowed Magic: An Urban Fantasy Novel (Witch's Bite Series) (Volume 1)\": 0},\n",
              " {'Final Fantasy Chronicles Official Strategy Guide: Chrono Trigger and Final Fantasy 4': 0},\n",
              " {'Adventure Anthology 1': 0},\n",
              " {'The Sword of the Wormling': 0},\n",
              " {'Faedorables - Sweet and Simple Coloring Book (Fantasy Coloring by Selina) (Volume 14)': 0},\n",
              " {'The Encyclopedia of Fantasy': 0},\n",
              " {'Drawing and Painting Fantasy Landscapes and Cityscapes': 0},\n",
              " {'Uprooted: A Novel': 0},\n",
              " {'Slave, Warrior, Queen (of Crowns and Glory--Book 1)': 0},\n",
              " {\"Official Nintendo Power FINAL FANTASY V ADVANCE Player's Guide\": 0},\n",
              " {'The Seven (The Vagrant Trilogy)': 0},\n",
              " {'Gaming As Culture: Essays on Reality, Identity And Experience in Fantasy Games': 0},\n",
              " {'Mastering Fantasy Art - Drawing Dynamic Characters: People, Poses, Creatures and More': 0},\n",
              " {'Truth, Fantasy, and Paradox: The Fairy Tales of George MacDonald, G.K. Chesterton, and C.S. Lewis': 0},\n",
              " {'Strongholds of Sorcery: The Glain Campaign': 0},\n",
              " {'Dungeon Fantasy Companion': 0},\n",
              " {\"Fantasy Writing Prompts: 77 Powerful Ideas To Inspire Your Fiction (Writer's Craft) (Volume 24)\": 0},\n",
              " {'A Witchmas Carol: A Wicked Witches of the Midwest Fantasy (Volume 4)': 0},\n",
              " {'Mage Slave (The Enslaved Chronicles) (Volume 1)': 0},\n",
              " {'The Alchemist': 0},\n",
              " {'Fantasy Pieces: Metrical Dissonance in the Music of Robert Schumann': 0},\n",
              " {'COLORING BOOK Fantasy Mermaids & Fairies: Amazing coloring book for all ages.': 0},\n",
              " {'Fantasy Basketball and Mathematics: Student Workbook': 0},\n",
              " {'CRISIS CORE -FINAL FANTASY VII- Signature Series Guide (Bradygames Signature Series Guides)': 0},\n",
              " {'The Cambridge Companion to Fantasy Literature (Cambridge Companions to Literature)': 0},\n",
              " {'Faedorables Minis - Pocket Sized Cute Fantasy Coloring Book (Fantasy Coloring by Selina) (Volume 16)': 0},\n",
              " {'The Complete Guide to Writing Fantasy, Vol. 1: Alchemy with Words (The Compete Guide Series)': 0},\n",
              " {\"Official Nintendo Final Fantasy I & II: Dawn of Souls Player's Guide\": 0},\n",
              " {'Carving Fantasy & Legend Figures in Wood, Revised Edition: Patterns & Instructions for Dragons, Wizards & Other Creatures of Myth': 0},\n",
              " {'Kingdom of Storms: a Reverse Harem Fantasy (The Legend of Tariel) (Volume 1)': 0},\n",
              " {'Fantasy Baseball for Smart People: The Art (and Science) of Being Contrarian in DFS': 0},\n",
              " {'Rhetorics of Fantasy': 0},\n",
              " {'Fighting Fantasy: The Port of Peril': 0},\n",
              " {'Dragons, Witches, and Other Fantasy Creatures in Origami (Dover Origami Papercraft)': 0},\n",
              " {\"Bad Guys Don't Have Birthdays: Fantasy Play at Four\": 0},\n",
              " {'Fantasy Baseball and Mathematics: A Resource Guide for Teachers and Parents, Grades 5 and Up': 0},\n",
              " {'Fantasy & Fairytales: by Sassy Colouring': 0},\n",
              " {'Fighting Fantasy: City of Thieves': 0},\n",
              " {'The Pillar of Light: The Milana Legends, Part One, A Christian Fantasy Adventure (Volume 1)': 0},\n",
              " {'Sacrificed (The Last Oracle) (Volume 1)': 0},\n",
              " {'Draw Alien Fantasies: A step-by-step guide': 0},\n",
              " {'Famous Fantasy Character Monologs: Starring the Not-so-wicked Witch And More': 0},\n",
              " {'Fantasy Basketball and Mathematics: A Resource Guide for Teachers and Parents, Grades 5 and Up': 0},\n",
              " {'Final Fantasy XI Official Strategy Guide for PS2 & PC (Spring 2004 Version)': 0},\n",
              " {'Natural Witch (Magical Mayhem) (Volume 1)': 0},\n",
              " {'Fantasy 5 Formula: Win Cash 5 Lottery': 0},\n",
              " {'Magic of Thieves': 0},\n",
              " {'Once Upon a Witch: A Wicked Witches of the Midwest Fantasy Books 1-3': 0},\n",
              " {'The Fifth Season (The Broken Earth)': 0},\n",
              " {'Writers of the Future Vol 33 (L. Ron Hubbard Presents Writers of the Future)': 0},\n",
              " {'Shadow Descendant (Descendants) (Volume 1)': 0},\n",
              " {'Cupcakes, Trinkets, and Other Deadly Magic (The Dowser Series) (Volume 1)': 0},\n",
              " {'The Jack of Souls (The Unseen Moon Series) (Volume 1)': 0},\n",
              " {'The Lure of Fantasy Islam: Exposing the Myths and Myth Makers': 0},\n",
              " {'Sweet Blood of Mine: Book One of the Overworld Chronicles (Volume 1)': 0},\n",
              " {'Final Fantasy XV Game Guide Unofficial': 0},\n",
              " {\"Companion to Narnia, Revised Edition: A Complete Guide to the Magical World of C.S. Lewis's The Chronicles of Narnia\": 0},\n",
              " {'Fantasy Swap Online: A Gender Swapped LitRPG Adventure': 0},\n",
              " {'Awaken (Awakened Fate) (Volume 1)': 0},\n",
              " {'Fantasy Football U: Expert Tips on How to Dominate Your Draft': 0},\n",
              " {'Goddess and Mythology Coloring Book (Fantasy Coloring by Selina) (Volume 9)': 0},\n",
              " {'Fantasy Snowflakes Coloring Book': 0},\n",
              " {'Flowers of Fantasy: A Coloring Book of Fantastical Flower Designs, Flowers in Vases, Flowers and Poetry and More!': 1},\n",
              " {'Fantasy Film: A Critical Introduction (Film Genres)': 0},\n",
              " {'Diamond Dividends: Creative Strategies to Profit Through Fantasy Baseball': 0},\n",
              " {'Fantasia of the Unconscious and Psychoanalysis and the Unconscious (Penguin Twentieth Century Classics)': 0},\n",
              " {'A Cast of Stones (The Staff and the Sword)': 0},\n",
              " {'Dragon Rose (Tales of the Latter Kingdoms)': 0},\n",
              " {'A Short History of Fantasy': 0},\n",
              " {'Fantasy Castle Cross Stitch Patterns: Collection Number 1': 0},\n",
              " {\"A Sellsword's Compassion: Book One of the Seven Virtues\": 0},\n",
              " {'Christmas Fantasy Duets: 4 Arrangements for Early Intermediate to Late Intermediate Pianists': 0},\n",
              " {'Wolf Sight (A New Dawn Novel)': 0},\n",
              " {'Daughter of Magic': 0},\n",
              " {'The King: The Jester King Fantasy Series: Book Four (Volume 4)': 0},\n",
              " {'Writing Fantasy Heroes: Powerful Advice from the Pros (Rogue Blades Presents)': 0},\n",
              " {'Calling (The Starlight Chronicles) (Volume 2)': 0},\n",
              " {'Cirsova #7: Heroic Fantasy and Science Fiction Magazine (Volume 7)': 0},\n",
              " {'William Wilde and the Necrosed (The Chronicles of William Wilde)': 0},\n",
              " {'Fantasy and Fairies- A Grayscale Coloring Book: Fairies, Mermaids, Dragons and More!': 0},\n",
              " {'She': 0},\n",
              " {'The Mage and the Magpie (Magemother) (Volume 1)': 0},\n",
              " {'Fantasy Football for Smart People: How to Dominate Your Draft': 0},\n",
              " {'Final Fantasy Tactics: The War of the Lions Official Strategy Guide (BradyGames Official Strategy Guides)': 0},\n",
              " {'World of Final Fantasy': 0},\n",
              " {'The Scratchling Trinity: a magical adventure for children ages 9-15': 0},\n",
              " {\"The Tiger's Daughter (Their Bright Ascendency)\": 0},\n",
              " {'Fantastic Creatures: A Fellowship of Fantasy Anthology (Volume 1)': 0},\n",
              " {'The Best of Heroic Fantasy Quarterly: Volume 1, 2009-2011': 0},\n",
              " {'Dreamscapes: Creating Magical Angel, Faery & Mermaid Worlds In Watercolor': 0},\n",
              " {'The Axe and the Throne (Bounds of Redemption) (Volume 1)': 0},\n",
              " {'UnEnchanted: An Unfortunate Fairy Tale (Unfortunate Fairy Tale;bk. 1)': 0},\n",
              " {'The Prince: The Jester King Fantasy Series: Book Three (Volume 3)': 0},\n",
              " {'Final Fantasy XV Game PC, PS4, DLC, Walkthrough Tips, Cheats Unofficial: Beat the Game & Get the Best Weapons!': 0},\n",
              " {'Born To Magic: Tales Of Nevaeh, Volume I (Volume 1)': 0},\n",
              " {'Nine Heroes: Tales of heroic Fantasy': 0},\n",
              " {'Diary of a Wizard Kid: a hilarious adventure for children ages 9-14': 0},\n",
              " {'Three Wells of the Sea': 0},\n",
              " {'Firebolt (The Dragonian Series) (Volume 1)': 0},\n",
              " {'Final Fantasy XII: The Complete Guide': 0},\n",
              " {'Fantasy Magazine, December 2015 (Queers Destroy Fantasy! Special Issue) (Volume 59)': 0},\n",
              " {\"Fiction Writers' Phrase Book: Essential Reference and Thesaurus for Authors of Action, Fantasy, Horror, and Science Fiction (Writers' Phrase Books) (Volume 5)\": 0},\n",
              " {'The Goblin Wars: Omnibus Edition': 0},\n",
              " {'Seven Wonders Book 1: The Colossus Rises': 0},\n",
              " {'Fantasies and Nightmares': 0},\n",
              " {'American Gods: A Novel': 0},\n",
              " {'The Jester: The Jester King Fantasy Series: Book Two (Volume 2)': 0},\n",
              " {'Fire Mage: Blacklight Chronicles': 0},\n",
              " {'Fantasy Characters: Easy-to-Follow Clay-Making Projects in Simple Steps (Modeling Clay Books)': 0},\n",
              " {'The Rampart Guards: Chronicle One in the Adventures of Jason Lex': 0},\n",
              " {'Norse Mythology': 0},\n",
              " {'The Chaotic Caves': 0},\n",
              " {'Draykon: Book 1 (The Draykon Series)': 0},\n",
              " {'Timekeeper': 0},\n",
              " {'Romancing the Werewolf: A Supernatural Society Novella (The Supernatural Society) (Volume 2)': 0},\n",
              " {'Cloak Games: Thief Trap (Volume 1)': 0},\n",
              " {'Harry Potter And The Order Of The Phoenix': 0},\n",
              " {'Spirit & Fantasy Coloring Book: Black & White Edition': 0},\n",
              " {'The Man of Legends': 0},\n",
              " {'Warhammer RPG: Tome of Salvation (Warhammer Fantasy Roleplay)': 0},\n",
              " {'Graveyard Shift: (Lana Harvey, Reapers Inc.)': 0},\n",
              " {'Annihilation: A Novel (The Southern Reach Trilogy)': 0},\n",
              " {'Final Fantasy Tactics: The Official Strategy Guide (Greatest Hits)': 0},\n",
              " {'Avenger: The Sanctuary Series, Vol. 2': 0},\n",
              " {'Monkey Isle': 0},\n",
              " {'A Discovery of Witches (All Souls Trilogy)': 0},\n",
              " {'Incarnation: Wandering Stars Volume One (Volume 1)': 0},\n",
              " {'The Soul Summoner Series: Books 1-3': 0},\n",
              " {\"The Year's Best Dark Fantasy & Horror 2014 Edition\": 0},\n",
              " {'Kobold Guide to Worldbuilding': 0},\n",
              " {'Acceptance: A Novel (The Southern Reach Trilogy)': 0},\n",
              " {'The Secret of Spellshadow Manor 4: The Keep (Volume 4)': 0},\n",
              " {'The Legend of the Firewalker': 0},\n",
              " {\"Official Nintendo Final Fantasy IV Advance Player's Guide\": 0},\n",
              " {'The Land of Laughs': 0},\n",
              " {'The Heroes of Olympus Paperback Boxed Set': 0},\n",
              " {'The Dark Tower I: The Gunslinger': 0},\n",
              " {'The Giver (Giver Quartet)': 0},\n",
              " {'The Witcher Boxed Set: Blood of Elves, The Time of Contempt, Baptism of Fire': 0},\n",
              " {'Inheritance Cycle 4-Book Trade Paperback Boxed Set (Eragon, Eldest, Brisingr, In (The Inheritance Cycle)': 0},\n",
              " {'Why Dragons Hide (The Arclight Saga, Book 0)': 0},\n",
              " {'Pinehurst': 0},\n",
              " {\"The Traveler's Gift\": 0},\n",
              " {'Street Dreams and Hip Hop Barbershops: Global Fantasy in Urban Tanzania (Tracking Globalization)': 0},\n",
              " {\"Devlin's Door: Forests of the Fae\": 0},\n",
              " {'Atlantis Riptide: Lost Daughters of Atlantis Book 1 (Volume 1)': 0},\n",
              " {'Scythe (Arc of a Scythe)': 0},\n",
              " {'Dark Matter: A Novel': 0},\n",
              " {'Divergent (Divergent Series)': 0},\n",
              " {'Insurgent (Divergent Series)': 0},\n",
              " {'Fairy Magic - Whimsical Fantasy Coloring Book (Fantasy Colouring by Selina) (Volume 14)': 0},\n",
              " {'Strega Nona': 0},\n",
              " {'The Cricket in Times Square (Chester Cricket and His Friends)': 0},\n",
              " {'Pines (The Wayward Pines Trilogy)': 0},\n",
              " {'Dagger - The Light at the End of the World (Volume 1)': 0},\n",
              " {\"Midnight's Children: A Novel (Modern Library 100 Best Novels)\": 0},\n",
              " {'Brilliance (The Brilliance Trilogy)': 0},\n",
              " {'Patriots: A Novel of Survival in the Coming Collapse': 0},\n",
              " {'The Hellbound Heart: A Novel': 0},\n",
              " {\"The Werewolf of Bamberg (A Hangman's Daughter Tale)\": 0},\n",
              " {'The Andromeda Strain': 0},\n",
              " {'Impostor Syndrome (The Arcadia Project)': 0},\n",
              " {'The Enchanted: A Novel (P.S. (Paperback))': 0},\n",
              " {'Blackbirds (Miriam Black)': 0},\n",
              " {'The Children of Men': 0},\n",
              " {'Dark Tales': 0},\n",
              " {'The Strangers on Montagu Street (Tradd Street)': 0},\n",
              " {'The Plague Dogs: A Novel': 0},\n",
              " {'The Atopia Chronicles (Atopia Series)': 0},\n",
              " {\"Assassin's Creed: Black Flag\": 0},\n",
              " {'Murder on the Sugarland Express (Southern Ghost Hunter) (Volume 6)': 0},\n",
              " {'Gun, with Occasional Music (Harvest Book)': 0},\n",
              " {'Psychic Surveys Book One: The Haunting of Highdown Hall: A Gripping Supernatural Thriller': 0},\n",
              " {\"The Bird's Nest\": 0},\n",
              " {'The Lemoncholy Life of Annie Aster': 0},\n",
              " {'The Meridian Ascent (Rho Agenda Assimilation)': 0},\n",
              " {'The Stolen Child': 0},\n",
              " {'The Naming of the Beasts (Felix Castor)': 0},\n",
              " {'Rain Dance (Sunshine & Scythes) (Volume 1)': 0},\n",
              " {'The Broken Eye (Lightbringer)': 0},\n",
              " {'Last Argument of Kings (The First Law)': 0},\n",
              " {'Quicksilver (The Baroque Cycle, Vol. 1)': 0},\n",
              " {'The Girl in the Green Silk Gown (Ghost Roads)': 0},\n",
              " {'Wings of the Storm (Sigurd)': 0},\n",
              " {'The Legend of Eli Monpress: Book 1, 2 & 3 (Ominubus Edition)': 0},\n",
              " {'Bayou Born (The Foundling Series)': 0},\n",
              " {'Fall of Light: Book Two of the Kharkanas Trilogy': 0},\n",
              " {'The Woodcutter': 0},\n",
              " {'The Night Realm (Spell Weaver) (Volume 1)': 0},\n",
              " {\"Marion Zimmer Bradley's Ravens of Avalon\": 0},\n",
              " {'Cities of Gold and Glory (Fabled Lands) (Volume 2)': 0},\n",
              " {'Tarzan of the Apes (Penguin Classics)': 0},\n",
              " {'Silver & Bone (American Alchemy - Wild West)': 0},\n",
              " {'War of Shadows (The Ascendant Kingdoms Saga)': 0},\n",
              " {\"The Path of Daggers: Book Eight of 'The Wheel of Time'\": 0},\n",
              " {'Bran Mak Morn: The Last King': 0},\n",
              " {'Baltimore, or The Steadfast Tin Soldier & the Vampire': 0},\n",
              " {'Votan and Other Novels (Fantasy Masterworks)': 0},\n",
              " {'More Than a Game (Fayroll)': 0},\n",
              " {'El caballero de los Siete Reinos Knight of the Seven Kingdoms-Spanish (A Vintage Español Original) (Spanish Edition)': 0},\n",
              " {'In Thunder Forged: Iron Kingdoms Chronicles (The Fall of Llael)': 0},\n",
              " {'Fantasy in Death': 0},\n",
              " {'Battle Mage': 0},\n",
              " {'How to Write Science Fiction & Fantasy': 0},\n",
              " {'Fantasy Art Drawing Skills: All the Art Techniques, Demonstrations, and Short Cuts You Need to Master Fantasy Art': 0},\n",
              " {'Dragons & Fantasy: Unleash your creative beast as you conjure up dragons, fairies, ogres, and other fantastic creatures (Drawing Made Easy)': 0},\n",
              " {'A Pro’s Guide for Winning at Daily Fantasy Basketball': 0},\n",
              " {'Witch Craze: Terror and Fantasy in Baroque Germany': 0},\n",
              " {'Final Fantasy XII the Zodiac Age Game Guide Unofficial': 0},\n",
              " {'Amy Brown Faeries Coloring Book 4': 0},\n",
              " {'Blackmark: An Epic Fantasy Adventure Sword and Highland Magic (The Kingsmen Chronicles) (Volume 1)': 0},\n",
              " {\"L'amour, La Fantasia (Le Livre De Poche) (French Edition)\": 0},\n",
              " {'SNES Classic: The Ultimate Guide To Final Fantasy III': 0},\n",
              " {'Dawn of Wonder (The Wakening) (Volume 1)': 0},\n",
              " {'High Fantasy (The Feedback Loop) (Volume 3)': 0},\n",
              " {\"How to Write Realistic Monsters, Aliens, and Fantasy Creatures: The Top Writer's Toolkit for Fantasy, Horror, and Science Fiction (How to Write Realistic Fiction) (Volume 3)\": 0},\n",
              " {'A Fantasy Collection - Deeper Shades: For The Novice Grayscale Colorist': 0},\n",
              " {'Dreams of the Past: 2017 Anthology': 0},\n",
              " {'Essential Strategies for Winning at Daily Fantasy Sports': 0},\n",
              " {'Myth & Magic: An Enchanted Fantasy Coloring Book by Kinuko Y. Craft': 0},\n",
              " {'The Prentice Hall Anthology of Science Fiction and Fantasy': 0},\n",
              " {'DragonArt Fantasy Characters: How to Draw Fantastic Beings and Incredible Creatures': 0},\n",
              " {'A Fantasy Tree House Coloring Book': 0},\n",
              " {'Fantasies of Identification: Disability, Gender, Race (Cultural Front)': 0},\n",
              " {'Draw & Paint Fantasy Art Warriors & Heroes': 0},\n",
              " {'The Compendium of Fantasy Art Techniques: The Step-by-Step Guide to Creating Fantasy Worlds, Mystical Characters, and the Creatures of Your Own Worst Nightmares': 0},\n",
              " {'Dragonart: How to Draw Fantastic Dragons and Fantasy Creatures': 0},\n",
              " {'The Dark Eidolon and Other Fantasies (Penguin Classics)': 0},\n",
              " {'Complete Sonatas and Fantasies for Solo Piano (Dover Music for Piano)': 0},\n",
              " {'The Fantasy Bond : Structure of Psychological Defenses': 0},\n",
              " {'Afrofuturism: The World of Black Sci-Fi and Fantasy Culture': 0},\n",
              " {'Grimgar of Fantasy and Ash (Light Novel) Vol. 5': 0},\n",
              " {'The Fantasy Benefit: The 2018 Fantasy Baseball Draft Guide': 0},\n",
              " {'Faded Fantasies & Forgotten Forevers': 0},\n",
              " {'Draft Engine Fantasy Baseball 2017: Winning Rankings for Every Scoring System': 0},\n",
              " {'Fighting Fantasy:The Warlock of Firetop Mountain': 0},\n",
              " {'Selections from Final Fantasy': 0},\n",
              " {'Twelve Fantasias for Solo Flute': 0},\n",
              " {'Firstborn - Book 1 of the Legacy Series (An Urban Fantasy novel) (Volume 1)': 0},\n",
              " {'The China Fantasy: Why Capitalism Will Not Bring Democracy to China': 0},\n",
              " {\"Hero's Journey: A Fantasy Screenplay\": 0},\n",
              " {'The Midnight Sea (The Fourth Element) (Volume 1)': 0},\n",
              " {'Fantasy for Tuba: Part(s) (Faber Edition)': 0},\n",
              " {'Legends: Stories By The Masters of Modern Fantasy': 0},\n",
              " {'Grimgar of Fantasy and Ash, Vol. 3 (manga) (Grimgar of Fantasy and Ash (manga))': 0},\n",
              " {'Fantasy Genesis Characters: A creativity game for drawing original people and creatures': 0},\n",
              " {'Fantasia in C minor (Alfred Masterwork Edition)': 0},\n",
              " {'The Book of 100 Dragons LEVEL 2: A Fantasy-themed coloring book (The Book of 100 dragons coloring books) (Volume 2)': 0},\n",
              " {'Final Fantasy XV: Standard Edition': 0},\n",
              " {'Fossil Facts & Fantasies': 0},\n",
              " {'The Last Hieroglyph: The Collected Fantasies, Vol. 5': 0},\n",
              " {'Sleigh Ride Duet Fantasy: Sheet (The Alfred Duet Series: Duet Fantasy)': 0},\n",
              " {'Fantasy Football Draft Strategies: Using Analytics to Build Winning Fantasy Football Teams': 0},\n",
              " {'White Box: Fantastic Medieval Adventure Game': 0},\n",
              " {'Magical Cross Stitch Designs: Over 60 Fantasy Cross Stitch Designs Featuring Fairies, Wizards, Witches and Dragons': 0},\n",
              " {'Fantasy & Legend Scroll Saw Puzzles: Patterns & Instructions for Dragons, Wizards & Other Creatures of Myth': 0},\n",
              " {'Manga Magic: How to Draw and Color Mythical and Fantasy Characters': 0},\n",
              " {'Hunter': 0},\n",
              " {'Final Fantasy XV PC Game Guide Unofficial: Beat the Game, Opponents, & Bosses! Get the Best Items!': 0},\n",
              " {'Fantasy Creatures in Clay: Techniques for Sculpting Dragons, Griffins and More': 0},\n",
              " {'The Secret History of Fantasy': 0},\n",
              " {'Mission Improbable: Using Fantasy Documents to Tame Disaster': 0},\n",
              " {'Imagining Tibet: Perceptions, Projections, and Fantasies': 0},\n",
              " {'FINAL FANTASY X-2 Limited Edition': 0},\n",
              " {'Telemann Twelve Fantasias for flute solo without bass (MDB Urtext)': 0},\n",
              " {'The Fantasy Film': 0},\n",
              " {'Fantasy AGE Bestiary': 0},\n",
              " {'Bizantium and the Northern Islands - A Sourcebook for the Palladium Fantasy RPG - Second Edition': 0},\n",
              " {'Final Fantasy III:  Bradygames Official Strategy Guide': 0},\n",
              " {'The Plot Fantastic: How to Write a Fantasy Novel (The Plot Chronicles) (Volume 3)': 0},\n",
              " {'Sonata in C major. Fantasia in D minor.': 0},\n",
              " {'Final Fantasy XII Signature Series Guide': 0},\n",
              " {'Fantasy, Op. 17 (Kalmus Edition)': 0},\n",
              " {'Fighting Fantasy: House of Hell': 0},\n",
              " {'A Quick Guide to Teaching Reading Through Fantasy Novels, 5-8 (Workshop Help Desk)': 0},\n",
              " {'Ruins on Stone Hill (Heroes of Ravenford) (Volume 1)': 0},\n",
              " {'The Hobbit and the Lord of the Rings (the Hobbit / the Fellowship of the Ring / the Two Towers / the': 0},\n",
              " {'Drawing Fantasy Creatures': 0},\n",
              " {'The Fantasy Sports Boss 2018 Fantasy Baseball Draft Guide': 0},\n",
              " {'By Force of Fantasy: How We Make Our Lives': 0},\n",
              " {'Rune Empire (Runebound) (Volume 1)': 0},\n",
              " {'Fantasy for Horn: Part(s) (Faber Edition)': 0},\n",
              " {'Modern Classics of Fantasy': 0},\n",
              " {'Sonatas and Fantasies': 0},\n",
              " {'Fantasy: The Literature of Subversion (New Accents)': 0},\n",
              " {'How the White Trash Zombie Got Her Groove Back': 0},\n",
              " {\"Devil's Night Dawning: A Gritty Dark Fantasy Epic (Broken Stone Chronicle)\": 0},\n",
              " {'Final Fantasy X-X2 HD Remaster Official Strategy Guide': 0},\n",
              " {\"Fantasy Writers' Phrase Book: Essential Reference for All Authors of Fantasy Adventure and Medieval Historical Fiction (Writers' Phrase Books) (Volume 4)\": 0},\n",
              " {'Kaleidoscope: Diverse YA Science Fiction and Fantasy Stories': 0},\n",
              " {'Rigoletto Fantasia da concerto: Clarinet and Piano': 0},\n",
              " {'Fantasy Colouring Book': 0},\n",
              " {\"The Dragon's Egg (Dragonfall) (Volume 1)\": 0},\n",
              " {'Fantasy Football Math: Using Stats to Score Big in Your League (Fantasy Sports Math)': 0},\n",
              " {'TIME JUMPER: MINDBLOWING FANTASY THRILLER! - A.C. Crispin, New York Times bestseller': 0},\n",
              " {'Animated Performance: Bringing Imaginary Animal, Human and Fantasy Characters to Life (Required Reading Range)': 0},\n",
              " {'Fantasy Nouveau Coloring Book': 0},\n",
              " {'The Plague of Fantasies (The Essential Zizek)': 0},\n",
              " {'One Million Project Fantasy Anthology: 40 fantastic short tales compiled by Jason Greenfield (Volume 1)': 0},\n",
              " {'Wild Wastes': 0},\n",
              " {'The Lost Art: Volume 2  How to Draw Fantasy Female Faces': 0},\n",
              " {'Schubert -- Fantasie in F Minor, Op. 103, D. 940 (Alfred Masterwork Edition)': 0},\n",
              " {'There Will Be Dragons (Council Wars)': 0},\n",
              " {'The Way of Kings': 0},\n",
              " {'Dungeons for the Master: 177 Dungeon Maps and 1D100 Encounter Table': 0},\n",
              " {'Zcode Fantasy Sports Investing Bible: What You Ought To Know To Make Serious Money On Daily Fantasy Sports.': 0},\n",
              " {'Fantasy Baseball': 0},\n",
              " {'John Howe Fantasy Art Workshop': 0},\n",
              " {'Dreamscapes Fantasy Worlds: Create Engaging Scenes and Landscapes in Watercolor': 0},\n",
              " {'Fighting Fantasy: Citadel of Chaos': 0},\n",
              " {'Life Is Not a Fairy Tale': 0},\n",
              " {'Outlander': 0},\n",
              " {'Sew Fantasy Toys: 10 Sewing Patterns for Magical Creatures from Dragons to Mermaids': 0},\n",
              " {'Final Fantasy IX Official Strategy Guide': 0},\n",
              " {'Grunge & Grace': 0},\n",
              " {'The Fantasy of Disability: Images of Loss in Popular Culture (Interdisciplinary Disability Studies)': 0},\n",
              " {'Mortal (The Books of Mortals)': 0},\n",
              " {'Fantasy Adventure Coloring Book: Dragons, Dwarves, Elves, and Other Extraordinary Creatures': 0},\n",
              " {'A Field Guide to Dragons, Trolls, and Other Dangerous Monsters (Fantasy Field Guides)': 0},\n",
              " {'Final Fantasy and Philosophy: The Ultimate Walkthrough': 0},\n",
              " {'Fantasy Hero Complete': 0},\n",
              " {'The Gifting (The Gifting Series) (Volume 1)': 0},\n",
              " {\"Fantasy+ 5 - World's Most Imaginative Artworks\": 0},\n",
              " {'The Dragon Island': 0},\n",
              " {'Morgansfort: The Western Lands Campaign': 0},\n",
              " {'The Fantasy Sports Boss 2018 Fantasy Baseball Draft Guide': 0},\n",
              " {'Fantasy, Op. 79: Part(s) (Kalmus Edition)': 0},\n",
              " {'Fantasy Art Coloring Book: Fairies, mermaids, dragons and more!  By artist Molly Harrison': 0},\n",
              " {'Dragon-Fire Fantasy: Sheet (The Alfred Duet Series)': 0},\n",
              " {'Fantasy! Cartooning': 0},\n",
              " {'Delve Volume 1': 0},\n",
              " {'Winged Fantasy: Draw and Paint Magical and Mythical Creatures': 0},\n",
              " {'Colonial Fantasies: Towards a Feminist Reading of Orientalism (Cambridge Cultural Social Studies)': 0},\n",
              " {'The Morcai Battalion: The Recruit': 0},\n",
              " {'Dragon Fantasy Composition Notebook, Narrow Ruled: 100 sheets / 200 pages, 9-3/4\" x 7-1/2\"': 0},\n",
              " {'The Fantasy Football Black Book 2017 (Fantasy Black Book)': 0},\n",
              " {'Press Out Flying Dragons and Other Flying Fantasy Creatures': 0},\n",
              " {'Silent Hall (Godserfs)': 0},\n",
              " {'Hero in a Halfling (Epik Fantasy) (Volume 1)': 0},\n",
              " {'Color Your Fantasy Coloring Book': 0},\n",
              " {'Finding Unconscious Fantasy in Narrative, Trauma, and Body Pain: A Clinical Guide': 0},\n",
              " {'Fantasy Cinema: Impossible Worlds on Screen (Short Cuts)': 0},\n",
              " {\"8: The Year's Best Science Fiction & Fantasy 2016 Edition (Year's Best Science Fiction and Fantasy)\": 0},\n",
              " {'Final Fantasy VIII PC Official Strategy Guide (Brady Games)': 0},\n",
              " {'The Best of Heroic Fantasy Quarterly: Volume 2, 2011-2013': 0},\n",
              " {'Defender: The Sanctuary Series, Volume One': 0},\n",
              " {'FINAL FANTASY TACTICS A2: Grimoire of the Rift Official Strategy Guide (Official Strategy Guides (Bradygames))': 0},\n",
              " {'Dragons and Magical Beasts: Extreme Coloring Book': 0},\n",
              " {'Rachmaninoff -- Fantasy Pieces, Op. 3 (Alfred Masterwork Edition)': 0},\n",
              " {'Maps for Fantasy Creatives': 0},\n",
              " {'Child of the Ghosts': 0},\n",
              " {'A Field Guide to Goblins, Gremlins, and Other Wicked Creatures (Fantasy Field Guides)': 0},\n",
              " {'FINAL FANTASY IV Official Strategy Guide (Bradygames Official Strategy Guides)': 0},\n",
              " {'Fantasia del Tango: The Eugenie Rocherolle Series Intermediate Piano Solos': 0},\n",
              " {'Magically Bound: Hunted Witch Agency Book 1 (Volume 1)': 0},\n",
              " {\"Balanced on the Blade's Edge (Dragon Blood) (Volume 1)\": 0},\n",
              " {'Fantasy Sports and the Changing Sports Media Industry: Media, Players, and Society': 0},\n",
              " {'The Book of Fantasy': 0},\n",
              " {'The DFS Playbook (2017): Make Money Playing Daily Fantasy Football': 0},\n",
              " {'Adventure Companion (Fantasy Craft, CFG01002)': 0},\n",
              " {'RKO Radio Pictures Horror, Science Fiction and Fantasy Films, 1930-1956': 0},\n",
              " {\"The Year's Best Dark Fantasy & Horror, 2011 Edition\": 0},\n",
              " {\"The Writer's Complete Fantasy Reference\": 0},\n",
              " {'How to Draw Wizards: Discover the secrets to drawing, painting, and illustrating a world of sorcery (Fantasy Underground)': 0},\n",
              " {'First Violin Concerto and Scottish Fantasy in Full Score (Dover Music Scores)': 0},\n",
              " {'Final Fantasy Crystal Chronicles: Official Nintendo Power Guide': 0},\n",
              " {'The Twelve (Book Two of The Passage Trilogy): A Novel': 0},\n",
              " {'The Lost Years: Book 1 (Merlin Saga)': 0},\n",
              " {'Rolemaster Fantasy Role Playing': 0},\n",
              " {'The Black River Chronicles: Level One (Black River Academy) (Volume 1)': 0},\n",
              " {\"Children's Fantasy Literature: An Introduction\": 0},\n",
              " {'Fantasy for Trombone: Part(s) (Faber Edition)': 0},\n",
              " {'FANTASIA PARA GENTILHOMBRE   FOR GUITAR AND ORCHESTRA     STUDY SCORE (Edition Eulenburg)': 0},\n",
              " {'The Queer Fantasies of the American Family Sitcom': 0},\n",
              " {'The Role-Playing Game Primer: and Old-School Playbook': 0},\n",
              " {'The Path of Flames (Chronicles of the Black Gate) (Volume 1)': 0},\n",
              " {'Caribbean Fantasy': 0},\n",
              " {'FINAL FANTASY XI Official Strategy Guide (Brady Games)': 0},\n",
              " {'Final Fantasy XII: Limited Edition Guide': 0},\n",
              " {'Writing Monsters: How to Craft Believably Terrifying Creatures to Enhance Your Horror, Fantasy, and Science Fiction': 0},\n",
              " {'Karma (Karma Series) (Volume 1)': 0},\n",
              " {'The Complete Guide to Writing Fantasy, Vol. 2: The Opus Magus': 0},\n",
              " {'Feels Like Magic: A wizard school fantasy adventure book for kids and teens aged 9-15': 0},\n",
              " {'Fantasy Landscapes in Watercolour (Fantasy Art)': 0},\n",
              " {'Choral Fantasy, Op. 80 - Vocal Score (German Edition)': 0},\n",
              " {'Painting the Edge: Deep Data and MLB DFS': 0},\n",
              " {'Grimgar of Fantasy and Ash, Vol. 2 (manga) (Grimgar of Fantasy and Ash (manga))': 0},\n",
              " {\"Not a Witch, Not a Fairy: (Fantasy Books for Kids, Kids Mystery Books, Girls Books Ages 9-12, Children's Fantasy Books, Books for Girls Age 8-10 9 12, Kids Fantasy Books)\": 0},\n",
              " {'FINAL FANTASY XIV: A Realm Reborn The Art of Eorzea - Another Dawn - (SE-MOOK)': 0},\n",
              " {'The Palladium RPG Book II: Old Ones (Fantasy Adventure, No 2)': 0},\n",
              " {'Fire and Bone': 0},\n",
              " {'SCHERZI & FANTASY F MINOR    PIANO': 0},\n",
              " {'Sojourn: The Legend of Drizzt, Book 3 (Forgotten Realms)': 0},\n",
              " {'Final Fantasy: Dissidia 012 Signature Series Guide': 0},\n",
              " {\"Winter's Fury: The Furyck Saga: Book One\": 0},\n",
              " {'Blood Moon (Wildcat Wizard) (Volume 1)': 0},\n",
              " {'Private Fantasies (Harlequin Temptation No. 682)': 0},\n",
              " {'Spirit & Fantasy Coloring Book: Grayscale Edition': 0},\n",
              " {'Wicked Fantasy: A Novel (Paradise)': 0},\n",
              " {'Fantasy Football (and Baseball) for Smart People: How to Turn Your Hobby into a Fortune': 0},\n",
              " {'Fantasy Workshop: A Practical Guide: The Painting Techniques of Boris Vallejo and Julie Bell': 0},\n",
              " {'Fantasy for Trumpet: Part(s) (Faber Edition)': 0},\n",
              " {'Black: (The Silver Series Book 2) (Volume 2)': 0},\n",
              " {'A Shade Of Vampire': 0},\n",
              " {'Hard Work: Remaking the American Labor Movement': 0},\n",
              " {'Bloodbones (Fighting Fantasy)': 0},\n",
              " {'Frey': 0},\n",
              " {'Final Fantasy VII: Original Sound Track Music Sheet': 0},\n",
              " {'The Society of Imaginary Friends (The Conjurors Series) (Volume 1)': 0},\n",
              " {'Special Offers: Book 1 of the Coursodon Dimension Series (Volume 1)': 0},\n",
              " {'A Fantasy Wonderland - 3rd Edition: A Greyscale Coloring Book (Volume 3)': 0},\n",
              " {'Witch Hunt: An Urban Fantasy Mystery (Preternatural Affairs) (Volume 1)': 0},\n",
              " {'Creating Places (The Art of World Building) (Volume 2)': 0},\n",
              " {'Internet Horror, Science Fiction and Fantasy Television Series, 1998-2013': 0},\n",
              " {'Fantasy Art Drawing For Beginners: Drawing Fantasy Creatures  With Simple Instructions (Fantasy Drawing) (Volume 1)': 0},\n",
              " {'Days of Endless Night (Runeblade Saga)': 0},\n",
              " {'Fantasia on Christmas Carols: Vocal score': 0},\n",
              " {'Instant Shakespeare: A Proven Technique for Actors, Directors, and Teachers': 0},\n",
              " {'The Grimm Chronicles, Vol. 1': 0},\n",
              " {'Dark City (The Order of Shadows) (Volume 1)': 0},\n",
              " {'Geek Fantasy Novel': 0},\n",
              " {'Rabbinic Fantasies: Imaginative Narratives from Classical Hebrew Literature (Yale Judaica Series)': 0},\n",
              " {'Fighting Fantasy 10 House Of Hell (Puffin Adventure Gamebooks)': 0},\n",
              " {'Demon Mistress (Otherworld, Book 6)': 0},\n",
              " {'Fantasia on a Theme By Thomas Tallis': 0},\n",
              " {'Excalibur Rising': 0},\n",
              " {'The Heir of Bluescale (Throne of Fire)': 0},\n",
              " {'Quasi Una Fantasia: Essays on Modern Music (Radical Thinkers)': 0},\n",
              " {'Words of Radiance: Book Two of the Stormlight Archive': 0},\n",
              " {'Final Fantasy Bradygames Official Strategy Guide (20th Anniversary)': 0},\n",
              " {'Lupus Constellation. The Beginning': 0},\n",
              " {'Peace Corps Fantasies: How Development Shaped the Global Sixties (Critical American Studies)': 0},\n",
              " {'Wizard in a Witchy World (Volume 1)': 0},\n",
              " {'Five Seasons Of Angel: Science Fiction and Fantasy Writers Discuss Their Favorite Vampire (Smart Pop series)': 0},\n",
              " {'Time Traders': 0},\n",
              " {'Fantasy and Fugue, K. 394 and Fantasies, K. 396 and 397 (Urtext) (Kalmus Edition)': 0},\n",
              " {'Understanding Fantasy Baseball - No Longer Just for Nerds': 0},\n",
              " {'Fantasies for Piano (Kalmus Edition)': 0},\n",
              " {'How to Draw and Paint Fairyland: A Step-by-Step Guide to Creating the World of Fairies': 0},\n",
              " {'Choral Fantasy, Op. 80: For Chorus, Piano and Orchestra (German Edition)': 0},\n",
              " {'Sky Lord (Fighting Fantasy, No. 33)': 0},\n",
              " {'Faith Journey Through Fantasy Lands': 0},\n",
              " {'Time and the Gods (Millennium Fantasy Masterworks)': 0},\n",
              " {'Harry Potter and the Deathly Hallows (Book 7)': 0},\n",
              " {'The Hobbit': 0},\n",
              " {'The Little Prince': 0},\n",
              " {'Fantasy in C Minor (Kalmus Edition)': 0},\n",
              " {'Forbidden: The Arotas Trilogy': 0},\n",
              " {'Chromatic Fantasy and Fugue, BWV 903 (Alfred Masterwork Edition)': 0},\n",
              " {\"The Mermaid's Sister\": 0},\n",
              " {'Hollywood Fantasies of Miscegenation: Spectacular Narratives of Gender and Race': 0},\n",
              " {'Egyptomania Goes to the Movies: From Archaeology to Popular Craze to Hollywood Fantasy': 0},\n",
              " {'A Graphix Book: Wings of Fire Graphic Novel #1: The Dragonet Prophecy': 0},\n",
              " {'A Game of Thrones / A Clash of Kings / A Storm of Swords / A Feast of Crows / A Dance with Dragons': 0},\n",
              " {\"Gurp's Fantasy Folk\": 0},\n",
              " {'FINAL FANTASY(r) II Official Strategy Guide (Official Strategy Guides (Bradygames))': 0},\n",
              " {'Fantasia Divinity Magazine: Issue 18, January 2018': 0},\n",
              " {'Undead and Unemployed (Queen Betsy, Book 2)': 0},\n",
              " {'DISSIDIA FINAL FANTASY Signature Series Guide (Bradygames Signature Series Guide)': 0},\n",
              " {'The Stone (Lockstone) (Volume 1)': 0},\n",
              " {'Sunborn Rising: Beneath the Fall': 0},\n",
              " {'Fantasia On Polish Christmas Carols': 0},\n",
              " {'Fantasy in F Minor, Barcarolle, Berceuse and Other Works for Solo Piano (Dover Music for Piano)': 0},\n",
              " {'Dreamlander': 0},\n",
              " {'Born of Water (The Rise of the Fifth Order) (Volume 1)': 0},\n",
              " {'Branded': 0},\n",
              " {'Sacrifice: The Legacy Series: Book 3 (Volume 3)': 0},\n",
              " {'Forever Road (Peri Jean Mace Ghost Thriller)': 0},\n",
              " {'Double Play: Fantasy Baseball Values and Strategies for 2018': 0},\n",
              " {'Dune': 0},\n",
              " {'The Legend of Oescienne: The Finding': 0},\n",
              " {'The Legend of Zelda: Twilight Princess, Vol. 3': 0},\n",
              " {'Final Fantasy VI: Original Sound Version Piano Solo Sheet Music': 0},\n",
              " {'Time Trap: Red Moon trilogy book 1 (Volume 1)': 0},\n",
              " {\"Eternal (The Queen's Alpha Series) (Volume 1)\": 0},\n",
              " {'Chronicles of Narnia Box Set': 0},\n",
              " {'Siege of the Northland': 0},\n",
              " {'What Kings Ate and Wizards Drank': 0},\n",
              " {'Fantasy Art Book': 0},\n",
              " {\"The Ancient Magus' Bride Vol. 8\": 0},\n",
              " {'Realidad Y Fantasia (Spanish Edition)': 0},\n",
              " {'Lincoln in the Bardo: A Novel': 0},\n",
              " {'Fantasy Football for Smart People: How Fantasy Football Pros Game Plan to Win': 0},\n",
              " {'The First Book of Lankhmar (Fantasy Masterworks)': 0},\n",
              " {\"The Wise Man's Fear (Kingkiller Chronicle)\": 0},\n",
              " {'A Game of Thrones (A Song of Ice and Fire, Book 1)': 0},\n",
              " {'A Wrinkle in Time Movie Tie-In Edition (A Wrinkle in Time Quintet)': 0},\n",
              " {\"Harry Potter and the Sorcerer's Stone\": 0},\n",
              " {'Fahrenheit 451': 0},\n",
              " {'Final Fantasy XV A New Empire Game Guide Unofficial': 0},\n",
              " {'Hungarian Fantasy (Kalmus Edition)': 0},\n",
              " {'Princeless Short Stories Volume 1 (Princeless Short Stories Tp)': 0},\n",
              " {'Turned (Book #1 in the Vampire Journals)': 0},\n",
              " {'Final Fantasy Crystal Chronicles: Ring of Fates (Bradygames Official Strategy Guides)': 0},\n",
              " {'The One and Only Ivan': 0},\n",
              " {'The Last Wish: Introducing The Witcher': 0},\n",
              " {'The Underground Railroad: A Novel': 0},\n",
              " {'Hunter x Hunter, Vol. 34': 0},\n",
              " {'Azure: The Silver Series Book 5': 0},\n",
              " {'The Blade Witch (Songs of Eldrin) (Volume 1)': 0},\n",
              " {'Harry Potter and the Prisoner of Azkaban': 0},\n",
              " {'Harry Potter And The Goblet Of Fire': 0},\n",
              " {'The Fantasy Girl': 0},\n",
              " {'Fantasy Babes: A Gamer Glam Coloring Book': 1},\n",
              " {'In Her Name First Contact': 0},\n",
              " {'Lost Fantasy Hero (Class Comics)': 0},\n",
              " {'Authority: A Novel (The Southern Reach Trilogy)': 0},\n",
              " {'Fantasy Impromptu: Sheet (Simply Classics Solos)': 0},\n",
              " {'Boruto, Vol. 3: Naruto Next Generations (Boruto: Naruto Next Generations)': 0},\n",
              " {'The Wrinkle in Time Quintet Boxed Set (A Wrinkle in Time, A Wind in the Door, A Swiftly Tilting Planet, Many Waters, An Acceptable Time)': 0},\n",
              " {'Where the Wild Things Are': 0},\n",
              " {'Harry Potter And The Chamber Of Secrets': 0},\n",
              " {'Beneath A Blood Red Moon (Alliance Vampires)': 0},\n",
              " {'A Wrinkle in Time (Time Quintet)': 0},\n",
              " {'Cholesterol Facts & Fantasies (Health Series #2)': 0},\n",
              " {'Harry Potter Paperback Box Set (Books 1-7)': 0},\n",
              " {'Every Day': 0},\n",
              " {'Shorter Works for Pianoforte Solo (Dover Music for Piano)': 0},\n",
              " {'Funny Fantasy': 0},\n",
              " {'The Darkling Child: The Defenders of Shannara': 0},\n",
              " {'Harry Potter and the Half-Blood Prince (Book 6)': 0},\n",
              " {'Fantasy Baseball Math: Using Stats to Score Big in Your League (Fantasy Sports Math)': 0},\n",
              " {'Worlds Unseen (Seventh World Trilogy)': 0},\n",
              " {'How to Draw Magical, Monstrous & Mythological Creatures: Discover the magic of drawing more than 20 legendary folklore, fantasy, and horror characters (Walter Foster Studio)': 0},\n",
              " {'The Keep of the Lich Lord (Fabled Lands Quests) (Volume 1)': 0},\n",
              " {'Etude Fantasy: Piano Solo': 0},\n",
              " {'Tricks for Free (InCryptid)': 0},\n",
              " {'Ready Player One: A Novel': 0},\n",
              " {'Altdorf: A novel of The Forest Knights (Forest Knights Duology)': 0},\n",
              " {'Dune Messiah (The Dune Chronicles, Book 2)': 0},\n",
              " {\"The Magicians Trilogy Boxed Set: The Magicians; The Magician King; The Magician's Land\": 0},\n",
              " {'Sonic / Mega Man: Worlds Collide: The Complete Epic': 0},\n",
              " {'Where the Mountain Meets the Moon': 0},\n",
              " {'Winter (The Lunar Chronicles)': 0},\n",
              " {'The Tale of Despereaux: Being the Story of a Mouse, a Princess, Some Soup, and a Spool of Thread': 0},\n",
              " {\"Death's End (Remembrance of Earth's Past)\": 0},\n",
              " {'The Impossible Wizard: The Aegis of Merlin Book 1 (Volume 1)': 0},\n",
              " {'Magnus Chase and the Gods of Asgard Book 1 The Sword of Summer': 0},\n",
              " {'Bleach, Vol. 72': 0},\n",
              " {'Morning Star: Book 3 of the Red Rising Saga (Red Rising Series)': 0},\n",
              " {'The Gender Game (Volume 1)': 0},\n",
              " {'The Stand': 0},\n",
              " {'Chill of the Ice Dragon: A Branches Book (Dragon Masters #9)': 0},\n",
              " {'Fighting Fantasy 02 Citadel Of Chaos (Puffin Adventure Gamebooks)': 0},\n",
              " {\"The Convent's Secret (Glass and Steele)\": 0},\n",
              " {'The Lion, the Witch and the Wardrobe (The Chronicles of Narnia)': 0},\n",
              " {'Trials of Apollo, The Book One The Hidden Oracle': 0},\n",
              " {\"The Titan's Curse (Percy Jackson and the Olympians, Book 3)\": 0},\n",
              " {'I Am Number Four (Lorien Legacies)': 0},\n",
              " {'Sworn (Book #1 of the Vampire Legends)': 0},\n",
              " {'Rise (Spelldrift: Coven of Fire) (Volume 1)': 0},\n",
              " {'The Lost Hero (Heroes of Olympus, Book 1)': 0},\n",
              " {'The Snow Child: A Novel': 0},\n",
              " {'Fablehaven': 0},\n",
              " {'Life of Pi': 0},\n",
              " {'Do Androids Dream of Electric Sheep?: The inspiration for the films Blade Runner and Blade Runner 2049': 0},\n",
              " {'Warriors: The New Prophecy Box Set: Volumes 1 to 6: The Complete Second Series': 0},\n",
              " {'One Piece, Vol. 85': 0},\n",
              " {'Rat Queens Volume 4: High Fantasies': 0},\n",
              " {'Fantasists on Fantasy: A collection of Critical Reflections by Eighteen Masters of the Art': 0},\n",
              " {'Storm Front (Dresden Files)': 0},\n",
              " {'Divergent Series Four-Book Paperback Box Set: Divergent, Insurgent, Allegiant, Four': 0},\n",
              " {'Kindred': 0},\n",
              " {\"The Dark Forest (Remembrance of Earth's Past)\": 0},\n",
              " {'The House of Hades (Heroes of Olympus, The, Book Four) (The Heroes of Olympus)': 0},\n",
              " {'Jurassic Park: A Novel': 0},\n",
              " {'The Power of Six (Lorien Legacies, Book 2)': 0},\n",
              " {'James and the Giant Peach': 0},\n",
              " {'The Kill Order (Maze Runner, Book Four; Origin) (The Maze Runner Series)': 0},\n",
              " {'Wormwood': 0},\n",
              " {'The Battle of the Labyrinth (Percy Jackson and the Olympians, Book 4)': 0},\n",
              " {\"The Gruffalo's Child\": 0},\n",
              " {'All My Witches (A Wicked Witches of the Midwest Fantasy) (Volume 5)': 0},\n",
              " {\"The Year's Best Science Fiction & Fantasy, 2009 Edition (Year's Best Science Fiction and Fantasy)\": 0},\n",
              " {'X-Files: Origins (The X-Files)': 0},\n",
              " {'House of Leaves': 0},\n",
              " {'The Paper Bag Princess (Munsch for Kids)': 0},\n",
              " {'Bless Me, Ultima': 0},\n",
              " {'Between the Walls of Night: The Gräzland Tales: Book 1 (Histories of the Vale) (Volume 1)': 0},\n",
              " {'Arcanum Unbounded: The Cosmere Collection': 0},\n",
              " {'The Last Command (Star Wars: The Thrawn Trilogy)': 0},\n",
              " {'Lumberjanes Vol. 1: Beware The Kitten Holy': 0},\n",
              " {'City of Bones (The Mortal Instruments)': 0},\n",
              " {'Brisingr (The Inheritance Cycle)': 0},\n",
              " {'Shadows of Self: A Mistborn Novel': 0},\n",
              " {\"The Magician's Land: A Novel (Magicians Trilogy)\": 0},\n",
              " {'Mrs. Frisby and the Rats of NIMH': 0},\n",
              " {'Portals, Passages & Pathways: Book 1: In the Land of Magnanthia (Volume 1)': 0},\n",
              " {'Leviathan Wakes': 0},\n",
              " {'The Pillars of the Earth: A Novel (Kingsbridge)': 0},\n",
              " {'Super Friends: Flying High (DC Super Friends) (Step into Reading)': 0},\n",
              " {'Train Your Angry Dragon: Teach Your Dragon To Be Patient. A Cute Children Story To Teach Kids About Emotions and Anger Management. (Dragon Books for Kids) (My Dragon Books) (Volume 2)': 0},\n",
              " {'The Princess in Black and the Perfect Princess Party': 0},\n",
              " {'Wicked: The Life and Times of the Wicked Witch of the West (Wicked Years)': 0},\n",
              " {'Romeo and Juliet': 0},\n",
              " {'Bloodfire: Blood Destiny I (Volume 1)': 0},\n",
              " {'Delicious in Dungeon, Vol. 4': 0},\n",
              " {'Witchblood (Volume 1)': 0},\n",
              " {'His Driven Domme (The Dungeon Fantasy Club) (Volume 4)': 0},\n",
              " {'Fantasy Online: Hyperborea (Volume 1)': 0},\n",
              " {'The Gender Game 2: The Gender Secret (Volume 2)': 0},\n",
              " {'The Legend of Zelda: Twilight Princess Vol. 1': 0},\n",
              " {'Journal 29: Interactive Book Game': 0},\n",
              " {'Bone: The Complete Cartoon Epic in One Volume': 0},\n",
              " {'Disney Dreams Collection Thomas Kinkade Studios Coloring Book': 0},\n",
              " {'The BFG': 0},\n",
              " {\"Cat's Cradle: A Novel\": 0},\n",
              " {'Island of Glass (Guardians Trilogy)': 0},\n",
              " {'The Son of Neptune (Heroes of Olympus, Book 2)': 0},\n",
              " {'Cress': 0},\n",
              " {'Heroes of Olympus, The Book Three The Mark of Athena (The Heroes of Olympus)': 0},\n",
              " {'Warriors #1: Into the Wild (Warriors: The Prophecies Begin)': 0},\n",
              " {'The Killer Angels: The Classic Novel of the Civil War (Civil War Trilogy)': 0},\n",
              " {'Legend': 0},\n",
              " {'Binti': 0},\n",
              " {'Stories of Your Life and Others': 0},\n",
              " {'How to Hang a Witch': 0},\n",
              " {'Harry Potter and the Cursed Child, Parts One and Two: The Official Playscript of the Original West End Production': 0},\n",
              " {'The Once and Future King': 0},\n",
              " {'The Trouble with Twelfth Grave: A Charley Davidson Novel (Charley Davidson Series)': 0},\n",
              " {'Sonatas, Fantasias & Rondos, Vol 2 (Kalmus Edition)': 0},\n",
              " {'The Night Circus': 0},\n",
              " {\"Howl's Moving Castle\": 0},\n",
              " {'Scarlet': 0},\n",
              " {\"The Year's Best Fantasy and Horror: Eighteenth Annual Collection (Year's Best Fantasy & Horror (Paperback))\": 0},\n",
              " {'Water, Book One of the Akasha Series': 0},\n",
              " {'The Chosen: A Novel of the Black Dagger Brotherhood': 0},\n",
              " {'Fledgling: The Shapeshifter Chronicles (Volume 1)': 0},\n",
              " {'ONSET: To Serve and Protect (Volume 1)': 0},\n",
              " {'Darkstalker (Wings of Fire: Legends)': 0},\n",
              " {'The Prince and the Dressmaker': 0},\n",
              " {'The Essential Calvin and Hobbes: a Calvin and Hobbes Treasury': 0},\n",
              " {'Between Shades of Gray': 0},\n",
              " {'The Wind Through the Keyhole: The Dark Tower IV-1/2': 0},\n",
              " {'The Shadow Throne (The Ascendance Trilogy, Book 3): Book 3 of The Ascendance Trilogy': 0},\n",
              " {\"The Watchmaker's Daughter (Glass and Steele)\": 0},\n",
              " {'Ishmael:A Novel': 0},\n",
              " {'Armada: A novel by the author of Ready Player One': 0},\n",
              " {'The Martian': 0},\n",
              " {'7: The Dark Tower VII (The Dark Tower, Book 7)': 0},\n",
              " {\"Gwendy's Button Box: A Novella\": 0},\n",
              " {'The Dark Tower V: The Wolves of the Calla (The Dark Tower, Book 5)': 0},\n",
              " {'Annihilation: A Novel: Movie Tie-In Edition (The Southern Reach Trilogy)': 0},\n",
              " {'Never Let Me Go': 0},\n",
              " {'Broken Angels: A Novel (Takeshi Kovacs)': 0},\n",
              " {'Twice Bitten: An Argeneau Novel': 0},\n",
              " {'The Final Day: A John Matherson Novel': 0},\n",
              " {\"The Sorcerer of the North: Book Five (Ranger's Apprentice)\": 0},\n",
              " {'One Year After: A John Matherson Novel': 0},\n",
              " {\"'Salem's Lot\": 0},\n",
              " {'Shadow of Night (All Souls Trilogy, Bk 2)': 0},\n",
              " {'Fool Moon (Dresden Files)': 0},\n",
              " {'The Book of Life: A Novel (All Souls Trilogy)': 0},\n",
              " {'Death Masks (Dresden Files)': 0},\n",
              " {'Dead Until Dark  (Sookie Stackhouse/True Blood, Book 1)': 0},\n",
              " {'The Eyes of the Dragon: A Novel': 0},\n",
              " {'The Passage: A Novel (Book One of The Passage Trilogy)': 0},\n",
              " {'Summer Knight (Dresden Files)': 0},\n",
              " {'Blood Rites (The Dresden Files, Book 6)': 0},\n",
              " {'Wayward (The Wayward Pines Trilogy)': 0},\n",
              " {'Lord of the Flies: (Penguin Classics Deluxe Edition)': 0},\n",
              " {'Watchers': 0},\n",
              " {'The Changeling: A Novel': 0},\n",
              " {'The Lost World: A Novel (Jurassic Park)': 0},\n",
              " {'World War Z: An Oral History of the Zombie War': 0},\n",
              " {'Night Shift (A Novel of Midnight, Texas)': 0},\n",
              " {'The Dark Tower II: The Drawing of the Three': 0},\n",
              " {'Ghost Story (Dresden Files)': 0},\n",
              " {'White Night (The Dresden Files, Book 9)': 0},\n",
              " {'Changes (Dresden Files)': 0},\n",
              " {'Small Favor (The Dresden Files, Book 10)': 0},\n",
              " {'Proven Guilty (The Dresden Files, Book 8)': 0},\n",
              " {'Fatherland: A Novel': 0},\n",
              " {'The Historian': 0},\n",
              " {'Crónica de una muerte anunciada (Spanish Edition)': 0},\n",
              " {'The Dark Tower III: The Waste Lands': 0},\n",
              " {'Turn Coat (The Dresden Files, Book 11)': 0},\n",
              " {'Race for the Flash Stone (The Anlon Cully Chronicles) (Volume 2)': 0},\n",
              " {'The Thief of Always': 0},\n",
              " {'Something Wicked This Way Comes: A Novel': 0},\n",
              " {'We Have Always Lived in the Castle (Penguin Classics Deluxe Edition)': 0},\n",
              " {'Midnight Crossroad (A Novel of Midnight, Texas)': 0},\n",
              " {'The Cartel 4: Diamonds are Forever (Urban Books)': 0},\n",
              " {'Sleeping Giants (The Themis Files)': 0},\n",
              " {'The City of Mirrors: A Novel (Passage Trilogy)': 0},\n",
              " {'Crocodile on the Sandbank (Amelia Peabody, Book 1)': 0},\n",
              " {'I Have No Mouth and I Must Scream: Stories': 0},\n",
              " {'Dead And Gone (Sookie Stackhouse/True Blood, Book 9)': 0},\n",
              " {'The Turn: The Hollows Begins with Death': 0},\n",
              " {'Shadow Hunt (Disrupted Magic)': 0},\n",
              " {'Crossroads of Twilight (Wheel of Time, Book 10)': 0},\n",
              " {'Murder of Crows (A Novel of the Others)': 0},\n",
              " {'A Scanner Darkly': 0},\n",
              " {'The Fireman: A Novel': 0},\n",
              " {'El Laberinto de los Espiritus (Spanish Edition)': 0},\n",
              " {'Horrorstor: A Novel': 0},\n",
              " {'Sixth Grave on the Edge (Charley Davidson)': 0},\n",
              " {'The Long Dark Tea-Time of the Soul (Dirk Gently)': 0},\n",
              " {'Timeline': 0},\n",
              " {'Altar of Eden': 0},\n",
              " {'VALIS (Valis Trilogy)': 0},\n",
              " {'The First City (The Dominion Trilogy)': 0},\n",
              " {'Grave Surprise (Harper Connelly Mysteries, Book 2)': 0},\n",
              " {'You May Now Kill the Bride (Return to Fear Street)': 0},\n",
              " {'Empire Games: A Tale of the Merchant Princes Universe': 0},\n",
              " {'Mind Game (GhostWalkers, Book 2)': 0},\n",
              " {'Deep Storm': 0},\n",
              " {'Lemon Pies and Little White Lies (A Charmed Pie Shoppe Mystery)': 0},\n",
              " {'Woman on the Edge of Time: A Novel': 0},\n",
              " {'Vampire, Interrupted (Argeneau Vampires, Book 9)': 0},\n",
              " {'Pandora (New Tales of the Vampires)': 0},\n",
              " {'The Syndicate: Carl Weber Presents (Urban Renaissance)': 0},\n",
              " {'The Final Trade (The Dominion Trilogy)': 0},\n",
              " {'Gangsta': 0},\n",
              " {'Shadow of a Dark Queen (The Serpentwar Saga, Book 1)': 0},\n",
              " {'The Edge of the Light (The Edge of Nowhere)': 0},\n",
              " {'Wired': 0},\n",
              " {'Fear the Dark (A Bishop/SCU Novel)': 0},\n",
              " {'Skitter: A Novel (The Hatching Series)': 0},\n",
              " {\"Dog Food: K'wan Presents\": 0},\n",
              " {'False Memory: A Novel': 0},\n",
              " {'Grave Sight (Harper Connelly Mysteries, Book 1)': 0},\n",
              " {'Beware of Pity (New York Review Books Classics)': 0},\n",
              " {'Secret Honor (Honor Bound)': 0},\n",
              " {'Sanctuary: A Postapocalyptic Novel (The New World Series)': 0},\n",
              " {'Atlantis Found (Dirk Pitt, No. 15)': 0},\n",
              " {'The Death of Ivan Ilyich and Other Stories (Vintage Classics)': 0},\n",
              " {'Night of the Living Deed (A Haunted Guesthouse Mystery)': 0},\n",
              " {'Rumors of Marty Goode': 0},\n",
              " {'Magic and Macaroons (A Magical Bakery Mystery)': 0},\n",
              " {'Ghost in the Wind (A Haunted Guesthouse Mystery)': 0},\n",
              " {'Indiana Jones and the Peril at Delphi (Indiana Jones, No. 1)': 0},\n",
              " {\"Mr. Peabody's House (Werewolves, Vampires and Demons, Oh My)\": 0},\n",
              " {'Dark Side of the Road, The: A country house murder mystery with a supernatural twist': 0},\n",
              " {'To Helvetica and Back (A Dangerous Type Mystery)': 0},\n",
              " {'The Quincunx': 0},\n",
              " {'The Wall': 0},\n",
              " {'The Wolf Road: A Novel': 0},\n",
              " {'Dragon Rule: Book Five of the Age of Fire': 0},\n",
              " {'Quilt Trip: A Southern Quilting Mystery': 0},\n",
              " {'Cruel Zinc Melodies (Garrett, P.I. #12)': 0},\n",
              " {'Ditched 4 Murder (Sophie Kimball Mystery)': 0},\n",
              " {'The Sighting': 0},\n",
              " {'Wicked Bronze Ambition: A Garrett, P.I., Novel': 0},\n",
              " {'Dead and Buried (Blackmoore Sisters Cozy Mysteries) (Volume 2)': 0},\n",
              " {'Queen of the Struggle': 0},\n",
              " {'Single White Vampire (Argeneau Vampire)': 0},\n",
              " {'Aunt Dimity Beats the Devil (Aunt Dimity Mystery)': 0},\n",
              " {'Blood Crossed (Netherworld Paranormal Police Department) (Volume 1)': 0},\n",
              " {'The Phoenix Descent': 0},\n",
              " {'Mockingbird (Miriam Black)': 0},\n",
              " {'The Names': 0},\n",
              " {'The Confessions of Max Tivoli: A Novel': 0},\n",
              " {'Vampire Most Wanted: An Argeneau Novel (Argeneau Vampire)': 0},\n",
              " {\"In a Witch's Wardrobe: A Witchcraft Mystery\": 0},\n",
              " {\"Assassin's Creed: Revelations\": 0},\n",
              " {'Forgotten Sins (Sin Brothers)': 0},\n",
              " {'A Cure for Suicide: A Novel (Vintage Contemporaries)': 0},\n",
              " {'The Accidental Alchemist (An Accidental Alchemist Mystery)': 0},\n",
              " {'Innocent Monster (A Moe Prager Mysteries)': 0},\n",
              " {'One of Our Thursdays Is Missing: A Thursday Next Novel': 0},\n",
              " {'The Murders in the Rue Morgue (Modern Library Classics)': 0},\n",
              " {'Gorgon': 0},\n",
              " {'The NightShade Forensic Files: Under Dark Skies (Book 1) (Volume 1)': 0},\n",
              " {'A Clash of Kings (A Song of Ice and Fire, Book 2)': 0},\n",
              " {'The Stone Sky (The Broken Earth)': 0},\n",
              " {'A Feast for Crows: A Song of Ice and Fire (Game of Thrones)': 0},\n",
              " {'FINAL FANTASY(R) XI Atlas': 0},\n",
              " {'Fantasy Online Polynya: A LitRPG Saga (Volume 2)': 0},\n",
              " {'Saga of the Giants': 0},\n",
              " {'Blood of Requiem: Song of Dragons, Book 1': 0},\n",
              " {'The Crimson Crown (A Seven Realms Novel)': 0},\n",
              " {'Isis Orb (The Xanth Novels)': 0},\n",
              " {'The Fantasy Art Techniques Of Tim Hildebrandt': 0},\n",
              " {'The Nine Fantasies That Will Ruin Your Life (and the Eight Realities That Will Save You)': 0},\n",
              " {'Remembering (The Starlight Chronicles) (Volume 4)': 0},\n",
              " {'The Warlock of Firetop Mountain (Fighting Fantasy)': 0},\n",
              " {'Dragonfly in Amber: A Novel (Outlander)': 0},\n",
              " {'The Drums of Autumn': 0},\n",
              " {'The Urban Fantasy Anthology': 0},\n",
              " {'A Storm of Swords (A Song of Ice and Fire, Book 3)': 0},\n",
              " {'Bridge to Terabithia': 0},\n",
              " {'Knights: The Eye of Divinity (Knights Series) (Volume 1)': 0},\n",
              " {'Skip: Book 1 (Volume 1)': 0},\n",
              " {'North! Or Be Eaten (The Wingfeather Saga)': 0},\n",
              " {'The Legend of Korra Turf Wars Part Two': 0},\n",
              " {'Crown of Destruction (Warhammer)': 0},\n",
              " {\"The Handmaid's Tale\": 0},\n",
              " {'Lord of the Flies': 0},\n",
              " {'Magic Tree House Boxed Set, Books 1-4: Dinosaurs Before Dark, The Knight at Dawn, Mummies in the Morning, and Pirates Past Noon': 0},\n",
              " {'Percy Jackson and the Olympians 5 Book Paperback Boxed Set (new covers w/poster) (Percy Jackson & the Olympians)': 0},\n",
              " {'Gnome Home Hex-Map Sketchbook: Game Mapping Sketch Pad Notebook (Fantasy 150 Hex-Map) (Volume 22)': 0},\n",
              " {'Good Omens: The Nice and Accurate Prophecies of Agnes Nutter, Witch': 0},\n",
              " {'The Fiery Cross (Outlander)': 0},\n",
              " {'Voyager: A Novel (Outlander)': 0},\n",
              " {'Cien años de soledad (Spanish Edition)': 0},\n",
              " {'The Siege of Abythos (The Chronicles of the Black Gate) (Volume 3)': 0},\n",
              " {'Borne: A Novel': 0},\n",
              " {'A Dance with Dragons (A Song of Ice and Fire)': 0},\n",
              " {'The Green Ember (The Green Ember Series: Book 1)': 0},\n",
              " {'Brave New World': 0},\n",
              " {'Dreamlings: A magical coloring book': 0},\n",
              " {'Sword of Destiny (The Witcher)': 0},\n",
              " {'Heir of Fire (Throne of Glass)': 0},\n",
              " {'The Last Olympian (Percy Jackson and the Olympians, Book 5)': 0},\n",
              " {'Throne of Glass': 0},\n",
              " {'The Oxford Book of Fantasy Stories': 0},\n",
              " {'The Left Hand of Darkness': 0},\n",
              " {'Crown of Midnight (Throne of Glass)': 0},\n",
              " {'Parable of the Sower (Earthseed)': 0},\n",
              " {'Queen of Shadows (Throne of Glass)': 0},\n",
              " {'The Obelisk Gate (The Broken Earth)': 0},\n",
              " {'The Heroes of Olympus, Book Five The Blood of Olympus': 0},\n",
              " {'Watership Down: A Novel': 0},\n",
              " {'Kafka on the Shore': 0},\n",
              " {\"An Oathbreaker's Vow: The Tahaerin Chronicles Book One (Volume 1)\": 0},\n",
              " {'Zigeunerweisen, Carmen Fantasy, Introduction & Tarantella: with Separate Violin Part (Dover Chamber Music Scores)': 0},\n",
              " {'Final Fantasy VIII: Official Strategy Guide': 0},\n",
              " {'Legends II: Dragon, Sword, and King': 0},\n",
              " {'Spectrum 24: The Best in Contemporary Fantastic Art': 0},\n",
              " {'Cheyenne: A Timeless Series Novel, Book One (Timeless Series Novels) (Volume 1)': 0},\n",
              " {'How To Draw Fantasy Characters: Your Step By Step Guide To Drawing Fantasy Characters': 0},\n",
              " {'A Fantasy Wonderland - 2nd Edition: A Greyscale Coloring Book (Volume 2)': 0},\n",
              " {'The Gate': 0},\n",
              " {'Cursed (Cursed Magic Series, Book 1)': 0},\n",
              " {'Spinning Fantasies: Rabbis, Gender, and History (Contraversions: Critical Studies in Jewish Literature, Culture, and Society)': 0},\n",
              " {'The Indian in the Cupboard': 0},\n",
              " {'Saving Xenos: An Unofficial Graphic Novel for Minecrafters, #6': 0},\n",
              " {'The Lightning Thief (Percy Jackson and the Olympians, Book 1)': 0},\n",
              " {\"The Hitchhiker's Guide to the Galaxy\": 0},\n",
              " {'Ice Fantasy (Chinese Edition)': 0},\n",
              " {'Fifty Shades Trilogy (Fifty Shades of Grey / Fifty Shades Darker / Fifty Shades Freed)': 0},\n",
              " {'Ember Falls (The Green Ember Series: Book 2)': 0},\n",
              " {'A Breath of Snow and Ashes (Outlander)': 0},\n",
              " {'An Echo in the Bone: A Novel (Outlander)': 0},\n",
              " {\"Miss Peregrine's Home for Peculiar Children (Miss Peregrine's Peculiar Children)\": 0},\n",
              " {'The Adventure Zone: Here There Be Gerblins': 0},\n",
              " {'Final Fantasy Tactics Advance': 0},\n",
              " {'Bellewether': 0},\n",
              " {\"Written in My Own Heart's Blood: A Novel (Outlander)\": 0},\n",
              " {'DIRGE of CERBERUS(tm) -FINAL FANTASY(r) VII- Signature Series Guide (Bradygames Signature Series Guide)': 0},\n",
              " {'Mistborn Trilogy Boxed Set (Mistborn, The Hero of Ages, & The Well of Ascension)': 0},\n",
              " {'The Secret Witch': 0},\n",
              " {'The Secret': 0},\n",
              " {'Wuthering Heights (Penguin Classics)': 0},\n",
              " {'Great Tales of Jewish Fantasy and the Occult: The Dybbuk and Thirty Other Classic Stories': 0},\n",
              " {'The Tower of Swallows (The Witcher)': 0},\n",
              " {'The Storied Life of A. J. Fikry: A Novel': 0},\n",
              " {'The Lord of the Rings: 50th Anniversary, One Vol. Edition': 0},\n",
              " {'The Ocean at the End of the Lane: A Novel': 0},\n",
              " {'The Bear and the Nightingale: A Novel (Winternight Trilogy)': 0},\n",
              " {'Archaeological Fantasies: How Pseudoarchaeology Misrepresents the Past and Misleads the Public': 0},\n",
              " {'Final Fantasy XIV Online a Realm Reborn Game Guide Unofficial': 0},\n",
              " {'The Slow Regard of Silent Things (Kingkiller Chronicle)': 0},\n",
              " {'Slaughterhouse-Five: A Novel (Modern Library 100 Best Novels)': 0},\n",
              " {'The Eye of the World (The Wheel of Time, Book 1)': 0},\n",
              " {'Fortress, Tomb, and Tower: The Glain Campaign': 0},\n",
              " {'Fire and Sword (Sword and Sorcery) (Volume 1)': 0},\n",
              " {'Rifts Dimension Book 1: Wormwood': 0},\n",
              " {'Silence Fallen (A Mercy Thompson Novel)': 0},\n",
              " {'Super Narwhal and Jelly Jolt (A Narwhal and Jelly Book #2)': 0},\n",
              " {'The Mystical Lands of Uchana: Coloring Adventures in the Secret Realms': 0},\n",
              " {'The Merry Spinster: Tales of Everyday Horror': 0},\n",
              " {'On The Go: Fantasy Role-Playing Game': 0},\n",
              " {'Gramatica de la Fantasia: Introduccion al Arte de Inventar Historias (Coleccion Nuevos Caminos) (Spanish Edition)': 0},\n",
              " {'Children of Time': 0},\n",
              " {'The House of the Scorpion': 0},\n",
              " {'Saga Volume 8': 0},\n",
              " {'The Tough Guide to Fantasyland: The Essential Guide to Fantasy Travel': 0},\n",
              " {'Tree and Leaf: Including Mythopoeia': 0},\n",
              " {'Redwall': 0},\n",
              " {\"Neverwhere: Author's Preferred Text\": 0},\n",
              " {'Once Upon a Time: Some Contemporary Illustrators of Fantasy': 0},\n",
              " {'The Circle Gathers (Veil Knights) (Volume 1)': 0},\n",
              " {'Dreamthief: Olive Kennedy, Fairy World M.D., Book One': 0},\n",
              " {'Keeper of Reign, Adventure Fantasy, Book 1: Middle Grade Adventure Fantasy, (Reign Fantasy) (Volume 1)': 0},\n",
              " {'Of Ice and Snow (Fairy Queens)': 0},\n",
              " {'Fairy Tale Princesses & Storybook Darlings Coloring Book': 0},\n",
              " {'My Hero Academia, Vol. 1': 0},\n",
              " {'Battleblade Warrior - Fighting Fantasy Books 31': 0},\n",
              " {'Bohemian Fantasy: A Grayscale Coloring Book': 0},\n",
              " {'The Sea of Monsters (Percy Jackson and the Olympians, Book 2)': 0},\n",
              " {'Super Mario Adventures': 0},\n",
              " {\"Final Fantasy III Player's Guide\": 0},\n",
              " {'The Dragon Book: Magical Tales from the Masters of Modern Fantasy': 0},\n",
              " {'Another Day': 0},\n",
              " {'The Man in the High Castle': 0},\n",
              " {'The Phantom Tollbooth': 0},\n",
              " {'Magic Tree House Boxed Set, Books 9-12: Dolphins at Daybreak, Ghost Town at Sundown, Lions at Lunchtime, and Polar Bears Past Bedtime': 0},\n",
              " {'Infinity Gauntlet': 0},\n",
              " {'The Enchantress Returns (The Land of Stories)': 0},\n",
              " {'The Land of Stories: A Grimm Warning': 0},\n",
              " {'Warriors Box Set: Volumes 1 to 6: The Complete First Series (Warriors: The Prophecies Begin)': 0},\n",
              " {'The Wishing Spell (The Land of Stories)': 0},\n",
              " {'Basketball (and Other Things): A Collection of Questions Asked, Answered, Illustrated': 0},\n",
              " {'The Miraculous Journey of Edward Tulane': 0},\n",
              " {'Wings of Fire Boxset, Books 1-5 (Wings of Fire)': 0},\n",
              " {'Ex-Purgatory: A Novel (Ex-Heroes)': 0},\n",
              " {'The Magos (Eisenhorn)': 0},\n",
              " {'The House of the Spirits: A Novel': 0},\n",
              " {'The Return of the King: Being the Third Part of the Lord of the Rings': 0},\n",
              " {'Crimes Against Magic (The Hellequin Chronicles)': 0},\n",
              " {'Six of Crows': 0},\n",
              " {'Catalyst (The Deception Game)': 0},\n",
              " {'A Conjuring of Light: A Novel (Shades of Magic)': 0},\n",
              " {'Mythomorphia: An Extreme Coloring and Search Challenge': 0},\n",
              " {\"Burden's Edge (Fury of a Rising Dragon) (Volume 1)\": 0},\n",
              " {'The Magicians: A Novel (Magicians Trilogy)': 0},\n",
              " {'Red Rising': 0},\n",
              " {'The Hunger Games (Book 1)': 0},\n",
              " {'Cyrus LongBones and the Curse of the Sea Zombie': 0},\n",
              " {'The Silmarillion': 0},\n",
              " {'The Lady of the Lake (The Witcher)': 0},\n",
              " {\"The Assassin's Blade: The Throne of Glass Novellas\": 0},\n",
              " {'Festive Magic - Fantasy Christmas Coloring Book (Fantasy Coloring by Selina) (Volume 12)': 0},\n",
              " {'Witch Fire (The Banned and the Banished, Book 1)': 0},\n",
              " {'Pillage (The Pillage Trilogy (Pillogy))': 0},\n",
              " {'The Two Towers: Being the Second Part of The Lord of the Rings': 0},\n",
              " {'The Moon Stealers and The Quest for the Silver Bough (Volume 1)': 0},\n",
              " {'Priest: Ratcatchers, Book One: A Fantasy Hardboiled': 0},\n",
              " ...]"
            ]
          },
          "metadata": {}
        }
      ],
      "execution_count": 151,
      "metadata": {}
    },
    {
      "cell_type": "code",
      "source": [
        "df.isnull().sum()"
      ],
      "outputs": [
        {
          "output_type": "execute_result",
          "execution_count": 164,
          "data": {
            "text/plain": [
              "Name                 0\n",
              "Author              10\n",
              "Publisher          263\n",
              "Publishing_Date    324\n",
              "Format              81\n",
              "Pages              364\n",
              "Rating             179\n",
              "label                0\n",
              "dtype: int64"
            ]
          },
          "metadata": {}
        }
      ],
      "execution_count": 164,
      "metadata": {}
    },
    {
      "cell_type": "code",
      "source": [
        "true = []\n",
        "predicted = []\n",
        "for i in ourLabels:\n",
        "    title = list(i.keys())[0]\n",
        "    try:\n",
        "        true.append(df[df['Name'] == title]['label'].values[0])\n",
        "        predicted.append(list(i.values())[0])\n",
        "    except:\n",
        "        continue"
      ],
      "outputs": [],
      "execution_count": 165,
      "metadata": {
        "scrolled": true
      }
    },
    {
      "cell_type": "code",
      "source": [
        "len(predicted)"
      ],
      "outputs": [
        {
          "output_type": "execute_result",
          "execution_count": 167,
          "data": {
            "text/plain": [
              "6030"
            ]
          },
          "metadata": {}
        }
      ],
      "execution_count": 167,
      "metadata": {}
    },
    {
      "cell_type": "code",
      "source": [
        "len(true)"
      ],
      "outputs": [
        {
          "output_type": "execute_result",
          "execution_count": 168,
          "data": {
            "text/plain": [
              "6030"
            ]
          },
          "metadata": {}
        }
      ],
      "execution_count": 168,
      "metadata": {}
    },
    {
      "cell_type": "code",
      "source": [
        "from sklearn.metrics import classification_report"
      ],
      "outputs": [],
      "execution_count": 169,
      "metadata": {}
    },
    {
      "cell_type": "code",
      "source": [
        "print(classification_report(true, predicted))"
      ],
      "outputs": [
        {
          "output_type": "stream",
          "name": "stdout",
          "text": [
            "             precision    recall  f1-score   support\n",
            "\n",
            "          0       1.00      1.00      1.00      6030\n",
            "          1       0.00      0.00      0.00         0\n",
            "\n",
            "avg / total       1.00      1.00      1.00      6030\n",
            "\n"
          ]
        },
        {
          "output_type": "stream",
          "name": "stderr",
          "text": [
            "c:\\python35\\lib\\site-packages\\sklearn\\metrics\\classification.py:1137: UndefinedMetricWarning: Recall and F-score are ill-defined and being set to 0.0 in labels with no true samples.\n",
            "  'recall', 'true', average, warn_for)\n"
          ]
        }
      ],
      "execution_count": 170,
      "metadata": {}
    },
    {
      "cell_type": "code",
      "source": [
        "289/6309"
      ],
      "outputs": [
        {
          "output_type": "execute_result",
          "execution_count": 171,
          "data": {
            "text/plain": [
              "0.045807576478047236"
            ]
          },
          "metadata": {}
        }
      ],
      "execution_count": 171,
      "metadata": {}
    },
    {
      "cell_type": "code",
      "source": [
        "!ls"
      ],
      "outputs": [
        {
          "output_type": "stream",
          "name": "stderr",
          "text": [
            "'ls' is not recognized as an internal or external command,\n",
            "operable program or batch file.\n"
          ]
        }
      ],
      "execution_count": 172,
      "metadata": {}
    },
    {
      "cell_type": "code",
      "source": [],
      "outputs": [],
      "execution_count": null,
      "metadata": {}
    }
  ],
  "metadata": {
    "kernelspec": {
      "name": "python3",
      "language": "python",
      "display_name": "Python 3"
    },
    "language_info": {
      "nbconvert_exporter": "python",
      "codemirror_mode": {
        "name": "ipython",
        "version": 3
      },
      "version": "3.5.0",
      "mimetype": "text/x-python",
      "file_extension": ".py",
      "name": "python",
      "pygments_lexer": "ipython3"
    },
    "toc": {
      "toc_position": {},
      "skip_h1_title": false,
      "number_sections": true,
      "title_cell": "Table of Contents",
      "toc_window_display": false,
      "toc_section_display": true,
      "title_sidebar": "Contents",
      "toc_cell": false,
      "nav_menu": {},
      "sideBar": true
    },
    "kernel_info": {
      "name": "python3"
    },
    "nteract": {
      "version": "0.8.4"
    }
  },
  "nbformat": 4,
  "nbformat_minor": 2
}