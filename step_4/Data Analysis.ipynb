{
 "cells": [
  {
   "cell_type": "code",
   "execution_count": 1,
   "metadata": {},
   "outputs": [],
   "source": [
    "import pandas as pd\n",
    "import numpy as np"
   ]
  },
  {
   "cell_type": "code",
   "execution_count": 2,
   "metadata": {},
   "outputs": [],
   "source": [
    "data = pd.read_csv('E.csv')"
   ]
  },
  {
   "cell_type": "code",
   "execution_count": 3,
   "metadata": {},
   "outputs": [],
   "source": [
    "data['Format'] = data['Format'].replace(['Paperback', 'Mass Market Paperback', 'paperback', 'Comic Book', 'soft cover', 'Softcover', 'Paperback & e-book'], 0)\n",
    "data['Format'] = data['Format'].replace(['Hardcover', 'hardcover', 'Board Book', 'Library Binding', 'Board book', 'Leather Bound', 'Boxed Set', 'Board book', 'School & Library Binding', 'Spiral-bound'], 1)\n",
    "data['Format'] = data['Format'].replace(['Kindle', 'Kindle Edition', 'ebook', 'Nook', 'Audible Audio', 'Audio Cassette', 'Audio CD', 'MP3 CD', 'Audio', \n",
    "                                        'Audiobook'], 2)\n",
    "data['Format'] = data['Format'].replace(['Issue','Unknown Binding', 'Mass Market', 'Other Format', 'Misc. Supplies'], 3)"
   ]
  },
  {
   "cell_type": "code",
   "execution_count": 4,
   "metadata": {},
   "outputs": [
    {
     "data": {
      "text/plain": [
       "array([ 0.,  1.,  2., nan,  3.])"
      ]
     },
     "execution_count": 4,
     "metadata": {},
     "output_type": "execute_result"
    }
   ],
   "source": [
    "data['Format'].unique()"
   ]
  },
  {
   "cell_type": "code",
   "execution_count": 4,
   "metadata": {},
   "outputs": [],
   "source": [
    "data['Publishing_Date'].fillna(0, inplace=True)\n",
    "data['Publishing_Year'] = data.apply((lambda row: 0 if row['Publishing_Date'] == 0 \n",
    "                                      else int(row['Publishing_Date'].split('-')[0])), axis=1)"
   ]
  },
  {
   "cell_type": "code",
   "execution_count": 6,
   "metadata": {},
   "outputs": [],
   "source": [
    "correlation = data.corr()"
   ]
  },
  {
   "cell_type": "code",
   "execution_count": 7,
   "metadata": {},
   "outputs": [
    {
     "data": {
      "text/html": [
       "<div>\n",
       "<style scoped>\n",
       "    .dataframe tbody tr th:only-of-type {\n",
       "        vertical-align: middle;\n",
       "    }\n",
       "\n",
       "    .dataframe tbody tr th {\n",
       "        vertical-align: top;\n",
       "    }\n",
       "\n",
       "    .dataframe thead th {\n",
       "        text-align: right;\n",
       "    }\n",
       "</style>\n",
       "<table border=\"1\" class=\"dataframe\">\n",
       "  <thead>\n",
       "    <tr style=\"text-align: right;\">\n",
       "      <th></th>\n",
       "      <th>Format</th>\n",
       "      <th>Pages</th>\n",
       "      <th>Rating</th>\n",
       "      <th>Publishing_Year</th>\n",
       "    </tr>\n",
       "  </thead>\n",
       "  <tbody>\n",
       "    <tr>\n",
       "      <th>Format</th>\n",
       "      <td>1.000000</td>\n",
       "      <td>0.061224</td>\n",
       "      <td>0.040285</td>\n",
       "      <td>-0.149441</td>\n",
       "    </tr>\n",
       "    <tr>\n",
       "      <th>Pages</th>\n",
       "      <td>0.061224</td>\n",
       "      <td>1.000000</td>\n",
       "      <td>0.189690</td>\n",
       "      <td>0.060327</td>\n",
       "    </tr>\n",
       "    <tr>\n",
       "      <th>Rating</th>\n",
       "      <td>0.040285</td>\n",
       "      <td>0.189690</td>\n",
       "      <td>1.000000</td>\n",
       "      <td>0.165962</td>\n",
       "    </tr>\n",
       "    <tr>\n",
       "      <th>Publishing_Year</th>\n",
       "      <td>-0.149441</td>\n",
       "      <td>0.060327</td>\n",
       "      <td>0.165962</td>\n",
       "      <td>1.000000</td>\n",
       "    </tr>\n",
       "  </tbody>\n",
       "</table>\n",
       "</div>"
      ],
      "text/plain": [
       "                   Format     Pages    Rating  Publishing_Year\n",
       "Format           1.000000  0.061224  0.040285        -0.149441\n",
       "Pages            0.061224  1.000000  0.189690         0.060327\n",
       "Rating           0.040285  0.189690  1.000000         0.165962\n",
       "Publishing_Year -0.149441  0.060327  0.165962         1.000000"
      ]
     },
     "execution_count": 7,
     "metadata": {},
     "output_type": "execute_result"
    }
   ],
   "source": [
    "correlation"
   ]
  },
  {
   "cell_type": "code",
   "execution_count": 8,
   "metadata": {},
   "outputs": [
    {
     "data": {
      "text/plain": [
       "1760"
      ]
     },
     "execution_count": 8,
     "metadata": {},
     "output_type": "execute_result"
    }
   ],
   "source": [
    "len(data['Publisher'].unique())"
   ]
  },
  {
   "cell_type": "code",
   "execution_count": 9,
   "metadata": {},
   "outputs": [
    {
     "data": {
      "text/plain": [
       "3534"
      ]
     },
     "execution_count": 9,
     "metadata": {},
     "output_type": "execute_result"
    }
   ],
   "source": [
    "len(data['Author'].unique())"
   ]
  },
  {
   "cell_type": "code",
   "execution_count": 10,
   "metadata": {},
   "outputs": [
    {
     "data": {
      "text/plain": [
       "6266"
      ]
     },
     "execution_count": 10,
     "metadata": {},
     "output_type": "execute_result"
    }
   ],
   "source": [
    "len(data['Name'].unique())"
   ]
  },
  {
   "cell_type": "code",
   "execution_count": 5,
   "metadata": {
    "scrolled": true
   },
   "outputs": [
    {
     "name": "stdout",
     "output_type": "stream",
     "text": [
      "Requirement already satisfied: gender-guesser in /usr/local/lib/python3.6/site-packages\r\n",
      "\u001b[33mYou are using pip version 9.0.3, however version 10.0.1 is available.\r\n",
      "You should consider upgrading via the 'pip install --upgrade pip' command.\u001b[0m\r\n"
     ]
    }
   ],
   "source": [
    "!pip3 install gender-guesser"
   ]
  },
  {
   "cell_type": "code",
   "execution_count": 6,
   "metadata": {},
   "outputs": [],
   "source": [
    "import re\n",
    "import gender_guesser.detector as gender\n",
    "def extractGivenName(full_name):\n",
    "   clean_name_split = re.sub('[\\.\\-]',' ', str(full_name)).split()\n",
    "   for s in clean_name_split[:-1]:\n",
    "       if(len(s) > 1):\n",
    "           return s\n",
    "   return clean_name_split[0]\n",
    "   \n",
    "def getGender(full_name):\n",
    "   d = gender.Detector(case_sensitive=False)\n",
    "   g = d.get_gender(extractGivenName(full_name))\n",
    "   if g == 'mostly_male' or g == 'male':\n",
    "    print ('male')\n",
    "    return 1\n",
    "   elif g == 'mostly_female' or g == 'female':\n",
    "    print ('female')\n",
    "    return 0\n",
    "   else:\n",
    "    print ('unknown')\n",
    "    return 2\n",
    "   \n"
   ]
  },
  {
   "cell_type": "code",
   "execution_count": null,
   "metadata": {
    "scrolled": false
   },
   "outputs": [],
   "source": [
    "data['Gender'] = data.apply(lambda row: getG\n",
    "                            ender(row['Author']), axis=1)"
   ]
  },
  {
   "cell_type": "code",
   "execution_count": 8,
   "metadata": {},
   "outputs": [
    {
     "data": {
      "text/html": [
       "<div>\n",
       "<style scoped>\n",
       "    .dataframe tbody tr th:only-of-type {\n",
       "        vertical-align: middle;\n",
       "    }\n",
       "\n",
       "    .dataframe tbody tr th {\n",
       "        vertical-align: top;\n",
       "    }\n",
       "\n",
       "    .dataframe thead th {\n",
       "        text-align: right;\n",
       "    }\n",
       "</style>\n",
       "<table border=\"1\" class=\"dataframe\">\n",
       "  <thead>\n",
       "    <tr style=\"text-align: right;\">\n",
       "      <th></th>\n",
       "      <th>Format</th>\n",
       "      <th>Pages</th>\n",
       "      <th>Rating</th>\n",
       "      <th>Publishing_Year</th>\n",
       "      <th>Gender</th>\n",
       "    </tr>\n",
       "  </thead>\n",
       "  <tbody>\n",
       "    <tr>\n",
       "      <th>Format</th>\n",
       "      <td>1.000000</td>\n",
       "      <td>0.061224</td>\n",
       "      <td>0.040285</td>\n",
       "      <td>-0.149441</td>\n",
       "      <td>-0.023373</td>\n",
       "    </tr>\n",
       "    <tr>\n",
       "      <th>Pages</th>\n",
       "      <td>0.061224</td>\n",
       "      <td>1.000000</td>\n",
       "      <td>0.189690</td>\n",
       "      <td>0.060327</td>\n",
       "      <td>0.036811</td>\n",
       "    </tr>\n",
       "    <tr>\n",
       "      <th>Rating</th>\n",
       "      <td>0.040285</td>\n",
       "      <td>0.189690</td>\n",
       "      <td>1.000000</td>\n",
       "      <td>0.165962</td>\n",
       "      <td>0.036531</td>\n",
       "    </tr>\n",
       "    <tr>\n",
       "      <th>Publishing_Year</th>\n",
       "      <td>-0.149441</td>\n",
       "      <td>0.060327</td>\n",
       "      <td>0.165962</td>\n",
       "      <td>1.000000</td>\n",
       "      <td>0.001555</td>\n",
       "    </tr>\n",
       "    <tr>\n",
       "      <th>Gender</th>\n",
       "      <td>-0.023373</td>\n",
       "      <td>0.036811</td>\n",
       "      <td>0.036531</td>\n",
       "      <td>0.001555</td>\n",
       "      <td>1.000000</td>\n",
       "    </tr>\n",
       "  </tbody>\n",
       "</table>\n",
       "</div>"
      ],
      "text/plain": [
       "                   Format     Pages    Rating  Publishing_Year    Gender\n",
       "Format           1.000000  0.061224  0.040285        -0.149441 -0.023373\n",
       "Pages            0.061224  1.000000  0.189690         0.060327  0.036811\n",
       "Rating           0.040285  0.189690  1.000000         0.165962  0.036531\n",
       "Publishing_Year -0.149441  0.060327  0.165962         1.000000  0.001555\n",
       "Gender          -0.023373  0.036811  0.036531         0.001555  1.000000"
      ]
     },
     "execution_count": 8,
     "metadata": {},
     "output_type": "execute_result"
    }
   ],
   "source": [
    "data.corr()"
   ]
  },
  {
   "cell_type": "code",
   "execution_count": 9,
   "metadata": {},
   "outputs": [
    {
     "data": {
      "text/plain": [
       "Gender\n",
       "0    304.744832\n",
       "1    356.203082\n",
       "2    320.977620\n",
       "Name: Pages, dtype: float64"
      ]
     },
     "execution_count": 9,
     "metadata": {},
     "output_type": "execute_result"
    }
   ],
   "source": [
    "data.groupby(['Gender'])['Pages'].mean()"
   ]
  },
  {
   "cell_type": "code",
   "execution_count": 143,
   "metadata": {},
   "outputs": [
    {
     "data": {
      "text/plain": [
       "Gender\n",
       "0    1816\n",
       "1    3427\n",
       "2    1066\n",
       "dtype: int64"
      ]
     },
     "execution_count": 143,
     "metadata": {},
     "output_type": "execute_result"
    }
   ],
   "source": [
    "data.groupby(['Gender']).size()"
   ]
  },
  {
   "cell_type": "code",
   "execution_count": 13,
   "metadata": {},
   "outputs": [
    {
     "data": {
      "text/plain": [
       "Gender\n",
       "0    4.107326\n",
       "1    4.111010\n",
       "2    4.169960\n",
       "Name: Rating, dtype: float64"
      ]
     },
     "execution_count": 13,
     "metadata": {},
     "output_type": "execute_result"
    }
   ],
   "source": [
    "data.groupby(['Gender'])['Rating'].mean()"
   ]
  },
  {
   "cell_type": "code",
   "execution_count": 189,
   "metadata": {},
   "outputs": [
    {
     "name": "stdout",
     "output_type": "stream",
     "text": [
      "[437, 268, 341, 2]\n"
     ]
    },
    {
     "name": "stderr",
     "output_type": "stream",
     "text": [
      "/usr/local/lib/python3.6/site-packages/matplotlib/axes/_axes.py:531: UserWarning: No labelled objects found. Use label='...' kwarg on individual plots.\n",
      "  warnings.warn(\"No labelled objects found. \"\n"
     ]
    },
    {
     "data": {
      "image/png": "[encoded data removed]",
      "text/plain": [
       "<matplotlib.figure.Figure at 0x115be7c18>"
      ]
     },
     "metadata": {},
     "output_type": "display_data"
    }
   ],
   "source": [
    "df = data.groupby(['Gender', 'Format']).size().reset_index(name='count')\n",
    "print(list(df[df['Gender'] == 2]['count']))\n",
    "import matplotlib.pyplot as plt\n",
    "\n",
    "fig = plt.figure()\n",
    "ax = fig.add_subplot(111)\n",
    "ax1 = ax.bar([0,1,2,3], list(df[df['Gender'] == 0]['count']), color='blue', alpha=0.5)\n",
    "ax2 = ax.bar([0,1,2,3], list(df[df['Gender'] == 1]['count']), color='red', alpha=0.5)\n",
    "ax.legend((ax1, ax2), ('female', 'male') )\n",
    "plt.legend(loc='upper left')\n",
    "plt.xlabel('Format')\n",
    "plt.ylabel('Number of books')\n",
    "plt.show()"
   ]
  },
  {
   "cell_type": "code",
   "execution_count": null,
   "metadata": {},
   "outputs": [],
   "source": [
    "plt.hist(data['Gender'], data['Format'].unique)"
   ]
  },
  {
   "cell_type": "code",
   "execution_count": 16,
   "metadata": {},
   "outputs": [
    {
     "data": {
      "text/plain": [
       "0     2017\n",
       "1     2017\n",
       "2     2012\n",
       "3     2012\n",
       "4     1993\n",
       "5     2018\n",
       "9     2018\n",
       "11    2016\n",
       "15    2017\n",
       "16    2018\n",
       "21    2017\n",
       "22    2005\n",
       "26    1999\n",
       "31    2014\n",
       "58    2013\n",
       "Name: Publishing_Year, dtype: int64"
      ]
     },
     "execution_count": 16,
     "metadata": {},
     "output_type": "execute_result"
    }
   ],
   "source": [
    "df.head()"
   ]
  },
  {
   "cell_type": "code",
   "execution_count": 38,
   "metadata": {},
   "outputs": [],
   "source": [
    "new_df = data[(data['Gender'] == 0) | (data['Gender'] == 1)]"
   ]
  },
  {
   "cell_type": "code",
   "execution_count": 39,
   "metadata": {},
   "outputs": [
    {
     "data": {
      "text/html": [
       "<div>\n",
       "<style scoped>\n",
       "    .dataframe tbody tr th:only-of-type {\n",
       "        vertical-align: middle;\n",
       "    }\n",
       "\n",
       "    .dataframe tbody tr th {\n",
       "        vertical-align: top;\n",
       "    }\n",
       "\n",
       "    .dataframe thead th {\n",
       "        text-align: right;\n",
       "    }\n",
       "</style>\n",
       "<table border=\"1\" class=\"dataframe\">\n",
       "  <thead>\n",
       "    <tr style=\"text-align: right;\">\n",
       "      <th></th>\n",
       "      <th>Format</th>\n",
       "      <th>Pages</th>\n",
       "      <th>Rating</th>\n",
       "      <th>Publishing_Year</th>\n",
       "      <th>Gender</th>\n",
       "    </tr>\n",
       "  </thead>\n",
       "  <tbody>\n",
       "    <tr>\n",
       "      <th>Format</th>\n",
       "      <td>1.000000</td>\n",
       "      <td>0.057843</td>\n",
       "      <td>0.065175</td>\n",
       "      <td>-0.154628</td>\n",
       "      <td>-0.051740</td>\n",
       "    </tr>\n",
       "    <tr>\n",
       "      <th>Pages</th>\n",
       "      <td>0.057843</td>\n",
       "      <td>1.000000</td>\n",
       "      <td>0.189347</td>\n",
       "      <td>0.063086</td>\n",
       "      <td>0.094549</td>\n",
       "    </tr>\n",
       "    <tr>\n",
       "      <th>Rating</th>\n",
       "      <td>0.065175</td>\n",
       "      <td>0.189347</td>\n",
       "      <td>1.000000</td>\n",
       "      <td>0.152083</td>\n",
       "      <td>0.003679</td>\n",
       "    </tr>\n",
       "    <tr>\n",
       "      <th>Publishing_Year</th>\n",
       "      <td>-0.154628</td>\n",
       "      <td>0.063086</td>\n",
       "      <td>0.152083</td>\n",
       "      <td>1.000000</td>\n",
       "      <td>0.044873</td>\n",
       "    </tr>\n",
       "    <tr>\n",
       "      <th>Gender</th>\n",
       "      <td>-0.051740</td>\n",
       "      <td>0.094549</td>\n",
       "      <td>0.003679</td>\n",
       "      <td>0.044873</td>\n",
       "      <td>1.000000</td>\n",
       "    </tr>\n",
       "  </tbody>\n",
       "</table>\n",
       "</div>"
      ],
      "text/plain": [
       "                   Format     Pages    Rating  Publishing_Year    Gender\n",
       "Format           1.000000  0.057843  0.065175        -0.154628 -0.051740\n",
       "Pages            0.057843  1.000000  0.189347         0.063086  0.094549\n",
       "Rating           0.065175  0.189347  1.000000         0.152083  0.003679\n",
       "Publishing_Year -0.154628  0.063086  0.152083         1.000000  0.044873\n",
       "Gender          -0.051740  0.094549  0.003679         0.044873  1.000000"
      ]
     },
     "execution_count": 39,
     "metadata": {},
     "output_type": "execute_result"
    }
   ],
   "source": [
    "new_df.corr()"
   ]
  },
  {
   "cell_type": "code",
   "execution_count": 192,
   "metadata": {},
   "outputs": [],
   "source": [
    "data_nod = data[data['Publishing_Year'] != 0]\n",
    "g0 = data_nod[data_nod['Gender']==0].groupby(['Publishing_Year']).size()\n",
    "g1 = data_nod[data_nod['Gender']==1].groupby(['Publishing_Year']).size()\n",
    "g2 = data_nod[data_nod['Gender']==2].groupby(['Publishing_Year']).size()"
   ]
  },
  {
   "cell_type": "code",
   "execution_count": 193,
   "metadata": {},
   "outputs": [
    {
     "name": "stderr",
     "output_type": "stream",
     "text": [
      "/usr/local/lib/python3.6/site-packages/matplotlib/legend.py:633: UserWarning: Legend does not support <matplotlib.axes._subplots.AxesSubplot object at 0x1191ef940> instances.\n",
      "A proxy artist may be used instead.\n",
      "See: http://matplotlib.org/users/legend_guide.html#using-proxy-artist\n",
      "  \"#using-proxy-artist\".format(orig_handle)\n",
      "/usr/local/lib/python3.6/site-packages/matplotlib/legend.py:633: UserWarning: Legend does not support <matplotlib.axes._subplots.AxesSubplot object at 0x1198f1358> instances.\n",
      "A proxy artist may be used instead.\n",
      "See: http://matplotlib.org/users/legend_guide.html#using-proxy-artist\n",
      "  \"#using-proxy-artist\".format(orig_handle)\n"
     ]
    },
    {
     "data": {
      "image/png": "[encoded data removed]",
      "text/plain": [
       "<matplotlib.figure.Figure at 0x1191ef0f0>"
      ]
     },
     "metadata": {},
     "output_type": "display_data"
    }
   ],
   "source": [
    "import matplotlib.pyplot as plt\n",
    "fig = plt.figure()\n",
    "ax = fig.add_subplot(111)\n",
    "ax1 = g0.plot(x=['Publishing_Year'], y=['Count'], label='female')\n",
    "ax2 = g1.plot(x=['Publishing_Year'], y=['Count'], label='male')\n",
    "#ax3 = g2.plot(x=['Publishing_Year'], y=['Count'], label='unknown')\n",
    "ax.legend((ax1, ax2, ax3), ('female', 'male', 'unknown') )\n",
    "plt.legend(loc='upper left')\n",
    "plt.xlabel('Years')\n",
    "plt.ylabel('Number of books')\n",
    "plt.show()"
   ]
  },
  {
   "cell_type": "code",
   "execution_count": 196,
   "metadata": {},
   "outputs": [
    {
     "name": "stderr",
     "output_type": "stream",
     "text": [
      "/usr/local/lib/python3.6/site-packages/matplotlib/legend.py:633: UserWarning: Legend does not support <matplotlib.axes._subplots.AxesSubplot object at 0x1198854a8> instances.\n",
      "A proxy artist may be used instead.\n",
      "See: http://matplotlib.org/users/legend_guide.html#using-proxy-artist\n",
      "  \"#using-proxy-artist\".format(orig_handle)\n"
     ]
    },
    {
     "data": {
      "image/png": "[encoded data removed]",
      "text/plain": [
       "<matplotlib.figure.Figure at 0x10df554e0>"
      ]
     },
     "metadata": {},
     "output_type": "display_data"
    }
   ],
   "source": [
    "data_nod = data[data['Publishing_Year'] != 0]\n",
    "g0 = data_nod[data_nod['Format']==0].groupby(['Publishing_Year']).size()\n",
    "g1 = data_nod[data_nod['Format']==1].groupby(['Publishing_Year']).size()\n",
    "g2 = data_nod[data_nod['Format']==2].groupby(['Publishing_Year']).size()\n",
    "g3 = data_nod[data_nod['Format']==3].groupby(['Publishing_Year']).size()\n",
    "fig = plt.figure()\n",
    "ax = fig.add_subplot(111)\n",
    "ax1 = g0.plot(x=['Publishing_Year'], y=['Count'], label='Paperback')\n",
    "ax2 = g1.plot(x=['Publishing_Year'], y=['Count'], label='Hardcover')\n",
    "ax3 = g2.plot(x=['Publishing_Year'], y=['Count'], label='Kindle/Audio book')\n",
    "ax4 = g3.plot(x=['Publishing_Year'], y=['Count'], label='unknown')\n",
    "ax.legend((ax1, ax2, ax3, ax4), ('Hardcover', 'Paperback', 'Kindle/audio book', 'unknown') )\n",
    "plt.legend(loc='upper left')\n",
    "plt.xlabel('Years')\n",
    "plt.ylabel('Number of books')\n",
    "plt.show()"
   ]
  },
  {
   "cell_type": "code",
   "execution_count": 53,
   "metadata": {},
   "outputs": [
    {
     "data": {
      "image/png": "[encoded data removed]",
      "text/plain": [
       "<matplotlib.figure.Figure at 0x10c1e9e80>"
      ]
     },
     "metadata": {},
     "output_type": "display_data"
    }
   ],
   "source": [
    "import matplotlib.pyplot as plt\n",
    "g.plot(x=['Publishing_Year'], y=['Count'])\n",
    "plt.show()"
   ]
  },
  {
   "cell_type": "code",
   "execution_count": null,
   "metadata": {},
   "outputs": [],
   "source": []
  }
 ],
 "metadata": {
  "kernelspec": {
   "display_name": "Python 3",
   "language": "python",
   "name": "python3"
  },
  "language_info": {
   "codemirror_mode": {
    "name": "ipython",
    "version": 3
   },
   "file_extension": ".py",
   "mimetype": "text/x-python",
   "name": "python",
   "nbconvert_exporter": "python",
   "pygments_lexer": "ipython3",
   "version": "3.6.5"
  }
 },
 "nbformat": 4,
 "nbformat_minor": 2
}
