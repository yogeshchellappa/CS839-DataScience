{
 "cells": [
  {
   "cell_type": "markdown",
   "metadata": {},
   "source": [
    "# Introduction\n",
    "This IPython notebook explains a basic workflow two tables using py_entitymatching. The goal is to come up with a workflow to match books from Goodreads and Amazon. Specifically, we want to maximize F1. The datasets contain information about the books.\n",
    "\n",
    "First, we need to import py_entitymatching package and other libraries as follows:"
   ]
  },
  {
   "cell_type": "code",
   "execution_count": 67,
   "metadata": {},
   "outputs": [],
   "source": [
    "import py_entitymatching as em\n",
    "import pandas as pd\n",
    "import os\n",
    "import sys\n",
    "from timeit import default_timer as timer\n",
    "from datetime import datetime\n",
    "import math\n",
    "import numpy as np"
   ]
  },
  {
   "cell_type": "code",
   "execution_count": 17,
   "metadata": {},
   "outputs": [
    {
     "name": "stdout",
     "output_type": "stream",
     "text": [
      "python version: 3.5.2 (default, Sep 14 2017, 22:51:06) \n",
      "[GCC 5.4.0 20160609]\n",
      "pandas version: 0.20.3\n",
      "magellan version: 0.3.0\n"
     ]
    }
   ],
   "source": [
    "# Display the versions\n",
    "print('python version: ' + sys.version )\n",
    "print('pandas version: ' + pd.__version__ )\n",
    "print('magellan version: ' + em.__version__ )"
   ]
  },
  {
   "cell_type": "markdown",
   "metadata": {},
   "source": [
    "Matching two tables typically consists of the following three steps:\n",
    "\n",
    "1. Reading the input tables\n",
    "\n",
    "2. Blocking the input tables to get a candidate set\n",
    "\n",
    "3. Matching the tuple pairs in the candidate set"
   ]
  },
  {
   "cell_type": "markdown",
   "metadata": {},
   "source": [
    "## Read input tables"
   ]
  },
  {
   "cell_type": "code",
   "execution_count": 18,
   "metadata": {},
   "outputs": [
    {
     "name": "stderr",
     "output_type": "stream",
     "text": [
      "WARNING:py_entitymatching.io.parsers:Metadata file is not present in the given path; proceeding to read the csv file.\n",
      "WARNING:py_entitymatching.io.parsers:Metadata file is not present in the given path; proceeding to read the csv file.\n"
     ]
    }
   ],
   "source": [
    "source1 = 'source1_cleaned.csv'\n",
    "source2 = 'source2_cleaned.csv'\n",
    "\n",
    "# Read the data\n",
    "A = em.read_csv_metadata(source1)\n",
    "B = em.read_csv_metadata(source2)"
   ]
  },
  {
   "cell_type": "code",
   "execution_count": 19,
   "metadata": {},
   "outputs": [
    {
     "data": {
      "text/plain": [
       "True"
      ]
     },
     "execution_count": 19,
     "metadata": {},
     "output_type": "execute_result"
    }
   ],
   "source": [
    "# Set the metadata\n",
    "em.set_key(A, 'ID')\n",
    "em.set_key(B, 'ID')"
   ]
  },
  {
   "cell_type": "code",
   "execution_count": 20,
   "metadata": {},
   "outputs": [
    {
     "name": "stdout",
     "output_type": "stream",
     "text": [
      "Number of tuples in A: 3387\n",
      "Number of tuples in B: 3001\n",
      "Number of tuples in A X B (i.e the cartesian product): 10164387\n"
     ]
    }
   ],
   "source": [
    "print('Number of tuples in A: ' + str(len(A)))\n",
    "print('Number of tuples in B: ' + str(len(B)))\n",
    "print('Number of tuples in A X B (i.e the cartesian product): ' + str(len(A)*len(B)))"
   ]
  },
  {
   "cell_type": "code",
   "execution_count": 21,
   "metadata": {},
   "outputs": [
    {
     "data": {
      "text/html": [
       "<div>\n",
       "<style>\n",
       "    .dataframe thead tr:only-child th {\n",
       "        text-align: right;\n",
       "    }\n",
       "\n",
       "    .dataframe thead th {\n",
       "        text-align: left;\n",
       "    }\n",
       "\n",
       "    .dataframe tbody tr th {\n",
       "        vertical-align: top;\n",
       "    }\n",
       "</style>\n",
       "<table border=\"1\" class=\"dataframe\">\n",
       "  <thead>\n",
       "    <tr style=\"text-align: right;\">\n",
       "      <th></th>\n",
       "      <th>ID</th>\n",
       "      <th>Name</th>\n",
       "      <th>Author</th>\n",
       "      <th>Publisher</th>\n",
       "      <th>Publishing_Date</th>\n",
       "      <th>Format</th>\n",
       "      <th>Pages</th>\n",
       "      <th>Rating</th>\n",
       "    </tr>\n",
       "  </thead>\n",
       "  <tbody>\n",
       "    <tr>\n",
       "      <th>0</th>\n",
       "      <td>0</td>\n",
       "      <td>Age of Myth: Book One of The Legends of the First Empire</td>\n",
       "      <td>Michael J. Sullivan</td>\n",
       "      <td>Del Rey</td>\n",
       "      <td>2017-1-31</td>\n",
       "      <td>Paperback</td>\n",
       "      <td>464.0</td>\n",
       "      <td>4.5</td>\n",
       "    </tr>\n",
       "    <tr>\n",
       "      <th>1</th>\n",
       "      <td>1</td>\n",
       "      <td>Rise of the Dragons (Kings and Sorcerers--Book 1)</td>\n",
       "      <td>Morgan Rice</td>\n",
       "      <td>Morgan Rice</td>\n",
       "      <td>2017-8-4</td>\n",
       "      <td>Hardcover</td>\n",
       "      <td>217.0</td>\n",
       "      <td>4.1</td>\n",
       "    </tr>\n",
       "  </tbody>\n",
       "</table>\n",
       "</div>"
      ],
      "text/plain": [
       "   ID                                                      Name  \\\n",
       "0   0  Age of Myth: Book One of The Legends of the First Empire   \n",
       "1   1         Rise of the Dragons (Kings and Sorcerers--Book 1)   \n",
       "\n",
       "                Author    Publisher Publishing_Date     Format  Pages  Rating  \n",
       "0  Michael J. Sullivan      Del Rey       2017-1-31  Paperback  464.0     4.5  \n",
       "1          Morgan Rice  Morgan Rice        2017-8-4  Hardcover  217.0     4.1  "
      ]
     },
     "execution_count": 21,
     "metadata": {},
     "output_type": "execute_result"
    }
   ],
   "source": [
    "A.head(2)"
   ]
  },
  {
   "cell_type": "code",
   "execution_count": 22,
   "metadata": {},
   "outputs": [
    {
     "data": {
      "text/html": [
       "<div>\n",
       "<style>\n",
       "    .dataframe thead tr:only-child th {\n",
       "        text-align: right;\n",
       "    }\n",
       "\n",
       "    .dataframe thead th {\n",
       "        text-align: left;\n",
       "    }\n",
       "\n",
       "    .dataframe tbody tr th {\n",
       "        vertical-align: top;\n",
       "    }\n",
       "</style>\n",
       "<table border=\"1\" class=\"dataframe\">\n",
       "  <thead>\n",
       "    <tr style=\"text-align: right;\">\n",
       "      <th></th>\n",
       "      <th>ID</th>\n",
       "      <th>Name</th>\n",
       "      <th>Author</th>\n",
       "      <th>Publisher</th>\n",
       "      <th>Publishing_Date</th>\n",
       "      <th>Format</th>\n",
       "      <th>Pages</th>\n",
       "      <th>Rating</th>\n",
       "    </tr>\n",
       "  </thead>\n",
       "  <tbody>\n",
       "    <tr>\n",
       "      <th>0</th>\n",
       "      <td>0</td>\n",
       "      <td>Brides of Fantasy</td>\n",
       "      <td>Vanilla Orchid Books</td>\n",
       "      <td>NaN</td>\n",
       "      <td>NaN</td>\n",
       "      <td>Kindle Edition</td>\n",
       "      <td>NaN</td>\n",
       "      <td>0.00</td>\n",
       "    </tr>\n",
       "    <tr>\n",
       "      <th>1</th>\n",
       "      <td>1</td>\n",
       "      <td>The Italian Secretary: A Further Adventure Of Sherlock Holmes</td>\n",
       "      <td>Caleb Carr</td>\n",
       "      <td>Sphere</td>\n",
       "      <td>2015-11-27</td>\n",
       "      <td>Paperback</td>\n",
       "      <td>288.0</td>\n",
       "      <td>3.19</td>\n",
       "    </tr>\n",
       "  </tbody>\n",
       "</table>\n",
       "</div>"
      ],
      "text/plain": [
       "   ID                                                           Name  \\\n",
       "0   0                                              Brides of Fantasy   \n",
       "1   1  The Italian Secretary: A Further Adventure Of Sherlock Holmes   \n",
       "\n",
       "                 Author Publisher Publishing_Date          Format  Pages  \\\n",
       "0  Vanilla Orchid Books       NaN             NaN  Kindle Edition    NaN   \n",
       "1            Caleb Carr    Sphere      2015-11-27       Paperback  288.0   \n",
       "\n",
       "   Rating  \n",
       "0    0.00  \n",
       "1    3.19  "
      ]
     },
     "execution_count": 22,
     "metadata": {},
     "output_type": "execute_result"
    }
   ],
   "source": [
    "B.head(2)"
   ]
  },
  {
   "cell_type": "code",
   "execution_count": 23,
   "metadata": {},
   "outputs": [
    {
     "data": {
      "text/plain": [
       "('ID', 'ID')"
      ]
     },
     "execution_count": 23,
     "metadata": {},
     "output_type": "execute_result"
    }
   ],
   "source": [
    "# Display the keys of the input tables\n",
    "em.get_key(A), em.get_key(B)"
   ]
  },
  {
   "cell_type": "markdown",
   "metadata": {},
   "source": [
    "Here we will proceed without downsampling the datasets and use the entire dataset. "
   ]
  },
  {
   "cell_type": "markdown",
   "metadata": {},
   "source": [
    "## Block tables to get candidate set\n",
    "Before we do the matching, we would like to remove the obviously non-matching tuple pairs from the input tables. This would reduce the number of tuple pairs considered for matching."
   ]
  },
  {
   "cell_type": "markdown",
   "metadata": {},
   "source": [
    "### Rule Based Blocker\n",
    "We first get the tokenizers and the similarity functions and then get the attribute correspondence for the two tables. \n",
    "\n",
    "We then define the following rules:\n",
    "1. For a tuple pair, if the Levenshtein similarity for the **Name** attribute is less than 0.275, block them.\n",
    "2. For a tuple pair, if the Jaccard similarity for the **Author** attribute is less than 0.5, block them."
   ]
  },
  {
   "cell_type": "markdown",
   "metadata": {},
   "source": [
    "#### Define the rules"
   ]
  },
  {
   "cell_type": "code",
   "execution_count": 24,
   "metadata": {},
   "outputs": [
    {
     "data": {
      "text/plain": [
       "'_rule_1'"
      ]
     },
     "execution_count": 24,
     "metadata": {},
     "output_type": "execute_result"
    }
   ],
   "source": [
    "# Rule-Based blocker \n",
    "rb0 = em.RuleBasedBlocker()\n",
    "block_t = em.get_tokenizers_for_blocking()\n",
    "block_s = em.get_sim_funs_for_blocking()\n",
    "block_c = em.get_attr_corres(A, B)\n",
    "atypes_A = em.get_attr_types(A)\n",
    "atypes_B = em.get_attr_types(B)\n",
    "\n",
    "block_f = em.get_features(A, B, atypes_A, atypes_B, block_c, block_t, block_s)\n",
    "\n",
    "# add rule for book names : block tuples if Levenshtein Similarity is below 0.275\n",
    "rb0.add_rule(['Name_Name_lev_sim(ltuple, rtuple) < 0.275'], block_f)\n",
    "\n",
    "# add rule for authors : block tuples if Jaccard Similarity is below 0.5 in spaces delimited tokens\n",
    "rb0.add_rule(['Author_Author_jac_dlm_dc0_dlm_dc0(ltuple, rtuple) < 0.5'], block_f)"
   ]
  },
  {
   "cell_type": "markdown",
   "metadata": {},
   "source": [
    "#### Perform Blocking"
   ]
  },
  {
   "cell_type": "code",
   "execution_count": 25,
   "metadata": {},
   "outputs": [
    {
     "name": "stdout",
     "output_type": "stream",
     "text": [
      "Time taken : 6.7970879999993485\n"
     ]
    }
   ],
   "source": [
    "start = timer()\n",
    "C0 = rb0.block_tables(A, B,\n",
    "                    l_output_attrs=['ID', 'Name', 'Author', 'Publisher', 'Publishing_Date', 'Format', 'Pages', 'Rating'], \n",
    "                    r_output_attrs=['ID', 'Name', 'Author', 'Publisher', 'Publishing_Date', 'Format', 'Pages', 'Rating'],\n",
    "                     show_progress=False)\n",
    "\n",
    "end = timer()\n",
    "print(\"Time taken : \" + str(end - start))"
   ]
  },
  {
   "cell_type": "code",
   "execution_count": 26,
   "metadata": {},
   "outputs": [
    {
     "name": "stdout",
     "output_type": "stream",
     "text": [
      "2754\n"
     ]
    }
   ],
   "source": [
    "print(len(C0))"
   ]
  },
  {
   "cell_type": "code",
   "execution_count": 27,
   "metadata": {},
   "outputs": [
    {
     "data": {
      "text/html": [
       "<div>\n",
       "<style>\n",
       "    .dataframe thead tr:only-child th {\n",
       "        text-align: right;\n",
       "    }\n",
       "\n",
       "    .dataframe thead th {\n",
       "        text-align: left;\n",
       "    }\n",
       "\n",
       "    .dataframe tbody tr th {\n",
       "        vertical-align: top;\n",
       "    }\n",
       "</style>\n",
       "<table border=\"1\" class=\"dataframe\">\n",
       "  <thead>\n",
       "    <tr style=\"text-align: right;\">\n",
       "      <th></th>\n",
       "      <th>_id</th>\n",
       "      <th>ltable_ID</th>\n",
       "      <th>rtable_ID</th>\n",
       "      <th>ltable_Name</th>\n",
       "      <th>ltable_Author</th>\n",
       "      <th>ltable_Publisher</th>\n",
       "      <th>ltable_Publishing_Date</th>\n",
       "      <th>ltable_Format</th>\n",
       "      <th>ltable_Pages</th>\n",
       "      <th>ltable_Rating</th>\n",
       "      <th>rtable_Name</th>\n",
       "      <th>rtable_Author</th>\n",
       "      <th>rtable_Publisher</th>\n",
       "      <th>rtable_Publishing_Date</th>\n",
       "      <th>rtable_Format</th>\n",
       "      <th>rtable_Pages</th>\n",
       "      <th>rtable_Rating</th>\n",
       "    </tr>\n",
       "  </thead>\n",
       "  <tbody>\n",
       "    <tr>\n",
       "      <th>14</th>\n",
       "      <td>0</td>\n",
       "      <td>1281</td>\n",
       "      <td>22</td>\n",
       "      <td>The Magazine of Fantasy and Science Fiction, July 1969 (Volume 37, No. 1)</td>\n",
       "      <td>Fritz Leiber</td>\n",
       "      <td>Mercury Press</td>\n",
       "      <td>1969-0-0</td>\n",
       "      <td>Hardcover</td>\n",
       "      <td>NaN</td>\n",
       "      <td>NaN</td>\n",
       "      <td>Gather, Darkness! (Nucleus Fantasy &amp; Science Fiction)</td>\n",
       "      <td>Fritz Leiber</td>\n",
       "      <td>Collier Books</td>\n",
       "      <td>1992-12-01</td>\n",
       "      <td>Paperback</td>\n",
       "      <td>240.0</td>\n",
       "      <td>3.64</td>\n",
       "    </tr>\n",
       "    <tr>\n",
       "      <th>15</th>\n",
       "      <td>1</td>\n",
       "      <td>204</td>\n",
       "      <td>23</td>\n",
       "      <td>Beyond My Control: Forbidden Fantasies in an Uncensored Age</td>\n",
       "      <td>Nancy Friday</td>\n",
       "      <td>Sourcebooks</td>\n",
       "      <td>2009-4-1</td>\n",
       "      <td>Kindle</td>\n",
       "      <td>288.0</td>\n",
       "      <td>3.2</td>\n",
       "      <td>Men in Love: Men's Sexual Fantasies: The Triumph of Love Over Rage</td>\n",
       "      <td>Nancy Friday</td>\n",
       "      <td>Dell</td>\n",
       "      <td>1982-12-15</td>\n",
       "      <td>Mass Market Paperback</td>\n",
       "      <td>544.0</td>\n",
       "      <td>3.70</td>\n",
       "    </tr>\n",
       "  </tbody>\n",
       "</table>\n",
       "</div>"
      ],
      "text/plain": [
       "    _id  ltable_ID  rtable_ID  \\\n",
       "14    0       1281         22   \n",
       "15    1        204         23   \n",
       "\n",
       "                                                                  ltable_Name  \\\n",
       "14  The Magazine of Fantasy and Science Fiction, July 1969 (Volume 37, No. 1)   \n",
       "15                Beyond My Control: Forbidden Fantasies in an Uncensored Age   \n",
       "\n",
       "   ltable_Author ltable_Publisher ltable_Publishing_Date ltable_Format  \\\n",
       "14  Fritz Leiber    Mercury Press               1969-0-0     Hardcover   \n",
       "15  Nancy Friday      Sourcebooks               2009-4-1        Kindle   \n",
       "\n",
       "    ltable_Pages  ltable_Rating  \\\n",
       "14           NaN            NaN   \n",
       "15         288.0            3.2   \n",
       "\n",
       "                                                           rtable_Name  \\\n",
       "14               Gather, Darkness! (Nucleus Fantasy & Science Fiction)   \n",
       "15  Men in Love: Men's Sexual Fantasies: The Triumph of Love Over Rage   \n",
       "\n",
       "   rtable_Author rtable_Publisher rtable_Publishing_Date  \\\n",
       "14  Fritz Leiber    Collier Books             1992-12-01   \n",
       "15  Nancy Friday             Dell             1982-12-15   \n",
       "\n",
       "            rtable_Format  rtable_Pages  rtable_Rating  \n",
       "14              Paperback         240.0           3.64  \n",
       "15  Mass Market Paperback         544.0           3.70  "
      ]
     },
     "execution_count": 27,
     "metadata": {},
     "output_type": "execute_result"
    }
   ],
   "source": [
    "C0.head(2)"
   ]
  },
  {
   "cell_type": "markdown",
   "metadata": {},
   "source": [
    "#### Overlap Blocker\n",
    "We now apply the overlap blocker to the candidate set obtained in the previous step. Since the entity we are dealing with is books, there are quite a few stopwords present in the book names, such as \"The\", \"Of\", \"And\" etc. Hence we will remove these stopwords by setting the <i>rem_stop_words</i> to _True_ and then perform overlap blocking with the size set to 1.\n",
    "\n",
    "We apply overlap blocking to the following attributes:\n",
    "1. Book Names\n",
    "2. Book Authors"
   ]
  },
  {
   "cell_type": "code",
   "execution_count": 28,
   "metadata": {},
   "outputs": [
    {
     "name": "stdout",
     "output_type": "stream",
     "text": [
      "Time taken : 0.17716199999995297\n"
     ]
    }
   ],
   "source": [
    "start = timer()\n",
    "\n",
    "# Overlap blocker\n",
    "overlapBlocker = em.OverlapBlocker()\n",
    "overlapBlocker.stop_words.append('of')\n",
    "C1 = overlapBlocker.block_candset(C0, 'Name', 'Name', word_level=True, overlap_size=1, allow_missing=True, show_progress=False, rem_stop_words=True)\n",
    "\n",
    "C1 = overlapBlocker.block_candset(C1, 'Author', 'Author', word_level=True, overlap_size=1, allow_missing=True, show_progress=False, rem_stop_words=True)\n",
    "\n",
    "end = timer()\n",
    "print(\"Time taken : \" + str(end - start))"
   ]
  },
  {
   "cell_type": "code",
   "execution_count": 29,
   "metadata": {},
   "outputs": [
    {
     "name": "stdout",
     "output_type": "stream",
     "text": [
      "1092\n"
     ]
    }
   ],
   "source": [
    "print(len(C1))"
   ]
  },
  {
   "cell_type": "code",
   "execution_count": 30,
   "metadata": {
    "scrolled": true
   },
   "outputs": [
    {
     "data": {
      "text/html": [
       "<div>\n",
       "<style>\n",
       "    .dataframe thead tr:only-child th {\n",
       "        text-align: right;\n",
       "    }\n",
       "\n",
       "    .dataframe thead th {\n",
       "        text-align: left;\n",
       "    }\n",
       "\n",
       "    .dataframe tbody tr th {\n",
       "        vertical-align: top;\n",
       "    }\n",
       "</style>\n",
       "<table border=\"1\" class=\"dataframe\">\n",
       "  <thead>\n",
       "    <tr style=\"text-align: right;\">\n",
       "      <th></th>\n",
       "      <th>_id</th>\n",
       "      <th>ltable_ID</th>\n",
       "      <th>rtable_ID</th>\n",
       "      <th>ltable_Name</th>\n",
       "      <th>ltable_Author</th>\n",
       "      <th>ltable_Publisher</th>\n",
       "      <th>ltable_Publishing_Date</th>\n",
       "      <th>ltable_Format</th>\n",
       "      <th>ltable_Pages</th>\n",
       "      <th>ltable_Rating</th>\n",
       "      <th>rtable_Name</th>\n",
       "      <th>rtable_Author</th>\n",
       "      <th>rtable_Publisher</th>\n",
       "      <th>rtable_Publishing_Date</th>\n",
       "      <th>rtable_Format</th>\n",
       "      <th>rtable_Pages</th>\n",
       "      <th>rtable_Rating</th>\n",
       "    </tr>\n",
       "  </thead>\n",
       "  <tbody>\n",
       "    <tr>\n",
       "      <th>14</th>\n",
       "      <td>0</td>\n",
       "      <td>1281</td>\n",
       "      <td>22</td>\n",
       "      <td>The Magazine of Fantasy and Science Fiction, July 1969 (Volume 37, No. 1)</td>\n",
       "      <td>Fritz Leiber</td>\n",
       "      <td>Mercury Press</td>\n",
       "      <td>1969-0-0</td>\n",
       "      <td>Hardcover</td>\n",
       "      <td>NaN</td>\n",
       "      <td>NaN</td>\n",
       "      <td>Gather, Darkness! (Nucleus Fantasy &amp; Science Fiction)</td>\n",
       "      <td>Fritz Leiber</td>\n",
       "      <td>Collier Books</td>\n",
       "      <td>1992-12-01</td>\n",
       "      <td>Paperback</td>\n",
       "      <td>240.0</td>\n",
       "      <td>3.64</td>\n",
       "    </tr>\n",
       "    <tr>\n",
       "      <th>15</th>\n",
       "      <td>1</td>\n",
       "      <td>204</td>\n",
       "      <td>23</td>\n",
       "      <td>Beyond My Control: Forbidden Fantasies in an Uncensored Age</td>\n",
       "      <td>Nancy Friday</td>\n",
       "      <td>Sourcebooks</td>\n",
       "      <td>2009-4-1</td>\n",
       "      <td>Kindle</td>\n",
       "      <td>288.0</td>\n",
       "      <td>3.2</td>\n",
       "      <td>Men in Love: Men's Sexual Fantasies: The Triumph of Love Over Rage</td>\n",
       "      <td>Nancy Friday</td>\n",
       "      <td>Dell</td>\n",
       "      <td>1982-12-15</td>\n",
       "      <td>Mass Market Paperback</td>\n",
       "      <td>544.0</td>\n",
       "      <td>3.70</td>\n",
       "    </tr>\n",
       "  </tbody>\n",
       "</table>\n",
       "</div>"
      ],
      "text/plain": [
       "    _id  ltable_ID  rtable_ID  \\\n",
       "14    0       1281         22   \n",
       "15    1        204         23   \n",
       "\n",
       "                                                                  ltable_Name  \\\n",
       "14  The Magazine of Fantasy and Science Fiction, July 1969 (Volume 37, No. 1)   \n",
       "15                Beyond My Control: Forbidden Fantasies in an Uncensored Age   \n",
       "\n",
       "   ltable_Author ltable_Publisher ltable_Publishing_Date ltable_Format  \\\n",
       "14  Fritz Leiber    Mercury Press               1969-0-0     Hardcover   \n",
       "15  Nancy Friday      Sourcebooks               2009-4-1        Kindle   \n",
       "\n",
       "    ltable_Pages  ltable_Rating  \\\n",
       "14           NaN            NaN   \n",
       "15         288.0            3.2   \n",
       "\n",
       "                                                           rtable_Name  \\\n",
       "14               Gather, Darkness! (Nucleus Fantasy & Science Fiction)   \n",
       "15  Men in Love: Men's Sexual Fantasies: The Triumph of Love Over Rage   \n",
       "\n",
       "   rtable_Author rtable_Publisher rtable_Publishing_Date  \\\n",
       "14  Fritz Leiber    Collier Books             1992-12-01   \n",
       "15  Nancy Friday             Dell             1982-12-15   \n",
       "\n",
       "            rtable_Format  rtable_Pages  rtable_Rating  \n",
       "14              Paperback         240.0           3.64  \n",
       "15  Mass Market Paperback         544.0           3.70  "
      ]
     },
     "execution_count": 30,
     "metadata": {},
     "output_type": "execute_result"
    }
   ],
   "source": [
    "C1.head(2)"
   ]
  },
  {
   "cell_type": "markdown",
   "metadata": {},
   "source": [
    "## Debug blocker output\n",
    "The number of tuple pairs considered for matching is reduced to 1092 (from 10164387), but we would want to make sure that the blocker did not drop any potential matches."
   ]
  },
  {
   "cell_type": "code",
   "execution_count": 31,
   "metadata": {},
   "outputs": [],
   "source": [
    "# Debug blocker output\n",
    "dbg = em.debug_blocker(C1, A, B, output_size=200)"
   ]
  },
  {
   "cell_type": "code",
   "execution_count": 32,
   "metadata": {},
   "outputs": [
    {
     "data": {
      "text/html": [
       "<div>\n",
       "<style>\n",
       "    .dataframe thead tr:only-child th {\n",
       "        text-align: right;\n",
       "    }\n",
       "\n",
       "    .dataframe thead th {\n",
       "        text-align: left;\n",
       "    }\n",
       "\n",
       "    .dataframe tbody tr th {\n",
       "        vertical-align: top;\n",
       "    }\n",
       "</style>\n",
       "<table border=\"1\" class=\"dataframe\">\n",
       "  <thead>\n",
       "    <tr style=\"text-align: right;\">\n",
       "      <th></th>\n",
       "      <th>_id</th>\n",
       "      <th>ltable_ID</th>\n",
       "      <th>rtable_ID</th>\n",
       "      <th>ltable_Name</th>\n",
       "      <th>ltable_Author</th>\n",
       "      <th>ltable_Publisher</th>\n",
       "      <th>ltable_Publishing_Date</th>\n",
       "      <th>ltable_Format</th>\n",
       "      <th>rtable_Name</th>\n",
       "      <th>rtable_Author</th>\n",
       "      <th>rtable_Publisher</th>\n",
       "      <th>rtable_Publishing_Date</th>\n",
       "      <th>rtable_Format</th>\n",
       "    </tr>\n",
       "  </thead>\n",
       "  <tbody>\n",
       "    <tr>\n",
       "      <th>0</th>\n",
       "      <td>0</td>\n",
       "      <td>457</td>\n",
       "      <td>285</td>\n",
       "      <td>Final Fantasy X-X2 HD Remaster Official Strategy Guide</td>\n",
       "      <td>BradyGames</td>\n",
       "      <td>BRADY GAMES</td>\n",
       "      <td>2014-3-18</td>\n",
       "      <td>Hardcover</td>\n",
       "      <td>Final Fantasy VII: Official Strategy Guide</td>\n",
       "      <td>David Cassady</td>\n",
       "      <td>Bradygames</td>\n",
       "      <td>1998-06-12</td>\n",
       "      <td>Paperback</td>\n",
       "    </tr>\n",
       "    <tr>\n",
       "      <th>1</th>\n",
       "      <td>1</td>\n",
       "      <td>457</td>\n",
       "      <td>2719</td>\n",
       "      <td>Final Fantasy X-X2 HD Remaster Official Strategy Guide</td>\n",
       "      <td>BradyGames</td>\n",
       "      <td>BRADY GAMES</td>\n",
       "      <td>2014-3-18</td>\n",
       "      <td>Hardcover</td>\n",
       "      <td>FINAL FANTASY X Official Strategy Guide</td>\n",
       "      <td>Dan Birlew</td>\n",
       "      <td>BradyGames</td>\n",
       "      <td>2001-12-17</td>\n",
       "      <td>Paperback</td>\n",
       "    </tr>\n",
       "    <tr>\n",
       "      <th>2</th>\n",
       "      <td>2</td>\n",
       "      <td>457</td>\n",
       "      <td>2378</td>\n",
       "      <td>Final Fantasy X-X2 HD Remaster Official Strategy Guide</td>\n",
       "      <td>BradyGames</td>\n",
       "      <td>BRADY GAMES</td>\n",
       "      <td>2014-3-18</td>\n",
       "      <td>Hardcover</td>\n",
       "      <td>Final Fantasy VIII Official Strategy Guide</td>\n",
       "      <td>David Cassady</td>\n",
       "      <td>BradyGames</td>\n",
       "      <td>1999-08-31</td>\n",
       "      <td>Paperback</td>\n",
       "    </tr>\n",
       "  </tbody>\n",
       "</table>\n",
       "</div>"
      ],
      "text/plain": [
       "   _id  ltable_ID  rtable_ID  \\\n",
       "0    0        457        285   \n",
       "1    1        457       2719   \n",
       "2    2        457       2378   \n",
       "\n",
       "                                              ltable_Name ltable_Author  \\\n",
       "0  Final Fantasy X-X2 HD Remaster Official Strategy Guide    BradyGames   \n",
       "1  Final Fantasy X-X2 HD Remaster Official Strategy Guide    BradyGames   \n",
       "2  Final Fantasy X-X2 HD Remaster Official Strategy Guide    BradyGames   \n",
       "\n",
       "  ltable_Publisher ltable_Publishing_Date ltable_Format  \\\n",
       "0      BRADY GAMES              2014-3-18     Hardcover   \n",
       "1      BRADY GAMES              2014-3-18     Hardcover   \n",
       "2      BRADY GAMES              2014-3-18     Hardcover   \n",
       "\n",
       "                                  rtable_Name  rtable_Author rtable_Publisher  \\\n",
       "0  Final Fantasy VII: Official Strategy Guide  David Cassady       Bradygames   \n",
       "1     FINAL FANTASY X Official Strategy Guide     Dan Birlew       BradyGames   \n",
       "2  Final Fantasy VIII Official Strategy Guide  David Cassady       BradyGames   \n",
       "\n",
       "  rtable_Publishing_Date rtable_Format  \n",
       "0             1998-06-12     Paperback  \n",
       "1             2001-12-17     Paperback  \n",
       "2             1999-08-31     Paperback  "
      ]
     },
     "execution_count": 32,
     "metadata": {},
     "output_type": "execute_result"
    }
   ],
   "source": [
    "dbg.head(3)"
   ]
  },
  {
   "cell_type": "markdown",
   "metadata": {},
   "source": [
    "We can see here that we already have some matches. Since the number of matches has dropped to just 1092 from 10164387, we decided to stop debugging the blocking step and proceed with training a matcher."
   ]
  },
  {
   "cell_type": "code",
   "execution_count": 33,
   "metadata": {},
   "outputs": [],
   "source": [
    "# Saving the tuples which survived the blocking step\n",
    "C1.to_csv(\"TuplesAfterBlocking.csv\", encoding='utf-8', index=False)"
   ]
  },
  {
   "cell_type": "markdown",
   "metadata": {},
   "source": [
    "## Labeling the candidate set\n",
    "We labeled the tuples from the previous step as a match or not. 1 indicates a match and 0 indicates a non match. We did not use the <i>label_table</i> function."
   ]
  },
  {
   "cell_type": "markdown",
   "metadata": {},
   "source": [
    "We sample 500 tuple pairs for labeling, from the 1092 obtained after blocking."
   ]
  },
  {
   "cell_type": "code",
   "execution_count": 34,
   "metadata": {},
   "outputs": [],
   "source": [
    "# Sample 500 tuples for labeling\n",
    "S = em.sample_table(C1, 500)\n",
    "\n",
    "# Save this for labeling\n",
    "S.to_csv('TuplesForLabeling.csv', encoding='utf-8', index=False)"
   ]
  },
  {
   "cell_type": "markdown",
   "metadata": {},
   "source": [
    "Labeling 1092 tuples took roughly 45 minutes."
   ]
  },
  {
   "cell_type": "code",
   "execution_count": 35,
   "metadata": {
    "scrolled": true
   },
   "outputs": [
    {
     "name": "stderr",
     "output_type": "stream",
     "text": [
      "WARNING:py_entitymatching.io.parsers:Metadata file is not present in the given path; proceeding to read the csv file.\n"
     ]
    }
   ],
   "source": [
    "# Load the golden data\n",
    "S = em.read_csv_metadata('TuplesForLabeling_cleaned.csv', key='_id', ltable=A, rtable=B, \n",
    "                         fk_ltable='ltable_ID', fk_rtable='rtable_ID')"
   ]
  },
  {
   "cell_type": "markdown",
   "metadata": {},
   "source": [
    "Samples from the golden data; The last column **match** indicates the labels we've added."
   ]
  },
  {
   "cell_type": "code",
   "execution_count": 36,
   "metadata": {},
   "outputs": [
    {
     "data": {
      "text/html": [
       "<div>\n",
       "<style>\n",
       "    .dataframe thead tr:only-child th {\n",
       "        text-align: right;\n",
       "    }\n",
       "\n",
       "    .dataframe thead th {\n",
       "        text-align: left;\n",
       "    }\n",
       "\n",
       "    .dataframe tbody tr th {\n",
       "        vertical-align: top;\n",
       "    }\n",
       "</style>\n",
       "<table border=\"1\" class=\"dataframe\">\n",
       "  <thead>\n",
       "    <tr style=\"text-align: right;\">\n",
       "      <th></th>\n",
       "      <th>_id</th>\n",
       "      <th>ltable_ID</th>\n",
       "      <th>rtable_ID</th>\n",
       "      <th>ltable_Name</th>\n",
       "      <th>ltable_Author</th>\n",
       "      <th>ltable_Publisher</th>\n",
       "      <th>ltable_Format</th>\n",
       "      <th>ltable_Pages</th>\n",
       "      <th>ltable_Rating</th>\n",
       "      <th>rtable_Name</th>\n",
       "      <th>rtable_Author</th>\n",
       "      <th>rtable_Publisher</th>\n",
       "      <th>rtable_Format</th>\n",
       "      <th>rtable_Pages</th>\n",
       "      <th>rtable_Rating</th>\n",
       "      <th>match</th>\n",
       "    </tr>\n",
       "  </thead>\n",
       "  <tbody>\n",
       "    <tr>\n",
       "      <th>0</th>\n",
       "      <td>51</td>\n",
       "      <td>5</td>\n",
       "      <td>478</td>\n",
       "      <td>The Fantasy Baseball Black Book 2018 (Fantasy Black Book)</td>\n",
       "      <td>Joe Pisapia</td>\n",
       "      <td>Independently published</td>\n",
       "      <td>Kindle</td>\n",
       "      <td>157.0</td>\n",
       "      <td>4.6</td>\n",
       "      <td>The Fantasy Baseball Black Book 2017 Edition (Fantasy Black Book 10)</td>\n",
       "      <td>Joe Pisapia</td>\n",
       "      <td>NaN</td>\n",
       "      <td>Kindle Edition</td>\n",
       "      <td>182.0</td>\n",
       "      <td>3.88</td>\n",
       "      <td>0</td>\n",
       "    </tr>\n",
       "    <tr>\n",
       "      <th>1</th>\n",
       "      <td>378</td>\n",
       "      <td>13</td>\n",
       "      <td>2888</td>\n",
       "      <td>Grimgar of Fantasy and Ash (Light Novel) Vol. 1</td>\n",
       "      <td>Ao Jyumonji</td>\n",
       "      <td>Seven Seas</td>\n",
       "      <td>Paperback</td>\n",
       "      <td>280.0</td>\n",
       "      <td>4.3</td>\n",
       "      <td>Grimgar of Fantasy and Ash, Vol. 1</td>\n",
       "      <td>Ao Jyumonji</td>\n",
       "      <td>Yen Press</td>\n",
       "      <td>Paperback</td>\n",
       "      <td>224.0</td>\n",
       "      <td>3.43</td>\n",
       "      <td>1</td>\n",
       "    </tr>\n",
       "    <tr>\n",
       "      <th>2</th>\n",
       "      <td>309</td>\n",
       "      <td>13</td>\n",
       "      <td>2615</td>\n",
       "      <td>Grimgar of Fantasy and Ash (Light Novel) Vol. 1</td>\n",
       "      <td>Ao Jyumonji</td>\n",
       "      <td>Seven Seas</td>\n",
       "      <td>Paperback</td>\n",
       "      <td>280.0</td>\n",
       "      <td>4.3</td>\n",
       "      <td>Grimgar of Fantasy and Ash: Volume 3</td>\n",
       "      <td>Ao Jyumonji</td>\n",
       "      <td>J-Novel Club</td>\n",
       "      <td>Kindle Edition</td>\n",
       "      <td>280.0</td>\n",
       "      <td>4.26</td>\n",
       "      <td>0</td>\n",
       "    </tr>\n",
       "  </tbody>\n",
       "</table>\n",
       "</div>"
      ],
      "text/plain": [
       "   _id  ltable_ID  rtable_ID  \\\n",
       "0   51          5        478   \n",
       "1  378         13       2888   \n",
       "2  309         13       2615   \n",
       "\n",
       "                                                 ltable_Name ltable_Author  \\\n",
       "0  The Fantasy Baseball Black Book 2018 (Fantasy Black Book)   Joe Pisapia   \n",
       "1            Grimgar of Fantasy and Ash (Light Novel) Vol. 1   Ao Jyumonji   \n",
       "2            Grimgar of Fantasy and Ash (Light Novel) Vol. 1   Ao Jyumonji   \n",
       "\n",
       "          ltable_Publisher ltable_Format  ltable_Pages  ltable_Rating  \\\n",
       "0  Independently published        Kindle         157.0            4.6   \n",
       "1               Seven Seas     Paperback         280.0            4.3   \n",
       "2               Seven Seas     Paperback         280.0            4.3   \n",
       "\n",
       "                                                            rtable_Name  \\\n",
       "0  The Fantasy Baseball Black Book 2017 Edition (Fantasy Black Book 10)   \n",
       "1                                    Grimgar of Fantasy and Ash, Vol. 1   \n",
       "2                                  Grimgar of Fantasy and Ash: Volume 3   \n",
       "\n",
       "  rtable_Author rtable_Publisher   rtable_Format  rtable_Pages  rtable_Rating  \\\n",
       "0   Joe Pisapia              NaN  Kindle Edition         182.0           3.88   \n",
       "1   Ao Jyumonji        Yen Press       Paperback         224.0           3.43   \n",
       "2   Ao Jyumonji     J-Novel Club  Kindle Edition         280.0           4.26   \n",
       "\n",
       "   match  \n",
       "0      0  \n",
       "1      1  \n",
       "2      0  "
      ]
     },
     "execution_count": 36,
     "metadata": {},
     "output_type": "execute_result"
    }
   ],
   "source": [
    "S.head(3)"
   ]
  },
  {
   "cell_type": "markdown",
   "metadata": {},
   "source": [
    "## Splitting the labeled data into development and evaluation set\n",
    "In this step, we split the labeled data into two sets: development (I) and evaluation (J). Specifically, the development set is used to come up with the best learning-based matcher and the evaluation set used to evaluate the selected matcher on unseen data."
   ]
  },
  {
   "cell_type": "code",
   "execution_count": 37,
   "metadata": {},
   "outputs": [],
   "source": [
    "# Split S into development set (I) and evaluation set (J)\n",
    "IJ = em.split_train_test(S, train_proportion=0.7, random_state=42)\n",
    "I = IJ['train']\n",
    "J = IJ['test']"
   ]
  },
  {
   "cell_type": "code",
   "execution_count": 38,
   "metadata": {},
   "outputs": [
    {
     "data": {
      "text/plain": [
       "(350, 150)"
      ]
     },
     "execution_count": 38,
     "metadata": {},
     "output_type": "execute_result"
    }
   ],
   "source": [
    "len(I), len(J)"
   ]
  },
  {
   "cell_type": "code",
   "execution_count": 39,
   "metadata": {},
   "outputs": [
    {
     "data": {
      "text/html": [
       "<div>\n",
       "<style>\n",
       "    .dataframe thead tr:only-child th {\n",
       "        text-align: right;\n",
       "    }\n",
       "\n",
       "    .dataframe thead th {\n",
       "        text-align: left;\n",
       "    }\n",
       "\n",
       "    .dataframe tbody tr th {\n",
       "        vertical-align: top;\n",
       "    }\n",
       "</style>\n",
       "<table border=\"1\" class=\"dataframe\">\n",
       "  <thead>\n",
       "    <tr style=\"text-align: right;\">\n",
       "      <th></th>\n",
       "      <th>_id</th>\n",
       "      <th>ltable_ID</th>\n",
       "      <th>rtable_ID</th>\n",
       "      <th>ltable_Name</th>\n",
       "      <th>ltable_Author</th>\n",
       "      <th>ltable_Publisher</th>\n",
       "      <th>ltable_Format</th>\n",
       "      <th>ltable_Pages</th>\n",
       "      <th>ltable_Rating</th>\n",
       "      <th>rtable_Name</th>\n",
       "      <th>rtable_Author</th>\n",
       "      <th>rtable_Publisher</th>\n",
       "      <th>rtable_Format</th>\n",
       "      <th>rtable_Pages</th>\n",
       "      <th>rtable_Rating</th>\n",
       "      <th>match</th>\n",
       "    </tr>\n",
       "  </thead>\n",
       "  <tbody>\n",
       "    <tr>\n",
       "      <th>361</th>\n",
       "      <td>334</td>\n",
       "      <td>497</td>\n",
       "      <td>2681</td>\n",
       "      <td>Final Fantasy Type-0 Side Story, Vol. 1: The Ice Reaper (Final Fantasy 0-Type)</td>\n",
       "      <td>Tetsuya Nomura</td>\n",
       "      <td>Yen Press</td>\n",
       "      <td>Paperback</td>\n",
       "      <td>176.0</td>\n",
       "      <td>5.0</td>\n",
       "      <td>Final Fantasy Type-0 Side Story, Vol. 1: The Ice Reaper</td>\n",
       "      <td>Tetsuya Nomura</td>\n",
       "      <td>Yen Press</td>\n",
       "      <td>Paperback</td>\n",
       "      <td>176.0</td>\n",
       "      <td>3.96</td>\n",
       "      <td>1</td>\n",
       "    </tr>\n",
       "    <tr>\n",
       "      <th>73</th>\n",
       "      <td>530</td>\n",
       "      <td>386</td>\n",
       "      <td>400</td>\n",
       "      <td>The Fantasy Benefit: The 2018 Fantasy Baseball Draft Guide</td>\n",
       "      <td>NaN</td>\n",
       "      <td>Independently published</td>\n",
       "      <td>Kindle</td>\n",
       "      <td>361.0</td>\n",
       "      <td>4.9</td>\n",
       "      <td>Dare: Sensual Tales of Fantasy &amp; Suspense</td>\n",
       "      <td>Jenny Schwartz</td>\n",
       "      <td>Jenny Schwartz</td>\n",
       "      <td>Kindle Edition</td>\n",
       "      <td>300.0</td>\n",
       "      <td>3.88</td>\n",
       "      <td>0</td>\n",
       "    </tr>\n",
       "  </tbody>\n",
       "</table>\n",
       "</div>"
      ],
      "text/plain": [
       "     _id  ltable_ID  rtable_ID  \\\n",
       "361  334        497       2681   \n",
       "73   530        386        400   \n",
       "\n",
       "                                                                        ltable_Name  \\\n",
       "361  Final Fantasy Type-0 Side Story, Vol. 1: The Ice Reaper (Final Fantasy 0-Type)   \n",
       "73                       The Fantasy Benefit: The 2018 Fantasy Baseball Draft Guide   \n",
       "\n",
       "      ltable_Author         ltable_Publisher ltable_Format  ltable_Pages  \\\n",
       "361  Tetsuya Nomura                Yen Press     Paperback         176.0   \n",
       "73              NaN  Independently published        Kindle         361.0   \n",
       "\n",
       "     ltable_Rating                                              rtable_Name  \\\n",
       "361            5.0  Final Fantasy Type-0 Side Story, Vol. 1: The Ice Reaper   \n",
       "73             4.9                Dare: Sensual Tales of Fantasy & Suspense   \n",
       "\n",
       "      rtable_Author rtable_Publisher   rtable_Format  rtable_Pages  \\\n",
       "361  Tetsuya Nomura        Yen Press       Paperback         176.0   \n",
       "73   Jenny Schwartz   Jenny Schwartz  Kindle Edition         300.0   \n",
       "\n",
       "     rtable_Rating  match  \n",
       "361           3.96      1  \n",
       "73            3.88      0  "
      ]
     },
     "execution_count": 39,
     "metadata": {},
     "output_type": "execute_result"
    }
   ],
   "source": [
    "J.head(2)"
   ]
  },
  {
   "cell_type": "markdown",
   "metadata": {},
   "source": [
    "### Save Set I and Set J"
   ]
  },
  {
   "cell_type": "code",
   "execution_count": 40,
   "metadata": {},
   "outputs": [],
   "source": [
    "I.to_csv(\"SetI.csv\", encoding='utf-8', index=False)\n",
    "J.to_csv(\"SetJ.csv\", encoding='utf-8', index=False)"
   ]
  },
  {
   "cell_type": "markdown",
   "metadata": {},
   "source": [
    "## Selecting the best learning-based matcher\n",
    "Selecting the best learning-based matcher typically involves the following steps:\n",
    "\n",
    "1. Creating a set of learning-based matchers\n",
    "2. Creating features\n",
    "3. Converting the development set into feature vectors\n",
    "4. Selecting the best learning-based matcher using k-fold cross validation"
   ]
  },
  {
   "cell_type": "markdown",
   "metadata": {},
   "source": [
    "### Creating a set of learning-based matchers"
   ]
  },
  {
   "cell_type": "markdown",
   "metadata": {},
   "source": [
    "Here, we tuned the hyperparameters a bit so that they are more relavent to our scenario."
   ]
  },
  {
   "cell_type": "code",
   "execution_count": 41,
   "metadata": {},
   "outputs": [],
   "source": [
    "# Create a set of ML-matchers\n",
    "dt = em.DTMatcher(name='DecisionTree', random_state=0, criterion='gini', class_weight='balanced')\n",
    "svm = em.SVMMatcher(name='SVM', kernel='linear', random_state=0)\n",
    "rf = em.RFMatcher(name='RF', n_estimators=50, criterion='gini', class_weight='balanced', random_state=0)\n",
    "lg = em.LogRegMatcher(name='LogReg', penalty='l2', class_weight='balanced', random_state=0)\n",
    "ln = em.LinRegMatcher(name='LinReg')\n",
    "nb = em.NBMatcher(name='NaiveBayes')"
   ]
  },
  {
   "cell_type": "markdown",
   "metadata": {},
   "source": [
    "### Creating features\n",
    "Here we use the automatically generated features"
   ]
  },
  {
   "cell_type": "code",
   "execution_count": 42,
   "metadata": {},
   "outputs": [],
   "source": [
    "# Generate features\n",
    "feature_table = em.get_features_for_matching(A, B, validate_inferred_attr_types=False)"
   ]
  },
  {
   "cell_type": "code",
   "execution_count": 43,
   "metadata": {},
   "outputs": [
    {
     "data": {
      "text/plain": [
       "0                                           ID_ID_exm\n",
       "1                                           ID_ID_anm\n",
       "2                                      ID_ID_lev_dist\n",
       "3                                       ID_ID_lev_sim\n",
       "4                           Name_Name_jac_qgm_3_qgm_3\n",
       "5                       Name_Name_cos_dlm_dc0_dlm_dc0\n",
       "6                                       Name_Name_mel\n",
       "7                                  Name_Name_lev_dist\n",
       "8                                   Name_Name_lev_sim\n",
       "9                       Author_Author_jac_qgm_3_qgm_3\n",
       "10                  Author_Author_cos_dlm_dc0_dlm_dc0\n",
       "11                  Author_Author_jac_dlm_dc0_dlm_dc0\n",
       "12                                  Author_Author_mel\n",
       "13                             Author_Author_lev_dist\n",
       "14                              Author_Author_lev_sim\n",
       "15                                  Author_Author_nmw\n",
       "16                                   Author_Author_sw\n",
       "17                Publisher_Publisher_jac_qgm_3_qgm_3\n",
       "18            Publisher_Publisher_cos_dlm_dc0_dlm_dc0\n",
       "19            Publisher_Publisher_jac_dlm_dc0_dlm_dc0\n",
       "20                            Publisher_Publisher_mel\n",
       "21                       Publisher_Publisher_lev_dist\n",
       "22                        Publisher_Publisher_lev_sim\n",
       "23                            Publisher_Publisher_nmw\n",
       "24                             Publisher_Publisher_sw\n",
       "25           Publishing_Date_Publishing_Date_lev_dist\n",
       "26            Publishing_Date_Publishing_Date_lev_sim\n",
       "27                Publishing_Date_Publishing_Date_jar\n",
       "28                Publishing_Date_Publishing_Date_jwn\n",
       "29                Publishing_Date_Publishing_Date_exm\n",
       "30    Publishing_Date_Publishing_Date_jac_qgm_3_qgm_3\n",
       "31                                    Pages_Pages_exm\n",
       "32                                    Pages_Pages_anm\n",
       "33                               Pages_Pages_lev_dist\n",
       "34                                Pages_Pages_lev_sim\n",
       "35                                  Rating_Rating_exm\n",
       "36                                  Rating_Rating_anm\n",
       "37                             Rating_Rating_lev_dist\n",
       "38                              Rating_Rating_lev_sim\n",
       "Name: feature_name, dtype: object"
      ]
     },
     "execution_count": 43,
     "metadata": {},
     "output_type": "execute_result"
    }
   ],
   "source": [
    "# List the names of the features generated\n",
    "feature_table['feature_name']"
   ]
  },
  {
   "cell_type": "markdown",
   "metadata": {},
   "source": [
    "### Dropping Features"
   ]
  },
  {
   "cell_type": "markdown",
   "metadata": {},
   "source": [
    "We remove a few features from the generated set of features. The reasoning is as follows:\n",
    "\n",
    "Consider the **Publisher** attribute. While labeling the true matches, we marked a tuple pair as a true match even if the publishers did not match. The same book is usually sold in different countries under different publishers and hence though the publishers might differ, the book still refers to the same real world object. Hence we do not consider the **Publisher** attribute as a feature, as they might differ for a match. The same reasoning is extended to **Pages** and **Rating** attributes as well."
   ]
  },
  {
   "cell_type": "code",
   "execution_count": 44,
   "metadata": {},
   "outputs": [],
   "source": [
    "# Drop publishing date, rating related features\n",
    "feature_table = feature_table.drop([0,1,2,3,17,18,19,20,21,22,23,24,25,30,34,35,36,37,38])"
   ]
  },
  {
   "cell_type": "markdown",
   "metadata": {},
   "source": [
    "### Converting the development set to feature vectors"
   ]
  },
  {
   "cell_type": "code",
   "execution_count": 45,
   "metadata": {},
   "outputs": [],
   "source": [
    "# Convert the I into a set of feature vectors using F\n",
    "H = em.extract_feature_vecs(I, \n",
    "                            feature_table=feature_table, \n",
    "                            attrs_after='match',\n",
    "                            show_progress=False)"
   ]
  },
  {
   "cell_type": "markdown",
   "metadata": {},
   "source": [
    "#### Check for missing values"
   ]
  },
  {
   "cell_type": "code",
   "execution_count": 46,
   "metadata": {},
   "outputs": [
    {
     "data": {
      "text/plain": [
       "_id                                          0\n",
       "ltable_ID                                    0\n",
       "rtable_ID                                    0\n",
       "Name_Name_jac_qgm_3_qgm_3                    0\n",
       "Name_Name_cos_dlm_dc0_dlm_dc0                0\n",
       "Name_Name_mel                                0\n",
       "Name_Name_lev_dist                           0\n",
       "Name_Name_lev_sim                            0\n",
       "Author_Author_jac_qgm_3_qgm_3              234\n",
       "Author_Author_cos_dlm_dc0_dlm_dc0          234\n",
       "Author_Author_jac_dlm_dc0_dlm_dc0          234\n",
       "Author_Author_mel                          234\n",
       "Author_Author_lev_dist                     234\n",
       "Author_Author_lev_sim                      234\n",
       "Author_Author_nmw                          234\n",
       "Author_Author_sw                           234\n",
       "Publishing_Date_Publishing_Date_lev_sim     36\n",
       "Publishing_Date_Publishing_Date_jar         36\n",
       "Publishing_Date_Publishing_Date_jwn         36\n",
       "Publishing_Date_Publishing_Date_exm         36\n",
       "Pages_Pages_exm                             49\n",
       "Pages_Pages_anm                             49\n",
       "Pages_Pages_lev_dist                        49\n",
       "match                                        0\n",
       "dtype: int64"
      ]
     },
     "execution_count": 46,
     "metadata": {},
     "output_type": "execute_result"
    }
   ],
   "source": [
    "H.isnull().sum()"
   ]
  },
  {
   "cell_type": "markdown",
   "metadata": {},
   "source": [
    "#### Impute missing values with mean"
   ]
  },
  {
   "cell_type": "code",
   "execution_count": 47,
   "metadata": {},
   "outputs": [],
   "source": [
    "H = em.impute_table(H, \n",
    "                exclude_attrs=['_id', 'ltable_ID', 'rtable_ID', 'match'],\n",
    "                strategy='mean')"
   ]
  },
  {
   "cell_type": "markdown",
   "metadata": {},
   "source": [
    "### Selecting the best matcher using cross-validation\n",
    "Now, we select the best matcher using k-fold cross-validation. We use five fold cross validation and use 'precision' and 'recall' metric to select the best matcher."
   ]
  },
  {
   "cell_type": "code",
   "execution_count": 48,
   "metadata": {},
   "outputs": [
    {
     "name": "stdout",
     "output_type": "stream",
     "text": [
      "8.658762999999453\n"
     ]
    }
   ],
   "source": [
    "# Select the best ML matcher using CV\n",
    "start = timer()\n",
    "result = em.select_matcher([dt, rf, svm, ln, lg, nb], table=H, \n",
    "        exclude_attrs=['_id', 'ltable_ID', 'rtable_ID', 'match'],\n",
    "        k=5,\n",
    "        target_attr='match', metric_to_select_matcher='f1', random_state=42)\n",
    "end = timer()\n",
    "print(end-start)"
   ]
  },
  {
   "cell_type": "code",
   "execution_count": 49,
   "metadata": {},
   "outputs": [
    {
     "name": "stdout",
     "output_type": "stream",
     "text": [
      "        Matcher  Average precision  Average recall  Average f1\n",
      "0  DecisionTree           0.592857        0.590476    0.564267\n",
      "1            RF           0.966667        0.612381    0.707459\n",
      "2           SVM           0.852381        0.590476    0.637121\n",
      "3        LinReg           0.893333        0.566667    0.675556\n",
      "4        LogReg           0.595311        0.886667    0.690131\n",
      "5    NaiveBayes           0.609286        0.824762    0.691784\n"
     ]
    }
   ],
   "source": [
    "print(result['cv_stats'])"
   ]
  },
  {
   "cell_type": "code",
   "execution_count": 50,
   "metadata": {},
   "outputs": [
    {
     "name": "stdout",
     "output_type": "stream",
     "text": [
      "           Name  \\\n",
      "0  DecisionTree   \n",
      "1            RF   \n",
      "2           SVM   \n",
      "3        LinReg   \n",
      "4        LogReg   \n",
      "5    NaiveBayes   \n",
      "\n",
      "                                                                            Matcher  \\\n",
      "0          <py_entitymatching.matcher.dtmatcher.DTMatcher object at 0x7fd99d96ad68>   \n",
      "1          <py_entitymatching.matcher.rfmatcher.RFMatcher object at 0x7fd99d96acf8>   \n",
      "2        <py_entitymatching.matcher.svmmatcher.SVMMatcher object at 0x7fd99d96ab00>   \n",
      "3  <py_entitymatching.matcher.linregmatcher.LinRegMatcher object at 0x7fd99d96a9e8>   \n",
      "4  <py_entitymatching.matcher.logregmatcher.LogRegMatcher object at 0x7fd99d96a5c0>   \n",
      "5          <py_entitymatching.matcher.nbmatcher.NBMatcher object at 0x7fd9ec37ff28>   \n",
      "\n",
      "   Num folds    Fold 1    Fold 2    Fold 3    Fold 4    Fold 5  Mean score  \n",
      "0          5  0.666667  0.714286  0.625000  0.615385  0.200000    0.564267  \n",
      "1          5  0.909091  0.833333  0.461538  0.833333  0.500000    0.707459  \n",
      "2          5  0.833333  0.714286  0.625000  0.727273  0.285714    0.637121  \n",
      "3          5  1.000000  0.600000  0.666667  0.666667  0.444444    0.675556  \n",
      "4          5  0.526316  0.823529  0.631579  0.700000  0.769231    0.690131  \n",
      "5          5  0.769231  0.736842  0.631579  0.705882  0.615385    0.691784  \n"
     ]
    }
   ],
   "source": [
    "print(result['drill_down_cv_stats']['f1'])"
   ]
  },
  {
   "cell_type": "markdown",
   "metadata": {},
   "source": [
    "#### As seen here, the random forest classifier has a precision of over 90% (96.66%) and has a recall of 61.23%. It also has the highest F1 score. Hence we do not debug further and proceed to use the random forest classifier on the test set."
   ]
  },
  {
   "cell_type": "markdown",
   "metadata": {},
   "source": [
    "## Evaluating the matching output\n",
    "Evaluating the matching outputs for the evaluation set typically involves the following four steps:\n",
    "\n",
    "1. Converting the evaluation set to feature vectors\n",
    "2. Training matcher using the feature vectors extracted from the development set\n",
    "3. Predicting the evaluation set using the trained matcher\n",
    "4. Evaluating the predicted matches"
   ]
  },
  {
   "cell_type": "markdown",
   "metadata": {},
   "source": [
    "### Converting the evaluation set to feature vectors\n",
    "As before, we convert to the feature vectors (using the feature table and the evaluation set)"
   ]
  },
  {
   "cell_type": "code",
   "execution_count": 51,
   "metadata": {
    "scrolled": true
   },
   "outputs": [],
   "source": [
    "# Testing\n",
    "# Convert combined into a set of feature vectors using F\n",
    "L = em.extract_feature_vecs(J, feature_table=feature_table,\n",
    "                            attrs_after='match', show_progress=False)"
   ]
  },
  {
   "cell_type": "markdown",
   "metadata": {},
   "source": [
    "### Impute the missing values in the test set"
   ]
  },
  {
   "cell_type": "code",
   "execution_count": 52,
   "metadata": {},
   "outputs": [],
   "source": [
    "# Impute missing values\n",
    "L = em.impute_table(L, \n",
    "                exclude_attrs=['_id', 'ltable_ID', 'rtable_ID'],\n",
    "                strategy='mean')"
   ]
  },
  {
   "cell_type": "markdown",
   "metadata": {},
   "source": [
    "### Training the selected matcher\n",
    "Now, we train the matcher using all of the feature vectors from the development set. Here, we use random forest as the selected matcher."
   ]
  },
  {
   "cell_type": "code",
   "execution_count": 53,
   "metadata": {},
   "outputs": [],
   "source": [
    "# Train using feature vectors from I \n",
    "rf.fit(table=L, \n",
    "       exclude_attrs=['_id', 'ltable_ID', 'rtable_ID', 'match'], \n",
    "       target_attr='match')"
   ]
  },
  {
   "cell_type": "markdown",
   "metadata": {},
   "source": [
    "### Predicting the matches\n",
    "Next, we predict the matches for the evaluation set (using the feature vectors extracted from it)."
   ]
  },
  {
   "cell_type": "code",
   "execution_count": 54,
   "metadata": {},
   "outputs": [],
   "source": [
    "# Predict on L \n",
    "predictions = rf.predict(table=L, exclude_attrs=['_id', 'ltable_ID', 'rtable_ID', 'match'], \n",
    "              append=True, target_attr='predicted', inplace=False)"
   ]
  },
  {
   "cell_type": "markdown",
   "metadata": {},
   "source": [
    "### Evaluating the predictions\n",
    "Finally, we evaluate the accuracy of predicted outputs"
   ]
  },
  {
   "cell_type": "code",
   "execution_count": 55,
   "metadata": {},
   "outputs": [
    {
     "name": "stdout",
     "output_type": "stream",
     "text": [
      "Precision : 100.0% (12/12)\n",
      "Recall : 100.0% (12/12)\n",
      "F1 : 100.0%\n",
      "False positives : 0 (out of 12 positive predictions)\n",
      "False negatives : 0 (out of 138 negative predictions)\n"
     ]
    }
   ],
   "source": [
    "# Evaluate the predictions\n",
    "eval_result = em.eval_matches(predictions, 'match', 'predicted')\n",
    "em.print_eval_summary(eval_result)"
   ]
  },
  {
   "cell_type": "markdown",
   "metadata": {},
   "source": [
    "## Run on the entire dataset\n",
    "Here we will run the matcher on the dataframe obtained after blocking."
   ]
  },
  {
   "cell_type": "code",
   "execution_count": 56,
   "metadata": {},
   "outputs": [],
   "source": [
    "# Testing\n",
    "# Convert combined into a set of feature vectors using F\n",
    "L = em.extract_feature_vecs(C1, feature_table=feature_table,show_progress=False)"
   ]
  },
  {
   "cell_type": "code",
   "execution_count": 57,
   "metadata": {},
   "outputs": [],
   "source": [
    "# Impute missing values\n",
    "L = em.impute_table(L, \n",
    "                exclude_attrs=['_id', 'ltable_ID', 'rtable_ID'],\n",
    "                strategy='mean')"
   ]
  },
  {
   "cell_type": "code",
   "execution_count": 58,
   "metadata": {},
   "outputs": [],
   "source": [
    "# Predict on L \n",
    "predictions = rf.predict(table=L, exclude_attrs=['_id', 'ltable_ID', 'rtable_ID'], \n",
    "              append=True, target_attr='predicted', inplace=False)"
   ]
  },
  {
   "cell_type": "code",
   "execution_count": 59,
   "metadata": {},
   "outputs": [],
   "source": [
    "matches = predictions[predictions['predicted'] == 1.0]"
   ]
  },
  {
   "cell_type": "code",
   "execution_count": 60,
   "metadata": {},
   "outputs": [
    {
     "data": {
      "text/plain": [
       "95"
      ]
     },
     "execution_count": 60,
     "metadata": {},
     "output_type": "execute_result"
    }
   ],
   "source": [
    "len(matches)"
   ]
  },
  {
   "cell_type": "code",
   "execution_count": 61,
   "metadata": {},
   "outputs": [
    {
     "data": {
      "text/html": [
       "<div>\n",
       "<style>\n",
       "    .dataframe thead tr:only-child th {\n",
       "        text-align: right;\n",
       "    }\n",
       "\n",
       "    .dataframe thead th {\n",
       "        text-align: left;\n",
       "    }\n",
       "\n",
       "    .dataframe tbody tr th {\n",
       "        vertical-align: top;\n",
       "    }\n",
       "</style>\n",
       "<table border=\"1\" class=\"dataframe\">\n",
       "  <thead>\n",
       "    <tr style=\"text-align: right;\">\n",
       "      <th></th>\n",
       "      <th>_id</th>\n",
       "      <th>ltable_ID</th>\n",
       "      <th>rtable_ID</th>\n",
       "      <th>Name_Name_jac_qgm_3_qgm_3</th>\n",
       "      <th>Name_Name_cos_dlm_dc0_dlm_dc0</th>\n",
       "      <th>Name_Name_mel</th>\n",
       "      <th>Name_Name_lev_dist</th>\n",
       "      <th>Name_Name_lev_sim</th>\n",
       "      <th>Author_Author_jac_qgm_3_qgm_3</th>\n",
       "      <th>Author_Author_cos_dlm_dc0_dlm_dc0</th>\n",
       "      <th>...</th>\n",
       "      <th>Author_Author_nmw</th>\n",
       "      <th>Author_Author_sw</th>\n",
       "      <th>Publishing_Date_Publishing_Date_lev_sim</th>\n",
       "      <th>Publishing_Date_Publishing_Date_jar</th>\n",
       "      <th>Publishing_Date_Publishing_Date_jwn</th>\n",
       "      <th>Publishing_Date_Publishing_Date_exm</th>\n",
       "      <th>Pages_Pages_exm</th>\n",
       "      <th>Pages_Pages_anm</th>\n",
       "      <th>Pages_Pages_lev_dist</th>\n",
       "      <th>predicted</th>\n",
       "    </tr>\n",
       "  </thead>\n",
       "  <tbody>\n",
       "    <tr>\n",
       "      <th>16</th>\n",
       "      <td>2</td>\n",
       "      <td>31</td>\n",
       "      <td>26</td>\n",
       "      <td>0.394737</td>\n",
       "      <td>0.707107</td>\n",
       "      <td>0.888235</td>\n",
       "      <td>19.0</td>\n",
       "      <td>0.441176</td>\n",
       "      <td>1.0</td>\n",
       "      <td>1.0</td>\n",
       "      <td>...</td>\n",
       "      <td>12.0</td>\n",
       "      <td>12.0</td>\n",
       "      <td>1.0</td>\n",
       "      <td>1.000000</td>\n",
       "      <td>1.000000</td>\n",
       "      <td>1.0</td>\n",
       "      <td>1.0</td>\n",
       "      <td>1.000000</td>\n",
       "      <td>0.0</td>\n",
       "      <td>1.0</td>\n",
       "    </tr>\n",
       "    <tr>\n",
       "      <th>46</th>\n",
       "      <td>4</td>\n",
       "      <td>620</td>\n",
       "      <td>94</td>\n",
       "      <td>0.816901</td>\n",
       "      <td>0.888889</td>\n",
       "      <td>0.963163</td>\n",
       "      <td>8.0</td>\n",
       "      <td>0.878788</td>\n",
       "      <td>1.0</td>\n",
       "      <td>1.0</td>\n",
       "      <td>...</td>\n",
       "      <td>12.0</td>\n",
       "      <td>12.0</td>\n",
       "      <td>1.0</td>\n",
       "      <td>1.000000</td>\n",
       "      <td>1.000000</td>\n",
       "      <td>1.0</td>\n",
       "      <td>0.0</td>\n",
       "      <td>0.992188</td>\n",
       "      <td>1.0</td>\n",
       "      <td>1.0</td>\n",
       "    </tr>\n",
       "    <tr>\n",
       "      <th>47</th>\n",
       "      <td>5</td>\n",
       "      <td>529</td>\n",
       "      <td>97</td>\n",
       "      <td>1.000000</td>\n",
       "      <td>1.000000</td>\n",
       "      <td>1.000000</td>\n",
       "      <td>0.0</td>\n",
       "      <td>1.000000</td>\n",
       "      <td>1.0</td>\n",
       "      <td>1.0</td>\n",
       "      <td>...</td>\n",
       "      <td>13.0</td>\n",
       "      <td>13.0</td>\n",
       "      <td>0.9</td>\n",
       "      <td>0.892593</td>\n",
       "      <td>0.935556</td>\n",
       "      <td>0.0</td>\n",
       "      <td>1.0</td>\n",
       "      <td>1.000000</td>\n",
       "      <td>0.0</td>\n",
       "      <td>1.0</td>\n",
       "    </tr>\n",
       "    <tr>\n",
       "      <th>50</th>\n",
       "      <td>6</td>\n",
       "      <td>1165</td>\n",
       "      <td>104</td>\n",
       "      <td>1.000000</td>\n",
       "      <td>1.000000</td>\n",
       "      <td>1.000000</td>\n",
       "      <td>0.0</td>\n",
       "      <td>1.000000</td>\n",
       "      <td>1.0</td>\n",
       "      <td>1.0</td>\n",
       "      <td>...</td>\n",
       "      <td>12.0</td>\n",
       "      <td>12.0</td>\n",
       "      <td>0.7</td>\n",
       "      <td>0.825926</td>\n",
       "      <td>0.895556</td>\n",
       "      <td>0.0</td>\n",
       "      <td>1.0</td>\n",
       "      <td>1.000000</td>\n",
       "      <td>0.0</td>\n",
       "      <td>1.0</td>\n",
       "    </tr>\n",
       "    <tr>\n",
       "      <th>158</th>\n",
       "      <td>20</td>\n",
       "      <td>136</td>\n",
       "      <td>281</td>\n",
       "      <td>1.000000</td>\n",
       "      <td>1.000000</td>\n",
       "      <td>1.000000</td>\n",
       "      <td>0.0</td>\n",
       "      <td>1.000000</td>\n",
       "      <td>1.0</td>\n",
       "      <td>1.0</td>\n",
       "      <td>...</td>\n",
       "      <td>15.0</td>\n",
       "      <td>15.0</td>\n",
       "      <td>1.0</td>\n",
       "      <td>1.000000</td>\n",
       "      <td>1.000000</td>\n",
       "      <td>1.0</td>\n",
       "      <td>0.0</td>\n",
       "      <td>0.992188</td>\n",
       "      <td>1.0</td>\n",
       "      <td>1.0</td>\n",
       "    </tr>\n",
       "  </tbody>\n",
       "</table>\n",
       "<p>5 rows × 24 columns</p>\n",
       "</div>"
      ],
      "text/plain": [
       "     _id  ltable_ID  rtable_ID  Name_Name_jac_qgm_3_qgm_3  \\\n",
       "16     2         31         26                   0.394737   \n",
       "46     4        620         94                   0.816901   \n",
       "47     5        529         97                   1.000000   \n",
       "50     6       1165        104                   1.000000   \n",
       "158   20        136        281                   1.000000   \n",
       "\n",
       "     Name_Name_cos_dlm_dc0_dlm_dc0  Name_Name_mel  Name_Name_lev_dist  \\\n",
       "16                        0.707107       0.888235                19.0   \n",
       "46                        0.888889       0.963163                 8.0   \n",
       "47                        1.000000       1.000000                 0.0   \n",
       "50                        1.000000       1.000000                 0.0   \n",
       "158                       1.000000       1.000000                 0.0   \n",
       "\n",
       "     Name_Name_lev_sim  Author_Author_jac_qgm_3_qgm_3  \\\n",
       "16            0.441176                            1.0   \n",
       "46            0.878788                            1.0   \n",
       "47            1.000000                            1.0   \n",
       "50            1.000000                            1.0   \n",
       "158           1.000000                            1.0   \n",
       "\n",
       "     Author_Author_cos_dlm_dc0_dlm_dc0    ...      Author_Author_nmw  \\\n",
       "16                                 1.0    ...                   12.0   \n",
       "46                                 1.0    ...                   12.0   \n",
       "47                                 1.0    ...                   13.0   \n",
       "50                                 1.0    ...                   12.0   \n",
       "158                                1.0    ...                   15.0   \n",
       "\n",
       "     Author_Author_sw  Publishing_Date_Publishing_Date_lev_sim  \\\n",
       "16               12.0                                      1.0   \n",
       "46               12.0                                      1.0   \n",
       "47               13.0                                      0.9   \n",
       "50               12.0                                      0.7   \n",
       "158              15.0                                      1.0   \n",
       "\n",
       "     Publishing_Date_Publishing_Date_jar  Publishing_Date_Publishing_Date_jwn  \\\n",
       "16                              1.000000                             1.000000   \n",
       "46                              1.000000                             1.000000   \n",
       "47                              0.892593                             0.935556   \n",
       "50                              0.825926                             0.895556   \n",
       "158                             1.000000                             1.000000   \n",
       "\n",
       "     Publishing_Date_Publishing_Date_exm  Pages_Pages_exm  Pages_Pages_anm  \\\n",
       "16                                   1.0              1.0         1.000000   \n",
       "46                                   1.0              0.0         0.992188   \n",
       "47                                   0.0              1.0         1.000000   \n",
       "50                                   0.0              1.0         1.000000   \n",
       "158                                  1.0              0.0         0.992188   \n",
       "\n",
       "     Pages_Pages_lev_dist  predicted  \n",
       "16                    0.0        1.0  \n",
       "46                    1.0        1.0  \n",
       "47                    0.0        1.0  \n",
       "50                    0.0        1.0  \n",
       "158                   1.0        1.0  \n",
       "\n",
       "[5 rows x 24 columns]"
      ]
     },
     "execution_count": 61,
     "metadata": {},
     "output_type": "execute_result"
    }
   ],
   "source": [
    "matches.head(5)"
   ]
  },
  {
   "cell_type": "code",
   "execution_count": 62,
   "metadata": {},
   "outputs": [],
   "source": [
    "matches.to_csv('matches.csv', encoding='utf8', index=False)"
   ]
  },
  {
   "cell_type": "markdown",
   "metadata": {},
   "source": [
    "## Merge matches"
   ]
  },
  {
   "cell_type": "code",
   "execution_count": 68,
   "metadata": {},
   "outputs": [],
   "source": [
    "def getOlderDate(time1, time2):\n",
    "    time1 = '-'.join(index if index != '0' else '1' for index in time1.split('-'))\n",
    "    time2 = '-'.join(index if index != '0' else '1' for index in time2.split('-'))\n",
    "    \n",
    "    minValue =  min(datetime.strptime(time1, '%Y-%M-%d'), datetime.strptime(time2, '%Y-%M-%d'))\n",
    "    return minValue.strftime('%Y-%M-%d')"
   ]
  },
  {
   "cell_type": "code",
   "execution_count": 69,
   "metadata": {},
   "outputs": [],
   "source": [
    "def noneHandler(cell1, cell2):\n",
    "    if cell1 == 'nan':\n",
    "        return cell2\n",
    "    elif cell2 == 'nan':\n",
    "        return cell1\n",
    "    else:\n",
    "        return None"
   ]
  },
  {
   "cell_type": "code",
   "execution_count": 70,
   "metadata": {},
   "outputs": [],
   "source": [
    "def merge(matches):\n",
    "    \"\"\"\n",
    "    Takes in the matches dataframe, extracts the matching \n",
    "    rows one by one from each table and then merges them.\n",
    "    \"\"\"\n",
    "    output = []\n",
    "    \n",
    "    # Get the indices of the matching rows from each table as a tuple: e.g. (31, 26)\n",
    "    indices = list(zip(matches['ltable_ID'].tolist(), matches['rtable_ID'].tolist()))\n",
    "    \n",
    "    for index1, index2 in indices:\n",
    "        # Holds the merged row\n",
    "        merged = []\n",
    "        \n",
    "        # take max length\n",
    "        for column in ['Name','Author']:\n",
    "            cell1 = str(A.at[index1, column])\n",
    "            cell2 = str(B.at[index2, column])\n",
    "            \n",
    "            if cell1 != 'nan' and cell2 != 'nan':\n",
    "                merged.append(max(cell1, cell2))\n",
    "            else:\n",
    "                merged.append(noneHandler(cell1, cell2))\n",
    "        \n",
    "        # take the oldest publishing date, publisher and format\n",
    "        for column in ['Publishing_Date']:\n",
    "            cell1 = str(A.at[index1, column])\n",
    "            cell2 = str(B.at[index2, column])\n",
    "            \n",
    "            if cell1 != 'nan' and cell2 != 'nan':\n",
    "                olderDate = getOlderDate(cell1, cell2)\n",
    "                if olderDate == cell1:\n",
    "                    merged += [A.at[index1, 'Publisher'], olderDate, A.at[index1, 'Format']]\n",
    "                else:\n",
    "                    merged += [B.at[index2, 'Publisher'], olderDate, B.at[index2, 'Format']]\n",
    "            elif cell1 == 'nan':\n",
    "                merged += [B.at[index2, 'Publisher'], B.at[index2, 'Publishing_Date'], B.at[index2, 'Format']]\n",
    "            elif cell2 == 'nan':\n",
    "                merged += [A.at[index1, 'Publisher'], A.at[index1, 'Publishing_Date'], A.at[index1, 'Format']]\n",
    "            else:\n",
    "                # Publishing date is none for both\n",
    "                pubCell1 = A.at[index1, 'Publisher']\n",
    "                pubCell2 = B.at[index2, 'Publisher']\n",
    "                formatCell1 = A.at[index1, 'Format']\n",
    "                formatCell2 = B.at[index2, 'Format']\n",
    "                \n",
    "                # Take max of the publisher and format\n",
    "                if pubCell1 != 'nan' and pubCell2 != 'nan' and formatCell1 != 'nan' and formatCell2 != 'nan':\n",
    "                    merged += [max(pubCell1, pubCell2), None, max(formatCell1, formatCell2)]\n",
    "                else:\n",
    "                    merged += [noneHandler(pubCell1, pubCell2), None, noneHandler(formatCell1, formatCell2)]\n",
    "                \n",
    "        for column in ['Pages','Rating']:\n",
    "            cell1 = str(A.at[index1, column])\n",
    "            cell2 = str(B.at[index2, column])\n",
    "            \n",
    "            if cell1 != 'nan' and cell2 != 'nan':\n",
    "                avgValue = np.mean([float(cell1), float(cell2)])\n",
    "                # Round the number of pages to nearest int, as we cannot have 127.5 pages\n",
    "                if column == 'Pages':\n",
    "                    merged.append(str(int(round(avgValue))))\n",
    "                else:\n",
    "                    merged.append(str(round(avgValue, 2)))\n",
    "            else:\n",
    "                merged.append(noneHandler(cell1, cell2))\n",
    "            \n",
    "        output.append(merged)\n",
    "    \n",
    "    return pd.DataFrame(output, columns=['Name', 'Author', 'Publisher', 'Publishing_Date', 'Format','Pages', 'Rating'])"
   ]
  },
  {
   "cell_type": "code",
   "execution_count": 71,
   "metadata": {},
   "outputs": [],
   "source": [
    "merged = merge(matches)"
   ]
  },
  {
   "cell_type": "code",
   "execution_count": 72,
   "metadata": {
    "scrolled": true
   },
   "outputs": [
    {
     "data": {
      "text/html": [
       "<div>\n",
       "<style>\n",
       "    .dataframe thead tr:only-child th {\n",
       "        text-align: right;\n",
       "    }\n",
       "\n",
       "    .dataframe thead th {\n",
       "        text-align: left;\n",
       "    }\n",
       "\n",
       "    .dataframe tbody tr th {\n",
       "        vertical-align: top;\n",
       "    }\n",
       "</style>\n",
       "<table border=\"1\" class=\"dataframe\">\n",
       "  <thead>\n",
       "    <tr style=\"text-align: right;\">\n",
       "      <th></th>\n",
       "      <th>Name</th>\n",
       "      <th>Author</th>\n",
       "      <th>Publisher</th>\n",
       "      <th>Publishing_Date</th>\n",
       "      <th>Format</th>\n",
       "      <th>Pages</th>\n",
       "      <th>Rating</th>\n",
       "    </tr>\n",
       "  </thead>\n",
       "  <tbody>\n",
       "    <tr>\n",
       "      <th>0</th>\n",
       "      <td>Final Fantasy V (Boss Fight Books)</td>\n",
       "      <td>Chris Kohler</td>\n",
       "      <td>Boss Fight Books</td>\n",
       "      <td>2017-10-24</td>\n",
       "      <td>Paperback</td>\n",
       "      <td>176</td>\n",
       "      <td>4.58</td>\n",
       "    </tr>\n",
       "    <tr>\n",
       "      <th>1</th>\n",
       "      <td>Draw More Furries: How to Create Anthropomorphic Fantasy Creatures</td>\n",
       "      <td>Jared Hodges</td>\n",
       "      <td>IMPACT Books</td>\n",
       "      <td>2012-11-23</td>\n",
       "      <td>Kindle</td>\n",
       "      <td>128</td>\n",
       "      <td>4.51</td>\n",
       "    </tr>\n",
       "    <tr>\n",
       "      <th>2</th>\n",
       "      <td>Dismantling the Fantasy: An Invitation to the Fullness of Life</td>\n",
       "      <td>Darryl Bailey</td>\n",
       "      <td>Non-Duality</td>\n",
       "      <td>2010-04-30</td>\n",
       "      <td>Paperback</td>\n",
       "      <td>112</td>\n",
       "      <td>4.23</td>\n",
       "    </tr>\n",
       "    <tr>\n",
       "      <th>3</th>\n",
       "      <td>Fantasy Art Expedition</td>\n",
       "      <td>Finlay Cowan</td>\n",
       "      <td>Impact</td>\n",
       "      <td>2010-03-01</td>\n",
       "      <td>Paperback</td>\n",
       "      <td>128</td>\n",
       "      <td>4.46</td>\n",
       "    </tr>\n",
       "    <tr>\n",
       "      <th>4</th>\n",
       "      <td>Fairies, Gnomes &amp; Trolls: Create a Fantasy World in Polymer Clay</td>\n",
       "      <td>Maureen Carlson</td>\n",
       "      <td>North Light Books</td>\n",
       "      <td>2006-11-20</td>\n",
       "      <td>Hardcover</td>\n",
       "      <td>128</td>\n",
       "      <td>4.38</td>\n",
       "    </tr>\n",
       "    <tr>\n",
       "      <th>5</th>\n",
       "      <td>Final Fantasy VII: Official Strategy Guide</td>\n",
       "      <td>David Cassady</td>\n",
       "      <td>Bradygames</td>\n",
       "      <td>1998-06-12</td>\n",
       "      <td>Paperback</td>\n",
       "      <td>320</td>\n",
       "      <td>4.0</td>\n",
       "    </tr>\n",
       "    <tr>\n",
       "      <th>6</th>\n",
       "      <td>The Anatomy of National Fantasy: Hawthorne, Utopia, and Everyday Life</td>\n",
       "      <td>Lauren Berlant</td>\n",
       "      <td>University Of Chicago Press</td>\n",
       "      <td>1991-08-13</td>\n",
       "      <td>Paperback</td>\n",
       "      <td>278</td>\n",
       "      <td>3.86</td>\n",
       "    </tr>\n",
       "    <tr>\n",
       "      <th>7</th>\n",
       "      <td>The Writer's Guide to Fantasy Literature: From Dragon's Lair to Hero's Quest</td>\n",
       "      <td>Philip Martin</td>\n",
       "      <td>Watson-Guptill Publications</td>\n",
       "      <td>2002-01-01</td>\n",
       "      <td>Paperback</td>\n",
       "      <td>216</td>\n",
       "      <td>4.31</td>\n",
       "    </tr>\n",
       "    <tr>\n",
       "      <th>8</th>\n",
       "      <td>Manga Mania Fantasy Worlds: How to Draw the Enchanted Worlds of Japanese Comics</td>\n",
       "      <td>Christopher Hart</td>\n",
       "      <td>Watson-Guptill</td>\n",
       "      <td>2003-09-01</td>\n",
       "      <td>Paperback</td>\n",
       "      <td>144</td>\n",
       "      <td>3.57</td>\n",
       "    </tr>\n",
       "    <tr>\n",
       "      <th>9</th>\n",
       "      <td>Dreamscapes Magical Menagerie: Creating Fantasy Creatures and Animals with Watercolor</td>\n",
       "      <td>Stephanie Pui-Mun Law</td>\n",
       "      <td>Impact</td>\n",
       "      <td>2012-07-20</td>\n",
       "      <td>Paperback</td>\n",
       "      <td>176</td>\n",
       "      <td>4.8</td>\n",
       "    </tr>\n",
       "    <tr>\n",
       "      <th>10</th>\n",
       "      <td>Great Short Novels of Adult Fantasy Volume II</td>\n",
       "      <td>Lin Carter</td>\n",
       "      <td>Ballantine Books</td>\n",
       "      <td>NaN</td>\n",
       "      <td>Mass Market Paperback</td>\n",
       "      <td>248</td>\n",
       "      <td>3.96</td>\n",
       "    </tr>\n",
       "    <tr>\n",
       "      <th>11</th>\n",
       "      <td>The Fantasy Baseball Black Book 2017 Edition (Fantasy Black Book)</td>\n",
       "      <td>Joe Pisapia</td>\n",
       "      <td>Independently published</td>\n",
       "      <td>2017-1-17</td>\n",
       "      <td>Paperback</td>\n",
       "      <td>182</td>\n",
       "      <td>3.99</td>\n",
       "    </tr>\n",
       "    <tr>\n",
       "      <th>12</th>\n",
       "      <td>The Year's Best Fantasy Stories: 3 (Year's Best Fantasy)</td>\n",
       "      <td>Lin Carter</td>\n",
       "      <td>DAW</td>\n",
       "      <td>1977-11-15</td>\n",
       "      <td>Kindle</td>\n",
       "      <td>224</td>\n",
       "      <td>2.96</td>\n",
       "    </tr>\n",
       "    <tr>\n",
       "      <th>13</th>\n",
       "      <td>Dragon Rampant: Fantasy Wargaming Rules (Osprey Wargames)</td>\n",
       "      <td>Daniel Mersey</td>\n",
       "      <td>Osprey Games</td>\n",
       "      <td>2015-12-22</td>\n",
       "      <td>Kindle</td>\n",
       "      <td>64</td>\n",
       "      <td>4.47</td>\n",
       "    </tr>\n",
       "    <tr>\n",
       "      <th>14</th>\n",
       "      <td>El Borak and Other Desert Adventures</td>\n",
       "      <td>Robert E. Howard</td>\n",
       "      <td>Del Rey</td>\n",
       "      <td>2010-02-09</td>\n",
       "      <td>Paperback</td>\n",
       "      <td>592</td>\n",
       "      <td>4.46</td>\n",
       "    </tr>\n",
       "    <tr>\n",
       "      <th>15</th>\n",
       "      <td>Sweet Life 2: Erotic Fantasies for Couples</td>\n",
       "      <td>Violet Blue</td>\n",
       "      <td>Cleis Press</td>\n",
       "      <td>2003-03-11</td>\n",
       "      <td>Paperback</td>\n",
       "      <td>225</td>\n",
       "      <td>3.72</td>\n",
       "    </tr>\n",
       "    <tr>\n",
       "      <th>16</th>\n",
       "      <td>Based on a True Story: Fact and Fantasy in 100 Favorite Movies</td>\n",
       "      <td>Jonathan Vankin</td>\n",
       "      <td>Chicago Review Press</td>\n",
       "      <td>2005-02-01</td>\n",
       "      <td>Paperback</td>\n",
       "      <td>512</td>\n",
       "      <td>3.78</td>\n",
       "    </tr>\n",
       "    <tr>\n",
       "      <th>17</th>\n",
       "      <td>Sci-Fi &amp; Fantasy Oil Painting Techniques</td>\n",
       "      <td>Patrick J. Jones</td>\n",
       "      <td>Korero Press</td>\n",
       "      <td>2014-08-01</td>\n",
       "      <td>Paperback</td>\n",
       "      <td>192</td>\n",
       "      <td>4.44</td>\n",
       "    </tr>\n",
       "    <tr>\n",
       "      <th>18</th>\n",
       "      <td>Fantasies of a Bollywood Love Thief: Inside the World of Indian Moviemaking</td>\n",
       "      <td>Stephen Alter</td>\n",
       "      <td>Mariner Books</td>\n",
       "      <td>2007-08-06</td>\n",
       "      <td>Paperback</td>\n",
       "      <td>266</td>\n",
       "      <td>4.07</td>\n",
       "    </tr>\n",
       "    <tr>\n",
       "      <th>19</th>\n",
       "      <td>City of Masks: An Epic Fantasy Novel</td>\n",
       "      <td>Ashley Capes</td>\n",
       "      <td>Snapping Turtle Books</td>\n",
       "      <td>2014-05-24</td>\n",
       "      <td>Kindle Edition</td>\n",
       "      <td>456</td>\n",
       "      <td>4.15</td>\n",
       "    </tr>\n",
       "    <tr>\n",
       "      <th>20</th>\n",
       "      <td>Fantasy Begins: Book 1 of the Dungeon Hive Trilogy</td>\n",
       "      <td>Roy Lim</td>\n",
       "      <td>CreateSpace Independent Publishing Platform</td>\n",
       "      <td>2017-8-29</td>\n",
       "      <td>Kindle</td>\n",
       "      <td>338</td>\n",
       "      <td>3.78</td>\n",
       "    </tr>\n",
       "    <tr>\n",
       "      <th>21</th>\n",
       "      <td>Get Started in: Writing Science Fiction and Fantasy (Teach Yourself)</td>\n",
       "      <td>Adam Roberts</td>\n",
       "      <td>Teach Yourself</td>\n",
       "      <td>2014-06-27</td>\n",
       "      <td>Paperback</td>\n",
       "      <td>256</td>\n",
       "      <td>4.57</td>\n",
       "    </tr>\n",
       "    <tr>\n",
       "      <th>22</th>\n",
       "      <td>Her Wicked Fantasy</td>\n",
       "      <td>Taylor Johns</td>\n",
       "      <td>CreateSpace Independent Publishing Platform</td>\n",
       "      <td>2016-11-12</td>\n",
       "      <td>Paperback</td>\n",
       "      <td>370.0</td>\n",
       "      <td>4.69</td>\n",
       "    </tr>\n",
       "    <tr>\n",
       "      <th>23</th>\n",
       "      <td>Chaos Rises: A Veil World Urban Fantasy (Volume 1)</td>\n",
       "      <td>Pippa DaCosta</td>\n",
       "      <td>Createspace Independent Publishing Platform</td>\n",
       "      <td>2016-06-04</td>\n",
       "      <td>Paperback</td>\n",
       "      <td>289</td>\n",
       "      <td>4.08</td>\n",
       "    </tr>\n",
       "    <tr>\n",
       "      <th>24</th>\n",
       "      <td>Lightning Returns: Final Fantasy XIII: The Complete Official Guide - Collector's Edition</td>\n",
       "      <td>Piggyback</td>\n",
       "      <td>Piggyback</td>\n",
       "      <td>2014-02-11</td>\n",
       "      <td>Hardcover</td>\n",
       "      <td>336</td>\n",
       "      <td>4.49</td>\n",
       "    </tr>\n",
       "    <tr>\n",
       "      <th>25</th>\n",
       "      <td>Winning Fantasy Baseball: Secret Strategies of a Nine-Time National Champion</td>\n",
       "      <td>Larry Schechter</td>\n",
       "      <td>Emerald Book Company</td>\n",
       "      <td>2014-01-07</td>\n",
       "      <td>Paperback</td>\n",
       "      <td>360</td>\n",
       "      <td>4.04</td>\n",
       "    </tr>\n",
       "    <tr>\n",
       "      <th>26</th>\n",
       "      <td>Fantasy Cross Stitch</td>\n",
       "      <td>Lesley Teare</td>\n",
       "      <td>David &amp; Charles Publishers</td>\n",
       "      <td>2008-04-01</td>\n",
       "      <td>Hardcover</td>\n",
       "      <td>108</td>\n",
       "      <td>4.08</td>\n",
       "    </tr>\n",
       "    <tr>\n",
       "      <th>27</th>\n",
       "      <td>Your Presidential Fantasy Dream Team</td>\n",
       "      <td>Daniel O'Brien</td>\n",
       "      <td>Crown Books for Young Readers</td>\n",
       "      <td>2016-07-12</td>\n",
       "      <td>Hardcover</td>\n",
       "      <td>272</td>\n",
       "      <td>4.34</td>\n",
       "    </tr>\n",
       "    <tr>\n",
       "      <th>28</th>\n",
       "      <td>Strange Science Fantasy</td>\n",
       "      <td>Scott Morse</td>\n",
       "      <td>IDW Publishing</td>\n",
       "      <td>2011-04-12</td>\n",
       "      <td>Paperback</td>\n",
       "      <td>196</td>\n",
       "      <td>4.36</td>\n",
       "    </tr>\n",
       "    <tr>\n",
       "      <th>29</th>\n",
       "      <td>Puck of Pook's Hill. by Rudyard Kipling</td>\n",
       "      <td>Rudyard Kipling</td>\n",
       "      <td>Createspace Independent Publishing Platform</td>\n",
       "      <td>2016-03-20</td>\n",
       "      <td>Paperback</td>\n",
       "      <td>117</td>\n",
       "      <td>4.24</td>\n",
       "    </tr>\n",
       "    <tr>\n",
       "      <th>...</th>\n",
       "      <td>...</td>\n",
       "      <td>...</td>\n",
       "      <td>...</td>\n",
       "      <td>...</td>\n",
       "      <td>...</td>\n",
       "      <td>...</td>\n",
       "      <td>...</td>\n",
       "    </tr>\n",
       "    <tr>\n",
       "      <th>65</th>\n",
       "      <td>Kanye West's My Beautiful Dark Twisted Fantasy (33 1/3)</td>\n",
       "      <td>Kirk Walker Graves</td>\n",
       "      <td>Bloomsbury Academic</td>\n",
       "      <td>2014-06-19</td>\n",
       "      <td>Paperback</td>\n",
       "      <td>152</td>\n",
       "      <td>3.47</td>\n",
       "    </tr>\n",
       "    <tr>\n",
       "      <th>66</th>\n",
       "      <td>John Howe Fantasy Drawing Workshop</td>\n",
       "      <td>John Howe</td>\n",
       "      <td>Impact</td>\n",
       "      <td>2009-10-01</td>\n",
       "      <td>Paperback</td>\n",
       "      <td>128</td>\n",
       "      <td>4.3</td>\n",
       "    </tr>\n",
       "    <tr>\n",
       "      <th>67</th>\n",
       "      <td>Raptor: Urban Fantasy Noir (Volume 1)</td>\n",
       "      <td>B.A. Bostick</td>\n",
       "      <td>Enchanted Indie Press</td>\n",
       "      <td>2017-04-23</td>\n",
       "      <td>Kindle Edition</td>\n",
       "      <td>524</td>\n",
       "      <td>4.46</td>\n",
       "    </tr>\n",
       "    <tr>\n",
       "      <th>68</th>\n",
       "      <td>Male Fantasies: Volume 1: Women, Floods, Bodies, History</td>\n",
       "      <td>Klaus Theweleit</td>\n",
       "      <td>Univ Of Minnesota Press</td>\n",
       "      <td>1987-04-01</td>\n",
       "      <td>Paperback</td>\n",
       "      <td>544</td>\n",
       "      <td>3.84</td>\n",
       "    </tr>\n",
       "    <tr>\n",
       "      <th>69</th>\n",
       "      <td>The Best American Science Fiction and Fantasy 2017 (The Best American Series ®)</td>\n",
       "      <td>John Joseph Adams</td>\n",
       "      <td>Mariner Books</td>\n",
       "      <td>2017-10-03</td>\n",
       "      <td>Paperback</td>\n",
       "      <td>369</td>\n",
       "      <td>3.48</td>\n",
       "    </tr>\n",
       "    <tr>\n",
       "      <th>70</th>\n",
       "      <td>Grimgar of Fantasy and Ash: Volume 3</td>\n",
       "      <td>Ao Jyumonji</td>\n",
       "      <td>Seven Seas</td>\n",
       "      <td>2017-10-10</td>\n",
       "      <td>Kindle</td>\n",
       "      <td>280</td>\n",
       "      <td>4.53</td>\n",
       "    </tr>\n",
       "    <tr>\n",
       "      <th>71</th>\n",
       "      <td>Final Fantasy XIII: Complete Official Guide - Standard Edition</td>\n",
       "      <td>Piggyback</td>\n",
       "      <td>Piggyback</td>\n",
       "      <td>2010-03-09</td>\n",
       "      <td>Hardcover</td>\n",
       "      <td>264</td>\n",
       "      <td>4.46</td>\n",
       "    </tr>\n",
       "    <tr>\n",
       "      <th>72</th>\n",
       "      <td>Final Fantasy Type-0 Side Story, Vol. 1: The Ice Reaper (Final Fantasy 0-Type)</td>\n",
       "      <td>Tetsuya Nomura</td>\n",
       "      <td>Yen Press</td>\n",
       "      <td>2015-07-21</td>\n",
       "      <td>Paperback</td>\n",
       "      <td>176</td>\n",
       "      <td>4.48</td>\n",
       "    </tr>\n",
       "    <tr>\n",
       "      <th>73</th>\n",
       "      <td>Fantasy</td>\n",
       "      <td>Ben Fama</td>\n",
       "      <td>Ugly Duckling Presse</td>\n",
       "      <td>2015-04-01</td>\n",
       "      <td>Paperback</td>\n",
       "      <td>88</td>\n",
       "      <td>4.34</td>\n",
       "    </tr>\n",
       "    <tr>\n",
       "      <th>74</th>\n",
       "      <td>Fantasy Genesis: A Creativity Game for Fantasy Artists</td>\n",
       "      <td>Chuck Lukacs</td>\n",
       "      <td>IMPACT</td>\n",
       "      <td>2010-03-10</td>\n",
       "      <td>Paperback</td>\n",
       "      <td>144</td>\n",
       "      <td>4.39</td>\n",
       "    </tr>\n",
       "    <tr>\n",
       "      <th>75</th>\n",
       "      <td>The Best Science Fiction and Fantasy of the Year, Volume 4</td>\n",
       "      <td>Jonathan Strahan</td>\n",
       "      <td>Night Shade Books</td>\n",
       "      <td>2009-05-01</td>\n",
       "      <td>Paperback</td>\n",
       "      <td>503</td>\n",
       "      <td>3.76</td>\n",
       "    </tr>\n",
       "    <tr>\n",
       "      <th>76</th>\n",
       "      <td>Fantasy Freaks and Gaming Geeks: An Epic Quest for Reality Among Role Players, Online Gamers, an...</td>\n",
       "      <td>Ethan Gilsdorf</td>\n",
       "      <td>Lyons Press</td>\n",
       "      <td>2009-09-01</td>\n",
       "      <td>Hardcover</td>\n",
       "      <td>336</td>\n",
       "      <td>3.5</td>\n",
       "    </tr>\n",
       "    <tr>\n",
       "      <th>77</th>\n",
       "      <td>Final Fantasy Type-0</td>\n",
       "      <td>Hiroki Chiba</td>\n",
       "      <td>Yen Press</td>\n",
       "      <td>2015-09-22</td>\n",
       "      <td>Paperback</td>\n",
       "      <td>192</td>\n",
       "      <td>3.77</td>\n",
       "    </tr>\n",
       "    <tr>\n",
       "      <th>78</th>\n",
       "      <td>The Best Science Fiction and Fantasy of the Year, Volume 3</td>\n",
       "      <td>Jonathan Strahan</td>\n",
       "      <td>Night Shade Books</td>\n",
       "      <td>2009-05-01</td>\n",
       "      <td>Paperback</td>\n",
       "      <td>478</td>\n",
       "      <td>3.78</td>\n",
       "    </tr>\n",
       "    <tr>\n",
       "      <th>79</th>\n",
       "      <td>Who's Been Sleeping in Your Head?: The Secret World of Sexual Fantasy</td>\n",
       "      <td>Brett Kahr</td>\n",
       "      <td>Basic Books (AZ)</td>\n",
       "      <td>2008-02-01</td>\n",
       "      <td>Hardcover</td>\n",
       "      <td>502</td>\n",
       "      <td>3.68</td>\n",
       "    </tr>\n",
       "    <tr>\n",
       "      <th>80</th>\n",
       "      <td>Grimgar of Fantasy and Ash: Volume 2</td>\n",
       "      <td>Ao Jyumonji</td>\n",
       "      <td>J-Novel Club</td>\n",
       "      <td>2017-08-08</td>\n",
       "      <td>Kindle Edition</td>\n",
       "      <td>280</td>\n",
       "      <td>4.2</td>\n",
       "    </tr>\n",
       "    <tr>\n",
       "      <th>81</th>\n",
       "      <td>Beyond My Control: Forbidden Fantasies in an Uncensored Age</td>\n",
       "      <td>Nancy Friday</td>\n",
       "      <td>Sourcebooks</td>\n",
       "      <td>2009-04-01</td>\n",
       "      <td>Paperback</td>\n",
       "      <td>280</td>\n",
       "      <td>3.24</td>\n",
       "    </tr>\n",
       "    <tr>\n",
       "      <th>82</th>\n",
       "      <td>Grimgar of Fantasy and Ash, Vol. 1</td>\n",
       "      <td>Ao Jyumonji</td>\n",
       "      <td>Seven Seas</td>\n",
       "      <td>2017-10-10</td>\n",
       "      <td>Kindle</td>\n",
       "      <td>252</td>\n",
       "      <td>4.12</td>\n",
       "    </tr>\n",
       "    <tr>\n",
       "      <th>83</th>\n",
       "      <td>Grimgar of Fantasy and Ash, Vol. 1</td>\n",
       "      <td>Ao Jyumonji</td>\n",
       "      <td>Seven Seas</td>\n",
       "      <td>2017-12-12</td>\n",
       "      <td>Kindle</td>\n",
       "      <td>252</td>\n",
       "      <td>3.92</td>\n",
       "    </tr>\n",
       "    <tr>\n",
       "      <th>84</th>\n",
       "      <td>Grimgar of Fantasy and Ash, Vol. 1</td>\n",
       "      <td>Ao Jyumonji</td>\n",
       "      <td>Yen Press</td>\n",
       "      <td>2017-06-20</td>\n",
       "      <td>Paperback</td>\n",
       "      <td>252</td>\n",
       "      <td>3.43</td>\n",
       "    </tr>\n",
       "    <tr>\n",
       "      <th>85</th>\n",
       "      <td>Grimgar of Fantasy and Ash, Vol. 1</td>\n",
       "      <td>Ao Jyumonji</td>\n",
       "      <td>Yen Press</td>\n",
       "      <td>2017-08-08</td>\n",
       "      <td>Paperback</td>\n",
       "      <td>252</td>\n",
       "      <td>3.86</td>\n",
       "    </tr>\n",
       "    <tr>\n",
       "      <th>86</th>\n",
       "      <td>Grimgar of Fantasy and Ash, Vol. 1</td>\n",
       "      <td>Ao Jyumonji</td>\n",
       "      <td>Yen Press</td>\n",
       "      <td>2017-06-06</td>\n",
       "      <td>Paperback</td>\n",
       "      <td>252</td>\n",
       "      <td>3.86</td>\n",
       "    </tr>\n",
       "    <tr>\n",
       "      <th>87</th>\n",
       "      <td>Grimgar of Fantasy and Ash, Vol. 1</td>\n",
       "      <td>Ao Jyumonji</td>\n",
       "      <td>Yen Press</td>\n",
       "      <td>2017-06-20</td>\n",
       "      <td>Paperback</td>\n",
       "      <td>252</td>\n",
       "      <td>3.43</td>\n",
       "    </tr>\n",
       "    <tr>\n",
       "      <th>88</th>\n",
       "      <td>The Fantasy Fiction Formula</td>\n",
       "      <td>Deborah Chester</td>\n",
       "      <td>Manchester University Press</td>\n",
       "      <td>2016-02-01</td>\n",
       "      <td>Paperback</td>\n",
       "      <td>264</td>\n",
       "      <td>4.69</td>\n",
       "    </tr>\n",
       "    <tr>\n",
       "      <th>89</th>\n",
       "      <td>The Chinese Language: Fact and Fantasy</td>\n",
       "      <td>John DeFrancis</td>\n",
       "      <td>University of Hawaii Press</td>\n",
       "      <td>1986-03-01</td>\n",
       "      <td>Paperback</td>\n",
       "      <td>336</td>\n",
       "      <td>3.63</td>\n",
       "    </tr>\n",
       "    <tr>\n",
       "      <th>90</th>\n",
       "      <td>The Art of Final Fantasy IX</td>\n",
       "      <td>Dan Birlew</td>\n",
       "      <td>BradyGames</td>\n",
       "      <td>2000-12-08</td>\n",
       "      <td>Paperback</td>\n",
       "      <td>160</td>\n",
       "      <td>4.34</td>\n",
       "    </tr>\n",
       "    <tr>\n",
       "      <th>91</th>\n",
       "      <td>The Very Best of Fantasy &amp; Science Fiction, Volume 2</td>\n",
       "      <td>Gordon Van Gelder</td>\n",
       "      <td>Tachyon Publications</td>\n",
       "      <td>2014-07-15</td>\n",
       "      <td>Paperback</td>\n",
       "      <td>432</td>\n",
       "      <td>4.13</td>\n",
       "    </tr>\n",
       "    <tr>\n",
       "      <th>92</th>\n",
       "      <td>Official Final Fantasy VII Strategy Guide, Playstation Version (v. 1)</td>\n",
       "      <td>David Cassady</td>\n",
       "      <td>Brady Games</td>\n",
       "      <td>1997-08-28</td>\n",
       "      <td>Paperback</td>\n",
       "      <td>224</td>\n",
       "      <td>4.34</td>\n",
       "    </tr>\n",
       "    <tr>\n",
       "      <th>93</th>\n",
       "      <td>Fashion, Faith, and Fantasy in the New Physics of the Universe</td>\n",
       "      <td>Roger Penrose</td>\n",
       "      <td>Princeton University Press</td>\n",
       "      <td>2016-09-27</td>\n",
       "      <td>Hardcover</td>\n",
       "      <td>520</td>\n",
       "      <td>3.84</td>\n",
       "    </tr>\n",
       "    <tr>\n",
       "      <th>94</th>\n",
       "      <td>The Amazing Spider-Man &amp; Amazing Fantasy No.15</td>\n",
       "      <td>Stan Lee</td>\n",
       "      <td>Barnes &amp; Noble</td>\n",
       "      <td>2003-01-01</td>\n",
       "      <td>Paperback</td>\n",
       "      <td>245</td>\n",
       "      <td>4.21</td>\n",
       "    </tr>\n",
       "  </tbody>\n",
       "</table>\n",
       "<p>95 rows × 7 columns</p>\n",
       "</div>"
      ],
      "text/plain": [
       "                                                                                                   Name  \\\n",
       "0                                                                    Final Fantasy V (Boss Fight Books)   \n",
       "1                                    Draw More Furries: How to Create Anthropomorphic Fantasy Creatures   \n",
       "2                                        Dismantling the Fantasy: An Invitation to the Fullness of Life   \n",
       "3                                                                                Fantasy Art Expedition   \n",
       "4                                      Fairies, Gnomes & Trolls: Create a Fantasy World in Polymer Clay   \n",
       "5                                                            Final Fantasy VII: Official Strategy Guide   \n",
       "6                                 The Anatomy of National Fantasy: Hawthorne, Utopia, and Everyday Life   \n",
       "7                          The Writer's Guide to Fantasy Literature: From Dragon's Lair to Hero's Quest   \n",
       "8                       Manga Mania Fantasy Worlds: How to Draw the Enchanted Worlds of Japanese Comics   \n",
       "9                 Dreamscapes Magical Menagerie: Creating Fantasy Creatures and Animals with Watercolor   \n",
       "10                                                        Great Short Novels of Adult Fantasy Volume II   \n",
       "11                                    The Fantasy Baseball Black Book 2017 Edition (Fantasy Black Book)   \n",
       "12                                             The Year's Best Fantasy Stories: 3 (Year's Best Fantasy)   \n",
       "13                                            Dragon Rampant: Fantasy Wargaming Rules (Osprey Wargames)   \n",
       "14                                                                 El Borak and Other Desert Adventures   \n",
       "15                                                           Sweet Life 2: Erotic Fantasies for Couples   \n",
       "16                                       Based on a True Story: Fact and Fantasy in 100 Favorite Movies   \n",
       "17                                                             Sci-Fi & Fantasy Oil Painting Techniques   \n",
       "18                          Fantasies of a Bollywood Love Thief: Inside the World of Indian Moviemaking   \n",
       "19                                                                 City of Masks: An Epic Fantasy Novel   \n",
       "20                                                   Fantasy Begins: Book 1 of the Dungeon Hive Trilogy   \n",
       "21                                 Get Started in: Writing Science Fiction and Fantasy (Teach Yourself)   \n",
       "22                                                                                   Her Wicked Fantasy   \n",
       "23                                                   Chaos Rises: A Veil World Urban Fantasy (Volume 1)   \n",
       "24             Lightning Returns: Final Fantasy XIII: The Complete Official Guide - Collector's Edition   \n",
       "25                         Winning Fantasy Baseball: Secret Strategies of a Nine-Time National Champion   \n",
       "26                                                                                 Fantasy Cross Stitch   \n",
       "27                                                                 Your Presidential Fantasy Dream Team   \n",
       "28                                                                              Strange Science Fantasy   \n",
       "29                                                              Puck of Pook's Hill. by Rudyard Kipling   \n",
       "..                                                                                                  ...   \n",
       "65                                              Kanye West's My Beautiful Dark Twisted Fantasy (33 1/3)   \n",
       "66                                                                   John Howe Fantasy Drawing Workshop   \n",
       "67                                                                Raptor: Urban Fantasy Noir (Volume 1)   \n",
       "68                                             Male Fantasies: Volume 1: Women, Floods, Bodies, History   \n",
       "69                      The Best American Science Fiction and Fantasy 2017 (The Best American Series ®)   \n",
       "70                                                                 Grimgar of Fantasy and Ash: Volume 3   \n",
       "71                                       Final Fantasy XIII: Complete Official Guide - Standard Edition   \n",
       "72                       Final Fantasy Type-0 Side Story, Vol. 1: The Ice Reaper (Final Fantasy 0-Type)   \n",
       "73                                                                                              Fantasy   \n",
       "74                                               Fantasy Genesis: A Creativity Game for Fantasy Artists   \n",
       "75                                           The Best Science Fiction and Fantasy of the Year, Volume 4   \n",
       "76  Fantasy Freaks and Gaming Geeks: An Epic Quest for Reality Among Role Players, Online Gamers, an...   \n",
       "77                                                                                 Final Fantasy Type-0   \n",
       "78                                           The Best Science Fiction and Fantasy of the Year, Volume 3   \n",
       "79                                Who's Been Sleeping in Your Head?: The Secret World of Sexual Fantasy   \n",
       "80                                                                 Grimgar of Fantasy and Ash: Volume 2   \n",
       "81                                          Beyond My Control: Forbidden Fantasies in an Uncensored Age   \n",
       "82                                                                   Grimgar of Fantasy and Ash, Vol. 1   \n",
       "83                                                                   Grimgar of Fantasy and Ash, Vol. 1   \n",
       "84                                                                   Grimgar of Fantasy and Ash, Vol. 1   \n",
       "85                                                                   Grimgar of Fantasy and Ash, Vol. 1   \n",
       "86                                                                   Grimgar of Fantasy and Ash, Vol. 1   \n",
       "87                                                                   Grimgar of Fantasy and Ash, Vol. 1   \n",
       "88                                                                          The Fantasy Fiction Formula   \n",
       "89                                                               The Chinese Language: Fact and Fantasy   \n",
       "90                                                                          The Art of Final Fantasy IX   \n",
       "91                                                 The Very Best of Fantasy & Science Fiction, Volume 2   \n",
       "92                                Official Final Fantasy VII Strategy Guide, Playstation Version (v. 1)   \n",
       "93                                       Fashion, Faith, and Fantasy in the New Physics of the Universe   \n",
       "94                                                       The Amazing Spider-Man & Amazing Fantasy No.15   \n",
       "\n",
       "                   Author                                    Publisher  \\\n",
       "0            Chris Kohler                             Boss Fight Books   \n",
       "1            Jared Hodges                                 IMPACT Books   \n",
       "2           Darryl Bailey                                  Non-Duality   \n",
       "3            Finlay Cowan                                       Impact   \n",
       "4         Maureen Carlson                            North Light Books   \n",
       "5           David Cassady                                   Bradygames   \n",
       "6          Lauren Berlant                  University Of Chicago Press   \n",
       "7           Philip Martin                  Watson-Guptill Publications   \n",
       "8        Christopher Hart                               Watson-Guptill   \n",
       "9   Stephanie Pui-Mun Law                                       Impact   \n",
       "10             Lin Carter                             Ballantine Books   \n",
       "11            Joe Pisapia                      Independently published   \n",
       "12             Lin Carter                                          DAW   \n",
       "13          Daniel Mersey                                 Osprey Games   \n",
       "14       Robert E. Howard                                      Del Rey   \n",
       "15            Violet Blue                                  Cleis Press   \n",
       "16        Jonathan Vankin                         Chicago Review Press   \n",
       "17       Patrick J. Jones                                 Korero Press   \n",
       "18          Stephen Alter                                Mariner Books   \n",
       "19           Ashley Capes                        Snapping Turtle Books   \n",
       "20                Roy Lim  CreateSpace Independent Publishing Platform   \n",
       "21           Adam Roberts                               Teach Yourself   \n",
       "22           Taylor Johns  CreateSpace Independent Publishing Platform   \n",
       "23          Pippa DaCosta  Createspace Independent Publishing Platform   \n",
       "24              Piggyback                                    Piggyback   \n",
       "25        Larry Schechter                         Emerald Book Company   \n",
       "26           Lesley Teare                   David & Charles Publishers   \n",
       "27         Daniel O'Brien                Crown Books for Young Readers   \n",
       "28            Scott Morse                               IDW Publishing   \n",
       "29        Rudyard Kipling  Createspace Independent Publishing Platform   \n",
       "..                    ...                                          ...   \n",
       "65     Kirk Walker Graves                          Bloomsbury Academic   \n",
       "66              John Howe                                       Impact   \n",
       "67           B.A. Bostick                        Enchanted Indie Press   \n",
       "68        Klaus Theweleit                      Univ Of Minnesota Press   \n",
       "69      John Joseph Adams                                Mariner Books   \n",
       "70            Ao Jyumonji                                   Seven Seas   \n",
       "71              Piggyback                                    Piggyback   \n",
       "72         Tetsuya Nomura                                    Yen Press   \n",
       "73               Ben Fama                         Ugly Duckling Presse   \n",
       "74           Chuck Lukacs                                       IMPACT   \n",
       "75       Jonathan Strahan                            Night Shade Books   \n",
       "76         Ethan Gilsdorf                                  Lyons Press   \n",
       "77           Hiroki Chiba                                    Yen Press   \n",
       "78       Jonathan Strahan                            Night Shade Books   \n",
       "79             Brett Kahr                             Basic Books (AZ)   \n",
       "80            Ao Jyumonji                                 J-Novel Club   \n",
       "81           Nancy Friday                                  Sourcebooks   \n",
       "82            Ao Jyumonji                                   Seven Seas   \n",
       "83            Ao Jyumonji                                   Seven Seas   \n",
       "84            Ao Jyumonji                                    Yen Press   \n",
       "85            Ao Jyumonji                                    Yen Press   \n",
       "86            Ao Jyumonji                                    Yen Press   \n",
       "87            Ao Jyumonji                                    Yen Press   \n",
       "88        Deborah Chester                  Manchester University Press   \n",
       "89         John DeFrancis                   University of Hawaii Press   \n",
       "90             Dan Birlew                                   BradyGames   \n",
       "91      Gordon Van Gelder                         Tachyon Publications   \n",
       "92          David Cassady                                  Brady Games   \n",
       "93          Roger Penrose                   Princeton University Press   \n",
       "94               Stan Lee                               Barnes & Noble   \n",
       "\n",
       "   Publishing_Date                 Format  Pages Rating  \n",
       "0       2017-10-24              Paperback    176   4.58  \n",
       "1       2012-11-23                 Kindle    128   4.51  \n",
       "2       2010-04-30              Paperback    112   4.23  \n",
       "3       2010-03-01              Paperback    128   4.46  \n",
       "4       2006-11-20              Hardcover    128   4.38  \n",
       "5       1998-06-12              Paperback    320    4.0  \n",
       "6       1991-08-13              Paperback    278   3.86  \n",
       "7       2002-01-01              Paperback    216   4.31  \n",
       "8       2003-09-01              Paperback    144   3.57  \n",
       "9       2012-07-20              Paperback    176    4.8  \n",
       "10             NaN  Mass Market Paperback    248   3.96  \n",
       "11       2017-1-17              Paperback    182   3.99  \n",
       "12      1977-11-15                 Kindle    224   2.96  \n",
       "13      2015-12-22                 Kindle     64   4.47  \n",
       "14      2010-02-09              Paperback    592   4.46  \n",
       "15      2003-03-11              Paperback    225   3.72  \n",
       "16      2005-02-01              Paperback    512   3.78  \n",
       "17      2014-08-01              Paperback    192   4.44  \n",
       "18      2007-08-06              Paperback    266   4.07  \n",
       "19      2014-05-24         Kindle Edition    456   4.15  \n",
       "20       2017-8-29                 Kindle    338   3.78  \n",
       "21      2014-06-27              Paperback    256   4.57  \n",
       "22      2016-11-12              Paperback  370.0   4.69  \n",
       "23      2016-06-04              Paperback    289   4.08  \n",
       "24      2014-02-11              Hardcover    336   4.49  \n",
       "25      2014-01-07              Paperback    360   4.04  \n",
       "26      2008-04-01              Hardcover    108   4.08  \n",
       "27      2016-07-12              Hardcover    272   4.34  \n",
       "28      2011-04-12              Paperback    196   4.36  \n",
       "29      2016-03-20              Paperback    117   4.24  \n",
       "..             ...                    ...    ...    ...  \n",
       "65      2014-06-19              Paperback    152   3.47  \n",
       "66      2009-10-01              Paperback    128    4.3  \n",
       "67      2017-04-23         Kindle Edition    524   4.46  \n",
       "68      1987-04-01              Paperback    544   3.84  \n",
       "69      2017-10-03              Paperback    369   3.48  \n",
       "70      2017-10-10                 Kindle    280   4.53  \n",
       "71      2010-03-09              Hardcover    264   4.46  \n",
       "72      2015-07-21              Paperback    176   4.48  \n",
       "73      2015-04-01              Paperback     88   4.34  \n",
       "74      2010-03-10              Paperback    144   4.39  \n",
       "75      2009-05-01              Paperback    503   3.76  \n",
       "76      2009-09-01              Hardcover    336    3.5  \n",
       "77      2015-09-22              Paperback    192   3.77  \n",
       "78      2009-05-01              Paperback    478   3.78  \n",
       "79      2008-02-01              Hardcover    502   3.68  \n",
       "80      2017-08-08         Kindle Edition    280    4.2  \n",
       "81      2009-04-01              Paperback    280   3.24  \n",
       "82      2017-10-10                 Kindle    252   4.12  \n",
       "83      2017-12-12                 Kindle    252   3.92  \n",
       "84      2017-06-20              Paperback    252   3.43  \n",
       "85      2017-08-08              Paperback    252   3.86  \n",
       "86      2017-06-06              Paperback    252   3.86  \n",
       "87      2017-06-20              Paperback    252   3.43  \n",
       "88      2016-02-01              Paperback    264   4.69  \n",
       "89      1986-03-01              Paperback    336   3.63  \n",
       "90      2000-12-08              Paperback    160   4.34  \n",
       "91      2014-07-15              Paperback    432   4.13  \n",
       "92      1997-08-28              Paperback    224   4.34  \n",
       "93      2016-09-27              Hardcover    520   3.84  \n",
       "94      2003-01-01              Paperback    245   4.21  \n",
       "\n",
       "[95 rows x 7 columns]"
      ]
     },
     "execution_count": 72,
     "metadata": {},
     "output_type": "execute_result"
    }
   ],
   "source": [
    "merged"
   ]
  },
  {
   "cell_type": "code",
   "execution_count": 73,
   "metadata": {},
   "outputs": [
    {
     "data": {
      "text/plain": [
       "95"
      ]
     },
     "execution_count": 73,
     "metadata": {},
     "output_type": "execute_result"
    }
   ],
   "source": [
    "len(merged)"
   ]
  },
  {
   "cell_type": "code",
   "execution_count": 74,
   "metadata": {},
   "outputs": [],
   "source": [
    "merged.to_csv('merged.csv', encoding='utf8', index=False)"
   ]
  },
  {
   "cell_type": "markdown",
   "metadata": {},
   "source": [
    "## Drop the matches"
   ]
  },
  {
   "cell_type": "code",
   "execution_count": 75,
   "metadata": {
    "scrolled": true
   },
   "outputs": [
    {
     "data": {
      "text/html": [
       "<div>\n",
       "<style>\n",
       "    .dataframe thead tr:only-child th {\n",
       "        text-align: right;\n",
       "    }\n",
       "\n",
       "    .dataframe thead th {\n",
       "        text-align: left;\n",
       "    }\n",
       "\n",
       "    .dataframe tbody tr th {\n",
       "        vertical-align: top;\n",
       "    }\n",
       "</style>\n",
       "<table border=\"1\" class=\"dataframe\">\n",
       "  <thead>\n",
       "    <tr style=\"text-align: right;\">\n",
       "      <th></th>\n",
       "      <th>_id</th>\n",
       "      <th>ltable_ID</th>\n",
       "      <th>rtable_ID</th>\n",
       "      <th>Name_Name_jac_qgm_3_qgm_3</th>\n",
       "      <th>Name_Name_cos_dlm_dc0_dlm_dc0</th>\n",
       "      <th>Name_Name_mel</th>\n",
       "      <th>Name_Name_lev_dist</th>\n",
       "      <th>Name_Name_lev_sim</th>\n",
       "      <th>Author_Author_jac_qgm_3_qgm_3</th>\n",
       "      <th>Author_Author_cos_dlm_dc0_dlm_dc0</th>\n",
       "      <th>...</th>\n",
       "      <th>Author_Author_nmw</th>\n",
       "      <th>Author_Author_sw</th>\n",
       "      <th>Publishing_Date_Publishing_Date_lev_sim</th>\n",
       "      <th>Publishing_Date_Publishing_Date_jar</th>\n",
       "      <th>Publishing_Date_Publishing_Date_jwn</th>\n",
       "      <th>Publishing_Date_Publishing_Date_exm</th>\n",
       "      <th>Pages_Pages_exm</th>\n",
       "      <th>Pages_Pages_anm</th>\n",
       "      <th>Pages_Pages_lev_dist</th>\n",
       "      <th>predicted</th>\n",
       "    </tr>\n",
       "  </thead>\n",
       "  <tbody>\n",
       "    <tr>\n",
       "      <th>16</th>\n",
       "      <td>2</td>\n",
       "      <td>31</td>\n",
       "      <td>26</td>\n",
       "      <td>0.394737</td>\n",
       "      <td>0.707107</td>\n",
       "      <td>0.888235</td>\n",
       "      <td>19.0</td>\n",
       "      <td>0.441176</td>\n",
       "      <td>1.0</td>\n",
       "      <td>1.0</td>\n",
       "      <td>...</td>\n",
       "      <td>12.0</td>\n",
       "      <td>12.0</td>\n",
       "      <td>1.0</td>\n",
       "      <td>1.000000</td>\n",
       "      <td>1.000000</td>\n",
       "      <td>1.0</td>\n",
       "      <td>1.0</td>\n",
       "      <td>1.000000</td>\n",
       "      <td>0.0</td>\n",
       "      <td>1.0</td>\n",
       "    </tr>\n",
       "    <tr>\n",
       "      <th>46</th>\n",
       "      <td>4</td>\n",
       "      <td>620</td>\n",
       "      <td>94</td>\n",
       "      <td>0.816901</td>\n",
       "      <td>0.888889</td>\n",
       "      <td>0.963163</td>\n",
       "      <td>8.0</td>\n",
       "      <td>0.878788</td>\n",
       "      <td>1.0</td>\n",
       "      <td>1.0</td>\n",
       "      <td>...</td>\n",
       "      <td>12.0</td>\n",
       "      <td>12.0</td>\n",
       "      <td>1.0</td>\n",
       "      <td>1.000000</td>\n",
       "      <td>1.000000</td>\n",
       "      <td>1.0</td>\n",
       "      <td>0.0</td>\n",
       "      <td>0.992188</td>\n",
       "      <td>1.0</td>\n",
       "      <td>1.0</td>\n",
       "    </tr>\n",
       "    <tr>\n",
       "      <th>47</th>\n",
       "      <td>5</td>\n",
       "      <td>529</td>\n",
       "      <td>97</td>\n",
       "      <td>1.000000</td>\n",
       "      <td>1.000000</td>\n",
       "      <td>1.000000</td>\n",
       "      <td>0.0</td>\n",
       "      <td>1.000000</td>\n",
       "      <td>1.0</td>\n",
       "      <td>1.0</td>\n",
       "      <td>...</td>\n",
       "      <td>13.0</td>\n",
       "      <td>13.0</td>\n",
       "      <td>0.9</td>\n",
       "      <td>0.892593</td>\n",
       "      <td>0.935556</td>\n",
       "      <td>0.0</td>\n",
       "      <td>1.0</td>\n",
       "      <td>1.000000</td>\n",
       "      <td>0.0</td>\n",
       "      <td>1.0</td>\n",
       "    </tr>\n",
       "    <tr>\n",
       "      <th>50</th>\n",
       "      <td>6</td>\n",
       "      <td>1165</td>\n",
       "      <td>104</td>\n",
       "      <td>1.000000</td>\n",
       "      <td>1.000000</td>\n",
       "      <td>1.000000</td>\n",
       "      <td>0.0</td>\n",
       "      <td>1.000000</td>\n",
       "      <td>1.0</td>\n",
       "      <td>1.0</td>\n",
       "      <td>...</td>\n",
       "      <td>12.0</td>\n",
       "      <td>12.0</td>\n",
       "      <td>0.7</td>\n",
       "      <td>0.825926</td>\n",
       "      <td>0.895556</td>\n",
       "      <td>0.0</td>\n",
       "      <td>1.0</td>\n",
       "      <td>1.000000</td>\n",
       "      <td>0.0</td>\n",
       "      <td>1.0</td>\n",
       "    </tr>\n",
       "    <tr>\n",
       "      <th>158</th>\n",
       "      <td>20</td>\n",
       "      <td>136</td>\n",
       "      <td>281</td>\n",
       "      <td>1.000000</td>\n",
       "      <td>1.000000</td>\n",
       "      <td>1.000000</td>\n",
       "      <td>0.0</td>\n",
       "      <td>1.000000</td>\n",
       "      <td>1.0</td>\n",
       "      <td>1.0</td>\n",
       "      <td>...</td>\n",
       "      <td>15.0</td>\n",
       "      <td>15.0</td>\n",
       "      <td>1.0</td>\n",
       "      <td>1.000000</td>\n",
       "      <td>1.000000</td>\n",
       "      <td>1.0</td>\n",
       "      <td>0.0</td>\n",
       "      <td>0.992188</td>\n",
       "      <td>1.0</td>\n",
       "      <td>1.0</td>\n",
       "    </tr>\n",
       "  </tbody>\n",
       "</table>\n",
       "<p>5 rows × 24 columns</p>\n",
       "</div>"
      ],
      "text/plain": [
       "     _id  ltable_ID  rtable_ID  Name_Name_jac_qgm_3_qgm_3  \\\n",
       "16     2         31         26                   0.394737   \n",
       "46     4        620         94                   0.816901   \n",
       "47     5        529         97                   1.000000   \n",
       "50     6       1165        104                   1.000000   \n",
       "158   20        136        281                   1.000000   \n",
       "\n",
       "     Name_Name_cos_dlm_dc0_dlm_dc0  Name_Name_mel  Name_Name_lev_dist  \\\n",
       "16                        0.707107       0.888235                19.0   \n",
       "46                        0.888889       0.963163                 8.0   \n",
       "47                        1.000000       1.000000                 0.0   \n",
       "50                        1.000000       1.000000                 0.0   \n",
       "158                       1.000000       1.000000                 0.0   \n",
       "\n",
       "     Name_Name_lev_sim  Author_Author_jac_qgm_3_qgm_3  \\\n",
       "16            0.441176                            1.0   \n",
       "46            0.878788                            1.0   \n",
       "47            1.000000                            1.0   \n",
       "50            1.000000                            1.0   \n",
       "158           1.000000                            1.0   \n",
       "\n",
       "     Author_Author_cos_dlm_dc0_dlm_dc0    ...      Author_Author_nmw  \\\n",
       "16                                 1.0    ...                   12.0   \n",
       "46                                 1.0    ...                   12.0   \n",
       "47                                 1.0    ...                   13.0   \n",
       "50                                 1.0    ...                   12.0   \n",
       "158                                1.0    ...                   15.0   \n",
       "\n",
       "     Author_Author_sw  Publishing_Date_Publishing_Date_lev_sim  \\\n",
       "16               12.0                                      1.0   \n",
       "46               12.0                                      1.0   \n",
       "47               13.0                                      0.9   \n",
       "50               12.0                                      0.7   \n",
       "158              15.0                                      1.0   \n",
       "\n",
       "     Publishing_Date_Publishing_Date_jar  Publishing_Date_Publishing_Date_jwn  \\\n",
       "16                              1.000000                             1.000000   \n",
       "46                              1.000000                             1.000000   \n",
       "47                              0.892593                             0.935556   \n",
       "50                              0.825926                             0.895556   \n",
       "158                             1.000000                             1.000000   \n",
       "\n",
       "     Publishing_Date_Publishing_Date_exm  Pages_Pages_exm  Pages_Pages_anm  \\\n",
       "16                                   1.0              1.0         1.000000   \n",
       "46                                   1.0              0.0         0.992188   \n",
       "47                                   0.0              1.0         1.000000   \n",
       "50                                   0.0              1.0         1.000000   \n",
       "158                                  1.0              0.0         0.992188   \n",
       "\n",
       "     Pages_Pages_lev_dist  predicted  \n",
       "16                    0.0        1.0  \n",
       "46                    1.0        1.0  \n",
       "47                    0.0        1.0  \n",
       "50                    0.0        1.0  \n",
       "158                   1.0        1.0  \n",
       "\n",
       "[5 rows x 24 columns]"
      ]
     },
     "execution_count": 75,
     "metadata": {},
     "output_type": "execute_result"
    }
   ],
   "source": [
    "matches.head()"
   ]
  },
  {
   "cell_type": "code",
   "execution_count": 76,
   "metadata": {},
   "outputs": [],
   "source": [
    "aIndices = set(matches['ltable_ID'].tolist())\n",
    "bIndices = set(matches['rtable_ID'].tolist())"
   ]
  },
  {
   "cell_type": "code",
   "execution_count": 85,
   "metadata": {},
   "outputs": [
    {
     "data": {
      "text/plain": [
       "(87, 87)"
      ]
     },
     "execution_count": 85,
     "metadata": {},
     "output_type": "execute_result"
    }
   ],
   "source": [
    "len(aIndices), len(bIndices)"
   ]
  },
  {
   "cell_type": "code",
   "execution_count": 79,
   "metadata": {},
   "outputs": [
    {
     "data": {
      "text/plain": [
       "(3387, 3001)"
      ]
     },
     "execution_count": 79,
     "metadata": {},
     "output_type": "execute_result"
    }
   ],
   "source": [
    "len(A), len(B)"
   ]
  },
  {
   "cell_type": "code",
   "execution_count": 82,
   "metadata": {},
   "outputs": [],
   "source": [
    "for i in aIndices:\n",
    "    A.drop(i, inplace=True, axis=0)"
   ]
  },
  {
   "cell_type": "code",
   "execution_count": 83,
   "metadata": {},
   "outputs": [],
   "source": [
    "for i in bIndices:\n",
    "    B.drop(i, inplace=True, axis=0)"
   ]
  },
  {
   "cell_type": "code",
   "execution_count": 84,
   "metadata": {},
   "outputs": [
    {
     "data": {
      "text/plain": [
       "(3300, 2914)"
      ]
     },
     "execution_count": 84,
     "metadata": {},
     "output_type": "execute_result"
    }
   ],
   "source": [
    "len(A), len(B)"
   ]
  },
  {
   "cell_type": "code",
   "execution_count": 88,
   "metadata": {},
   "outputs": [
    {
     "data": {
      "text/plain": [
       "95"
      ]
     },
     "execution_count": 88,
     "metadata": {},
     "output_type": "execute_result"
    }
   ],
   "source": [
    "len(merged)"
   ]
  },
  {
   "cell_type": "code",
   "execution_count": 89,
   "metadata": {},
   "outputs": [
    {
     "data": {
      "text/plain": [
       "6309"
      ]
     },
     "execution_count": 89,
     "metadata": {},
     "output_type": "execute_result"
    }
   ],
   "source": [
    "3300 + 2914 + 95"
   ]
  },
  {
   "cell_type": "markdown",
   "metadata": {},
   "source": [
    "## Merge to create Table E"
   ]
  },
  {
   "cell_type": "code",
   "execution_count": 86,
   "metadata": {},
   "outputs": [],
   "source": [
    "E = pd.concat([A, B, merged])"
   ]
  },
  {
   "cell_type": "code",
   "execution_count": 87,
   "metadata": {},
   "outputs": [
    {
     "data": {
      "text/plain": [
       "6309"
      ]
     },
     "execution_count": 87,
     "metadata": {},
     "output_type": "execute_result"
    }
   ],
   "source": [
    "len(E)"
   ]
  },
  {
   "cell_type": "code",
   "execution_count": 90,
   "metadata": {},
   "outputs": [],
   "source": [
    "E.to_csv('E.csv', encoding='utf8', index=False)"
   ]
  }
 ],
 "metadata": {
  "kernelspec": {
   "display_name": "Python 3",
   "language": "python",
   "name": "python3"
  },
  "language_info": {
   "codemirror_mode": {
    "name": "ipython",
    "version": 3
   },
   "file_extension": ".py",
   "mimetype": "text/x-python",
   "name": "python",
   "nbconvert_exporter": "python",
   "pygments_lexer": "ipython3",
   "version": "3.5.2"
  }
 },
 "nbformat": 4,
 "nbformat_minor": 2
}
